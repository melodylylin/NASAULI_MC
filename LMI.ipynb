{
 "cells": [
  {
   "cell_type": "code",
   "execution_count": 1,
   "metadata": {},
   "outputs": [
    {
     "name": "stderr",
     "output_type": "stream",
     "text": [
      "/opt/anaconda3/lib/python3.8/site-packages/scipy/__init__.py:146: UserWarning: A NumPy version >=1.16.5 and <1.23.0 is required for this version of SciPy (detected version 1.24.2\n",
      "  warnings.warn(f\"A NumPy version >={np_minversion} and <{np_maxversion}\"\n"
     ]
    }
   ],
   "source": [
    "import numpy as np\n",
    "from pytope import Polytope # not sure if it works for 3D\n",
    "import picos\n",
    "import scipy.optimize\n",
    "import control\n",
    "import itertools\n",
    "\n",
    "from IntervalHull import qhull2D, minBoundingRect\n",
    "from SE2Lie import *"
   ]
  },
  {
   "cell_type": "code",
   "execution_count": null,
   "metadata": {},
   "outputs": [],
   "source": [
    "def solve_lmi(alpha, A, verbosity=0):\n",
    "    \n",
    "    prob = picos.Problem()\n",
    "    P = picos.SymmetricVariable('P', (3, 3))\n",
    "    P1 = P[:2, :]\n",
    "    P2 = P[2, :]\n",
    "    mu1 = picos.RealVariable('mu_1')\n",
    "    mu2 = picos.RealVariable('mu_2')\n",
    "    gam = mu1 + mu2\n",
    "    for Ai in A:\n",
    "\n",
    "        block_eq1 = picos.block([\n",
    "            [Ai.T*P + P*Ai + alpha*P, P1.T, P2.T],\n",
    "            [P1, -alpha*mu1*np.eye(2), 0],\n",
    "            [P2, 0, -alpha*mu2]])\n",
    "    \n",
    "        prob.add_constraint(block_eq1 << 0) # dV < 0\n",
    "    prob.add_constraint(P >> 1)\n",
    "    prob.add_constraint(mu1 >> 0)\n",
    "    prob.add_constraint(mu2 >> 0)\n",
    "    prob.set_objective('min', mu1 + mu2)\n",
    "    try:\n",
    "        prob.solve(options={'verbosity': verbosity})\n",
    "        cost = gam.value\n",
    "    except Exception as e:\n",
    "        print(e)\n",
    "        cost = -1\n",
    "    return {\n",
    "        'cost': cost,\n",
    "        'prob': prob,\n",
    "        'mu1': mu1.value,\n",
    "        'mu2': mu2.value,\n",
    "        'P': np.round(np.array(P.value), 3),\n",
    "        'alpha':alpha,\n",
    "        'gam': gam\n",
    "    }\n",
    "\n",
    "def find_omega_invariant_set(A, B, verbosity=0):\n",
    "    eig = np.linalg.eig(A)[0]\n",
    "    \n",
    "    # we use fmin to solve a line search problem in alpha for minimum gamma\n",
    "    if verbosity > 0:\n",
    "        print('line search')\n",
    "    \n",
    "    # we perform a line search over alpha to find the largest convergence rate possible\n",
    "    alpha_1 = -np.real(np.max(eig)) # smallest magnitude value from eig-value, and range has to be positive\n",
    "    alpha_opt = scipy.optimize.fminbound(lambda alpha: solve_lmi(alpha, A, B, verbosity=verbosity)['cost'], x1=1e-5, x2=alpha_1, disp=True if verbosity > 0 else False)\n",
    "    \n",
    "    # if the alpha optimization fail, pick a fixed value for alpha.\n",
    "    sol = solve_lmi(alpha_opt, A, B)\n",
    "    prob = sol['prob']\n",
    "    if prob.status == 'optimal':\n",
    "        P = prob.variables['P'].value\n",
    "        mu1 =  prob.variables['mu_1'].value\n",
    "        if verbosity > 0:\n",
    "            print(sol)\n",
    "    else:\n",
    "        raise RuntimeError('Optimization failed')\n",
    "        \n",
    "    return sol"
   ]
  }
 ],
 "metadata": {
  "kernelspec": {
   "display_name": "base",
   "language": "python",
   "name": "python3"
  },
  "language_info": {
   "codemirror_mode": {
    "name": "ipython",
    "version": 3
   },
   "file_extension": ".py",
   "mimetype": "text/x-python",
   "name": "python",
   "nbconvert_exporter": "python",
   "pygments_lexer": "ipython3",
   "version": "3.8.12"
  },
  "orig_nbformat": 4
 },
 "nbformat": 4,
 "nbformat_minor": 2
}
