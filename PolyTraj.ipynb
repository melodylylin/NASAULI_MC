{
 "cells": [
  {
   "cell_type": "markdown",
   "id": "ede98d59-5deb-49a6-afe9-c7822b87b6ab",
   "metadata": {},
   "source": [
    "# Polynomial Derivatives\n",
    "\n",
    "$ p_t = c_0 + c_1 t + c_2 t^2 + c_3 t^3 + c_4 t^4\\dots + c_n t^n = \\sum\\limits_{k=0}^{n} c_k t^k$\n",
    "\n",
    "$\\dot{p_t} = c_1 + c_2 2 t + c_3 3 t^2 + c_4 3 t^3 + \\dots + c_n n t^n = \\sum\\limits_{k=1}^{n} c_k k t^{k-1}$\n",
    "\n",
    "$\\ddot{p_t} = c_2 2 + c_3 6 t + c_4 12 t^2\\dots = \\sum\\limits_{k=2}^{n} c_k k(k-1) t^{k-2}$\n",
    "\n",
    "$\\ddot{p_t} = c_3 6 + c_4 28 t\\dots = \\sum\\limits_{k=3}^{n} c_k k(k-1)(k-2) t^{k-3}$\n",
    "\n",
    "$p_t^{(m)} = \\sum\\limits_{k=m}^{n} c_{k} \\frac{!k}{!(k-m)} t^{k-m}$"
   ]
  },
  {
   "cell_type": "markdown",
   "id": "23b3c44e-1f34-46af-9079-5432a30f8762",
   "metadata": {},
   "source": [
    "# Polynomial Derivatives with Time Scaling\n",
    "\n",
    "$ \\beta = t/T$\n",
    "\n",
    "$ \\dot{\\beta} = 1/T$\n",
    "\n",
    "$ p_\\beta = c_0 + c_1 T \\beta + c_2 T^2 \\beta^2 + c_3 T^3 \\beta^3 + c_4 T^4 \\beta^4\\dots = \\sum\\limits_{k=0}^{n} c_k T^k \\beta^k$\n",
    "\n",
    "$ \\dot{p_{\\beta}} = \\dfrac{dp}{d\\beta} \\dfrac{d \\beta}{dt} = (c_1 T + c_2 2 T^2 \\beta + c_3 3 T^3 \\beta^2 + c_4 4 T^4 \\beta^3\\dots) /T = \\sum\\limits_{k=1}^{n} c_k k T^{k-1} \\beta^{k-1}$\n",
    "\n",
    "$p_{\\beta}^{(m)} = \\sum\\limits_{k=m}^{n} c_{k} \\frac{!k}{!(k-m)} T^{k-m} \\beta^{k-m}$"
   ]
  },
  {
   "cell_type": "markdown",
   "id": "9b539fb1-c10d-4b58-aa51-c5f2dbf12fff",
   "metadata": {},
   "source": [
    "$\n",
    "\\begin{bmatrix}\n",
    "p(t) \\\\\n",
    "p(0) \\\\\n",
    "p(1) \\\\\n",
    "\\dot{p}(t) \\\\\n",
    "\\end{bmatrix} = \n",
    "\\begin{bmatrix}\n",
    "1 & T \\beta & T^2 \\beta^2 & \\dots & T^n \\beta^n \\\\\n",
    "1 & 0 & 0 & \\dots & 0\\\\\n",
    "0 & 1 & 2 T \\beta & 3 T^2 \\beta^2 & \\dots & T_n\\\\\n",
    "\\end{bmatrix}\n",
    "\\begin{bmatrix}\n",
    "c_0 \\\\\n",
    "c_1 \\\\\n",
    "c_2 \\\\\n",
    "\\vdots \\\\\n",
    "c_n\n",
    "\\end{bmatrix}\n",
    "$"
   ]
  },
  {
   "cell_type": "code",
   "execution_count": 3,
   "id": "65acce89-09c1-4034-8c14-f7f1036dc63b",
   "metadata": {},
   "outputs": [],
   "source": [
    "import numpy as np\n",
    "import logging\n",
    "import sys\n",
    "\n",
    "import importlib\n",
    "importlib.reload(logging)\n",
    "\n",
    "logging.basicConfig(format='%(asctime)s %(levelname)s:%(message)s', level=logging.INFO, datefmt='%I:%M:%S')\n",
    "\n",
    "\n",
    "class PolyTraj:\n",
    "    \n",
    "    def __init__(self, poly_order, coeff, leg_times):\n",
    "        assert len(leg_times) == len(coeff)/(poly_order + 1)\n",
    "        self.poly_order = poly_order\n",
    "        self.leg_times = leg_times\n",
    "        self.poly_leg = [\n",
    "            np.polynomial.Polynomial(coeff[j*(poly_order+1):(j+1)*(poly_order+1)])\n",
    "            for j in range(len(leg_times))\\\n",
    "        ]\n",
    "        self.t_start_leg = np.cumsum(np.hstack([0, self.leg_times]))\n",
    "\n",
    "    \n",
    "    def __call__(self, t, m=0):\n",
    "        t = np.atleast_1d(t)\n",
    "        t_start = t[np.argwhere(t < 0)]\n",
    "        vals = self.poly_leg[0].deriv(m)(0)*np.ones(len(t_start))\n",
    "        for i_leg in range(len(self.leg_times)):\n",
    "            t_i = t[np.argwhere(np.logical_and(t >= self.t_start_leg[i_leg], t < self.t_start_leg[i_leg+1]))]\n",
    "            if len(t_i) == 0:\n",
    "                continue\n",
    "            beta = (t_i - self.t_start_leg[i_leg])/self.leg_times[i_leg]\n",
    "            vals = np.hstack([vals, self.poly_leg[i_leg].deriv(m)(beta)[:, 0]])\n",
    "        t_end = t[np.argwhere(t >= self.t_start_leg[len(self.leg_times)])]\n",
    "        vals = np.hstack([vals, self.poly_leg[-1].deriv(m)(1)*np.ones(len(t_end))])\n",
    "        return vals\n",
    "\n",
    "def plan_trajectory_1d(poly_order, waypoints, leg_times, stop_derivs, continuity_derivs):\n",
    "\n",
    "    def constraint_eq(poly_order, derivative, scaled_time, leg_time, i_leg, n_legs):\n",
    "        n = poly_order\n",
    "        m = derivative\n",
    "        beta = scaled_time\n",
    "        T = leg_time\n",
    "        a = np.zeros(n_legs*(n+1))\n",
    "        for k in range(m, n+1):\n",
    "            l = 1\n",
    "            for j in range(k, k-m, -1):\n",
    "                l *= j\n",
    "            #assert l == np.math.factorial(k)/np.math.factorial(k-m)\n",
    "            a[i_leg*(n+1) + k] = l*T**(k-m)*beta**(k-m)\n",
    "        return a\n",
    "\n",
    "    waypoints = np.atleast_1d(waypoints)\n",
    "    A = []\n",
    "    b = []\n",
    "    n_legs = len(leg_times)\n",
    "    assert len(leg_times) == len(waypoints) - 1\n",
    "    \n",
    "    n_constraints = 0\n",
    "    \n",
    "    # waypoints\n",
    "    for i_leg, leg_time in enumerate(leg_times):\n",
    "        # start\n",
    "        logging.info('leg %d start ', i_leg)\n",
    "        A.append(constraint_eq(poly_order=poly_order, derivative=0, scaled_time=0, leg_time=leg_time, i_leg=i_leg, n_legs=n_legs))\n",
    "        b.append(waypoints[i_leg])\n",
    "        n_constraints += 1\n",
    "\n",
    "        # end\n",
    "        logging.info('leg %d end', i_leg)\n",
    "        A.append(constraint_eq(poly_order=poly_order, derivative=0, scaled_time=1, leg_time=leg_time, i_leg=i_leg, n_legs=n_legs))\n",
    "        b.append(waypoints[i_leg + 1])\n",
    "        n_constraints += 1\n",
    "\n",
    "\n",
    "    # stop\n",
    "    for m in stop_derivs:\n",
    "        # start stopped\n",
    "        logging.info('stopped at start %d', m)\n",
    "        A.append(constraint_eq(poly_order=poly_order, derivative=m, scaled_time=0, leg_time=leg_time, i_leg=0, n_legs=n_legs))\n",
    "        b.append(0)\n",
    "        n_constraints += 1\n",
    "\n",
    "        # end stopped\n",
    "        logging.info('stopped at end %d', m)\n",
    "        if n_constraints == n_legs*(poly_order+1):\n",
    "            break\n",
    "        A.append(constraint_eq(poly_order=poly_order, derivative=m, scaled_time=1, leg_time=leg_time, i_leg=n_legs-1, n_legs=n_legs))\n",
    "        b.append(0)\n",
    "        n_constraints += 1\n",
    "\n",
    "    # continuity\n",
    "    for m in continuity_derivs:\n",
    "        for i_leg in range(len(leg_times) - 1):\n",
    "            # start\n",
    "            logging.info('leg %d continuity %d', i_leg, m)\n",
    "            A.append(constraint_eq(poly_order=poly_order, derivative=m, scaled_time=1, leg_time=leg_time, i_leg=i_leg, n_legs=n_legs)\n",
    "                     - constraint_eq(poly_order=poly_order, derivative=m, scaled_time=0, leg_time=leg_time, i_leg=i_leg+1, n_legs=n_legs)\n",
    "                    )\n",
    "            b.append(0)\n",
    "            n_constraints += 1\n",
    "\n",
    "\n",
    "    A = np.array(A)\n",
    "    b = np.array(b)\n",
    "    \n",
    "    logging.info('n_constraints: %d', n_constraints)\n",
    "    logging.info('n_coeff: %d', poly_order + 1)\n",
    "    \n",
    "    assert n_constraints <= n_legs*(poly_order + 1)\n",
    "    \n",
    "    coeff = np.linalg.pinv(A).dot(b)\n",
    "    return PolyTraj(poly_order=poly_order, coeff=coeff, leg_times=leg_times)"
   ]
  },
  {
   "cell_type": "code",
   "execution_count": null,
   "id": "c1bc02b9-c39b-4017-89d9-e87de1988ba2",
   "metadata": {},
   "outputs": [],
   "source": [
    "def plan_trajectory_2d(poly_order=, waypoints, leg_times, stop_derivs, continuity_derivs):\n",
    "    "
   ]
  },
  {
   "cell_type": "code",
   "execution_count": 4,
   "id": "88e792e0-bc17-42d8-8930-7ff6a7abff0f",
   "metadata": {},
   "outputs": [
    {
     "name": "stderr",
     "output_type": "stream",
     "text": [
      "07:28:20 INFO:leg 0 start \n",
      "07:28:20 INFO:leg 0 end\n",
      "07:28:20 INFO:leg 1 start \n",
      "07:28:20 INFO:leg 1 end\n",
      "07:28:20 INFO:stopped at start 1\n",
      "07:28:20 INFO:stopped at end 1\n",
      "07:28:20 INFO:leg 0 continuity 1\n",
      "07:28:20 INFO:n_constraints: 7\n",
      "07:28:20 INFO:n_coeff: 4\n"
     ]
    },
    {
     "data": {
      "text/plain": [
       "[<matplotlib.lines.Line2D at 0x7fb7c46808b0>]"
      ]
     },
     "execution_count": 4,
     "metadata": {},
     "output_type": "execute_result"
    },
    {
     "data": {
      "image/png": "[encoded data removed]",
      "text/plain": [
       "<Figure size 432x288 with 1 Axes>"
      ]
     },
     "metadata": {
      "needs_background": "light"
     },
     "output_type": "display_data"
    }
   ],
   "source": [
    "import matplotlib.pyplot as plt\n",
    "p = plan_trajectory_1d(poly_order=3, waypoints=[1, 2, 1], leg_times=[1, 1], stop_derivs=[1], continuity_derivs=[1])\n",
    "t = np.linspace(0, 4, 10000)\n",
    "plt.plot(t, p(t, 0))"
   ]
  }
 ],
 "metadata": {
  "kernelspec": {
   "display_name": "Python 3 (ipykernel)",
   "language": "python",
   "name": "python3"
  },
  "language_info": {
   "codemirror_mode": {
    "name": "ipython",
    "version": 3
   },
   "file_extension": ".py",
   "mimetype": "text/x-python",
   "name": "python",
   "nbconvert_exporter": "python",
   "pygments_lexer": "ipython3",
   "version": "3.9.10"
  }
 },
 "nbformat": 4,
 "nbformat_minor": 5
}
