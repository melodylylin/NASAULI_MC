{
 "cells": [
  {
   "cell_type": "code",
   "execution_count": 6,
   "metadata": {},
   "outputs": [
    {
     "name": "stdout",
     "output_type": "stream",
     "text": [
      "Populating the interactive namespace from numpy and matplotlib\n"
     ]
    }
   ],
   "source": [
    "%pylab inline\n",
    "import control\n",
    "import pyhull\n",
    "import string\n",
    "import picos as pic\n",
    "import cvxopt as cvx\n",
    "import numpy as np\n",
    "import scipy.linalg\n",
    "import scipy.optimize\n",
    "import scipy.integrate\n",
    "import itertools\n",
    "import sympy\n",
    "import sympy.physics.mechanics as me\n",
    "from matplotlib.patches import Ellipse"
   ]
  },
  {
   "cell_type": "code",
   "execution_count": null,
   "metadata": {},
   "outputs": [],
   "source": [
    "def R(theta):\n",
    "    R = array([[cos(theta), -sin(theta)], \n",
    "               [sin(theta), cos(theta)]])\n",
    "    return R"
   ]
  },
  {
   "cell_type": "code",
   "execution_count": null,
   "metadata": {},
   "outputs": [],
   "source": [
    "def omega(ome_theta, ome_l, ome_tr):\n",
    "    omega = array([[ome_theta],[ome_l],[ome_tr]])\n",
    "    return omega"
   ]
  },
  {
   "cell_type": "code",
   "execution_count": null,
   "metadata": {},
   "outputs": [],
   "source": [
    "def iekf(w, v, P0, dt):\n",
    "    \n",
    "    # left invariant error in exponential coordinate\n",
    "    X = array([[cos(theta), -sin(theta), x1],\n",
    "               [sin(theta), cos(theta), x2],\n",
    "               [0, 0, 1]])\n",
    "    \n",
    "    # Initial Condition\n",
    "    X_h = X\n",
    "    P = P0\n",
    "    \n",
    "    for i in range():\n",
    "        v = \n",
    "        w = \n",
    "        A = -array([[0, 0, 0],\n",
    "                 [0, 0, -w],\n",
    "                 [-v, w, 0]])\n",
    "        vt = array([[0, -w, v], \n",
    "                   [w, 0, 0],\n",
    "                   [0, 0, 0]])\n",
    "        \n",
    "        # Reference Trajectory\n",
    "        dX = X @(vt +)\n",
    "        \n",
    "        # Propagation\n",
    "        dXi = A @ Xi - omega\n",
    "        dX_h = X_h @ vt\n",
    "        Xi = Xi + dXi*dt\n",
    "        X_h = X_h + dX*dt\n",
    "\n",
    "        # Covariance Propagation\n",
    "        Q = cov(array([[],[],[]]).T)\n",
    "        dP = (A@P+P@A.T+Q)*dt\n",
    "        P = P+dP\n",
    "\n",
    "        # Measurement\n",
    "        Y = X @ [0, 0, 1].T + array([[Vn],[0]])\n",
    "\n",
    "        #iekf Gain\n",
    "        H = array([[0, 1, 0],\n",
    "                   [0, 0, 1]])\n",
    "        R = X[0:1,0:1]\n",
    "        N = R @ con(Vn) @ R.T\n",
    "        S = H @ P @ H.T + N\n",
    "        Ln = P @ H.T @ inv(S) # Gain\n",
    "\n",
    "        # update \n",
    "        Xi = Xi - Ln@(array([[0,1,0],[0,0,1]])@ Xi - R@Vn) # updated invariant error in exp coordinate\n",
    "        p = array([[1, 0, 0],[0, 1, 0]])\n",
    "        X = X_h @ exp(Ln @ p @ (inv(X_h)@Y - array([[0],[0],[1]]))) # updated state\n",
    "    \n",
    "    return Xi, X"
   ]
  },
  {
   "cell_type": "code",
   "execution_count": null,
   "metadata": {},
   "outputs": [],
   "source": []
  },
  {
   "cell_type": "code",
   "execution_count": null,
   "metadata": {},
   "outputs": [],
   "source": []
  }
 ],
 "metadata": {
  "kernelspec": {
   "display_name": "Python 3",
   "language": "python",
   "name": "python3"
  },
  "language_info": {
   "codemirror_mode": {
    "name": "ipython",
    "version": 3
   },
   "file_extension": ".py",
   "mimetype": "text/x-python",
   "name": "python",
   "nbconvert_exporter": "python",
   "pygments_lexer": "ipython3",
   "version": "3.7.4"
  }
 },
 "nbformat": 4,
 "nbformat_minor": 2
}
