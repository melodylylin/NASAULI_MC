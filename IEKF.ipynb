{
 "cells": [
  {
   "cell_type": "code",
   "execution_count": 1,
   "metadata": {},
   "outputs": [
    {
     "name": "stdout",
     "output_type": "stream",
     "text": [
      "Populating the interactive namespace from numpy and matplotlib\n"
     ]
    }
   ],
   "source": [
    "%pylab inline\n",
    "import control\n",
    "import pyhull\n",
    "import string\n",
    "import picos as pic\n",
    "import cvxopt as cvx\n",
    "import numpy as np\n",
    "import scipy.linalg\n",
    "import scipy.optimize\n",
    "import scipy.integrate\n",
    "import itertools\n",
    "import sympy\n",
    "import sympy.physics.mechanics as me\n",
    "from matplotlib.patches import Ellipse"
   ]
  },
  {
   "cell_type": "code",
   "execution_count": 2,
   "metadata": {},
   "outputs": [],
   "source": [
    "def R(theta):\n",
    "    R = np.array([[cos(theta), -sin(theta)], \n",
    "                  [sin(theta), cos(theta)]])\n",
    "    return R"
   ]
  },
  {
   "cell_type": "code",
   "execution_count": 3,
   "metadata": {},
   "outputs": [],
   "source": [
    "def omega(w_theta, w_l, w_tr):\n",
    "    omega = np.array([[w_theta],[w_l],[w_tr]])\n",
    "    return omega"
   ]
  },
  {
   "cell_type": "code",
   "execution_count": 76,
   "metadata": {},
   "outputs": [],
   "source": [
    "def iekf(vt, x0, P0, dt):\n",
    "    \n",
    "    theta = x0[0]\n",
    "    x1 = x0[1]\n",
    "    x2 = x0[2]\n",
    "    # left invariant error in exponential coordinate\n",
    "    X = array([[cos(theta), -sin(theta), x1],\n",
    "               [sin(theta), cos(theta), x2],\n",
    "               [0, 0, 1]])\n",
    "    \n",
    "    # Initial Condition\n",
    "    X_h = X\n",
    "    P = P0\n",
    "    Xi = np.zeros([3,1])\n",
    "    \n",
    "    t = 1 # time\n",
    "    step = int(t/dt)\n",
    "    \n",
    "    v = vt[0] # velocity measured by an odometer\n",
    "    w = vt[1] # velocity measured through differential odometry\n",
    "    \n",
    "    Out_X = []\n",
    "    Out_Xi = []\n",
    "    Out_Xe = []\n",
    "    \n",
    "    for i in range(step):\n",
    "        \n",
    "        Q = array([[0.1, 0.2, 0.2],\n",
    "                   [0.5, 0.1, 0.2],\n",
    "                   [0.3, 0.3, 0.1]])\n",
    "        w_noise = np.random.normal(0, sqrt(Q), (3,1))\n",
    "        w_theta = w_noise[0][0] # differential odometry error\n",
    "        w_l = w_noise[1][0] # longitudinal odometry error\n",
    "        w_tr = w_noise[2][0] # the transversal shift\n",
    "        \n",
    "        A = -array([[0, 0, 0],\n",
    "                    [0, 0, -w],\n",
    "                    [-v, w, 0]])\n",
    "        vt = array([[0, -w, v],\n",
    "                    [w, 0, 0],\n",
    "                    [0, 0, 0]])\n",
    "        wt = array([[0, -w_theta, w_l],\n",
    "                    [w_theta, 0, w_tr],\n",
    "                    [0, 0, 0]])\n",
    "        \n",
    "        \n",
    "        # Reference Trajectory\n",
    "        X = X + X.dot(vt + wt) * dt\n",
    "        Out_X.append(X)\n",
    "        \n",
    "        # Propagation\n",
    "        dXi = A.dot(Xi) - omega(w_theta, w_l, w_tr)\n",
    "        dX_h = X_h.dot(vt)\n",
    "        Xi = Xi + dXi*dt\n",
    "        X_h = X_h + dX_h*dt\n",
    "\n",
    "        # Covariance Propagation\n",
    "        dP = (A.dot(P)+P.dot(A.T)+Q)*dt\n",
    "        P = P+dP\n",
    "        \n",
    "        Vn_cov = array([[0.1, 0.5],\n",
    "                        [0.2, 0.1]])\n",
    "        Vn = np.random.normal(0, sqrt(Vn_cov), (2,1))\n",
    "        # Measurement\n",
    "        Y = X.dot(array([[0, 0, 1]]).T) + np.append(Vn,[0]).reshape(3,1)\n",
    "\n",
    "        #iekf Gain\n",
    "        H = array([[0, 1, 0],\n",
    "                   [0, 0, 1]])\n",
    "        R = X[0:2,0:2]\n",
    "        N = R@Vn_cov@R.T\n",
    "        S = H@P@H.T + N\n",
    "        S = inv(S)\n",
    "        Ln = P.dot(H.T).dot(np.linalg.inv(S)) # Gain\n",
    "\n",
    "        # update \n",
    "        Xi = Xi - Ln.dot(array([[0,1,0],[0,0,1]]).dot(Xi) - R.dot(Vn)) # updated invariant error in exp coordinate\n",
    "        p = array([[1, 0, 0],[0, 1, 0]])\n",
    "        zeta = Ln.dot(p).dot(inv(X_h).dot(Y) - array([[0],[0],[1]]))\n",
    "        alpha = zeta[0][0]\n",
    "        u1 = zeta[1][0]\n",
    "        u2 = zeta[2][0]\n",
    "        zeta_x = array([[sin(alpha)/alpha, -(1-cos(alpha)/alpha)],\n",
    "                        [(1-cos(alpha)/alpha), sin(alpha)/alpha]]).dot(array([[u1],[u2]]))\n",
    "        R_alpha = np.array([[cos(alpha), -sin(alpha)], \n",
    "                            [sin(alpha), cos(alpha)]])\n",
    "        exp_zeta = np.vstack((np.hstack((R_alpha, zeta_x)),array([[0,0,1]])))\n",
    "        X_h = X_h.dot(exp_zeta) # updated state\n",
    "        Out_Xi.append(Xi)\n",
    "        Out_Xe.append(X_h)\n",
    "    \n",
    "        \n",
    "    return Out_Xi, Out_Xe"
   ]
  },
  {
   "cell_type": "code",
   "execution_count": 77,
   "metadata": {},
   "outputs": [],
   "source": [
    "vt = [1,0]\n",
    "x0 = [0,0,0]\n",
    "P0 = array([[1, 0, 0],[0, 1, 0],[0, 0, 1]]) # initial covariance?\n",
    "dt = 0.1\n",
    "Xi, X = iekf(vt, x0, P0, dt)"
   ]
  },
  {
   "cell_type": "code",
   "execution_count": 79,
   "metadata": {},
   "outputs": [
    {
     "data": {
      "text/plain": [
       "[array([[ 0.99374116, -0.11170727,  7.53610974],\n",
       "        [ 0.11170727,  0.99374116,  0.38320324],\n",
       "        [ 0.        ,  0.        ,  1.        ]]),\n",
       " array([[  0.81311969,   0.58209653,   6.492325  ],\n",
       "        [ -0.58209653,   0.81311969, -19.22938554],\n",
       "        [  0.        ,   0.        ,   1.        ]]),\n",
       " array([[ -0.2454142 ,  -0.96941832, -13.48575326],\n",
       "        [  0.96941832,  -0.2454142 , -22.36140808],\n",
       "        [  0.        ,   0.        ,   1.        ]]),\n",
       " array([[  0.10334448,  -0.99464562, -30.74918327],\n",
       "        [  0.99464562,   0.10334448,  -5.86209875],\n",
       "        [  0.        ,   0.        ,   1.        ]]),\n",
       " array([[-0.5193706 , -0.85454911, -9.30718796],\n",
       "        [ 0.85454911, -0.5193706 , 46.20352323],\n",
       "        [ 0.        ,  0.        ,  1.        ]]),\n",
       " array([[ 0.96318372, -0.26884405, 36.83767928],\n",
       "        [ 0.26884405,  0.96318372, 48.66570254],\n",
       "        [ 0.        ,  0.        ,  1.        ]]),\n",
       " array([[ -0.28761569,   0.9577459 , 215.72680916],\n",
       "        [ -0.9577459 ,  -0.28761569, -22.64033175],\n",
       "        [  0.        ,   0.        ,   1.        ]]),\n",
       " array([[-1.85421290e-01, -9.82659120e-01, -2.00715838e+02],\n",
       "        [ 9.82659120e-01, -1.85421290e-01, -6.03183453e+02],\n",
       "        [ 0.00000000e+00,  0.00000000e+00,  1.00000000e+00]]),\n",
       " array([[   0.69872899,   -0.71538647, -665.04679105],\n",
       "        [   0.71538647,    0.69872899, -177.87959189],\n",
       "        [   0.        ,    0.        ,    1.        ]]),\n",
       " array([[-5.97199373e-01, -8.02092831e-01, -2.82164581e+02],\n",
       "        [ 8.02092831e-01, -5.97199373e-01,  6.32441946e+02],\n",
       "        [ 0.00000000e+00,  0.00000000e+00,  1.00000000e+00]])]"
      ]
     },
     "execution_count": 79,
     "metadata": {},
     "output_type": "execute_result"
    }
   ],
   "source": [
    "X"
   ]
  },
  {
   "cell_type": "code",
   "execution_count": 80,
   "metadata": {},
   "outputs": [
    {
     "data": {
      "text/plain": [
       "[array([[0.10318938],\n",
       "        [0.14749915],\n",
       "        [0.89906962]]), array([[-0.13078429],\n",
       "        [-0.43903734],\n",
       "        [-0.34976796]]), array([[0.13454315],\n",
       "        [0.2500251 ],\n",
       "        [0.36447343]]), array([[ 0.61657203],\n",
       "        [-0.20560959],\n",
       "        [ 1.38030144]]), array([[-1.57703211],\n",
       "        [-2.15107489],\n",
       "        [-3.12780758]]), array([[3.40498427],\n",
       "        [4.1256278 ],\n",
       "        [6.29298659]]), array([[-10.47551925],\n",
       "        [-11.78248747],\n",
       "        [-19.17142321]]), array([[32.58993662],\n",
       "        [31.97171034],\n",
       "        [57.91462254]]), array([[-141.06317699],\n",
       "        [-120.9258513 ],\n",
       "        [-252.87283161]]), array([[ 777.91845455],\n",
       "        [ 607.35995949],\n",
       "        [1404.68507635]])]"
      ]
     },
     "execution_count": 80,
     "metadata": {},
     "output_type": "execute_result"
    }
   ],
   "source": [
    "Xi"
   ]
  },
  {
   "cell_type": "code",
   "execution_count": 169,
   "metadata": {},
   "outputs": [],
   "source": [
    "    Vn = array([[5],[1]])"
   ]
  },
  {
   "cell_type": "code",
   "execution_count": 170,
   "metadata": {},
   "outputs": [
    {
     "data": {
      "text/plain": [
       "array([[5],\n",
       "       [1],\n",
       "       [0]])"
      ]
     },
     "execution_count": 170,
     "metadata": {},
     "output_type": "execute_result"
    }
   ],
   "source": [
    "np.append(Vn,[0]).reshape(3,1)"
   ]
  },
  {
   "cell_type": "code",
   "execution_count": 171,
   "metadata": {},
   "outputs": [
    {
     "name": "stderr",
     "output_type": "stream",
     "text": [
      "/Users/LiYuLin/opt/anaconda3/lib/python3.7/site-packages/ipykernel_launcher.py:1: RuntimeWarning: Degrees of freedom <= 0 for slice\n",
      "  \"\"\"Entry point for launching an IPython kernel.\n"
     ]
    },
    {
     "data": {
      "text/plain": [
       "array([[nan, nan],\n",
       "       [nan, nan]])"
      ]
     },
     "execution_count": 171,
     "metadata": {},
     "output_type": "execute_result"
    }
   ],
   "source": [
    "cov(Vn)"
   ]
  },
  {
   "cell_type": "code",
   "execution_count": 181,
   "metadata": {},
   "outputs": [
    {
     "name": "stderr",
     "output_type": "stream",
     "text": [
      "/Users/LiYuLin/opt/anaconda3/lib/python3.7/site-packages/ipykernel_launcher.py:1: RuntimeWarning: Degrees of freedom <= 0 for slice\n",
      "  \"\"\"Entry point for launching an IPython kernel.\n"
     ]
    },
    {
     "data": {
      "text/plain": [
       "array([[nan, nan, nan, nan, nan, nan],\n",
       "       [nan, nan, nan, nan, nan, nan],\n",
       "       [nan, nan, nan, nan, nan, nan],\n",
       "       [nan, nan, nan, nan, nan, nan],\n",
       "       [nan, nan, nan, nan, nan, nan],\n",
       "       [nan, nan, nan, nan, nan, nan]])"
      ]
     },
     "execution_count": 181,
     "metadata": {},
     "output_type": "execute_result"
    }
   ],
   "source": [
    "cov(array([[w_theta,w_l,w_tr]]).T,array([[w_theta,w_l,w_tr]]).T)"
   ]
  },
  {
   "cell_type": "code",
   "execution_count": 177,
   "metadata": {},
   "outputs": [],
   "source": [
    "w_theta = 1 # differential odometry error\n",
    "w_l = 2 # longitudinal odometry error\n",
    "w_tr = 1 # the transversal shift"
   ]
  },
  {
   "cell_type": "code",
   "execution_count": 49,
   "metadata": {},
   "outputs": [],
   "source": [
    "x =array([[w_theta],[w_l],[w_tr]]).T\n",
    "Q = var(x)\n",
    "   "
   ]
  },
  {
   "cell_type": "code",
   "execution_count": 50,
   "metadata": {},
   "outputs": [],
   "source": [
    "w_theta = 1 # differential odometry error\n",
    "w_l = 2 # longitudinal odometry error\n",
    "w_tr = 1 # the transversal shift"
   ]
  },
  {
   "cell_type": "code",
   "execution_count": 52,
   "metadata": {},
   "outputs": [
    {
     "ename": "ValueError",
     "evalue": "Input must be 1- or 2-d.",
     "output_type": "error",
     "traceback": [
      "\u001b[0;31m---------------------------------------------------------------------------\u001b[0m",
      "\u001b[0;31mValueError\u001b[0m                                Traceback (most recent call last)",
      "\u001b[0;32m<ipython-input-52-28f4be52e0ff>\u001b[0m in \u001b[0;36m<module>\u001b[0;34m\u001b[0m\n\u001b[0;32m----> 1\u001b[0;31m \u001b[0mQ\u001b[0m \u001b[0;34m=\u001b[0m \u001b[0mdiag\u001b[0m\u001b[0;34m(\u001b[0m\u001b[0mQ\u001b[0m\u001b[0;34m)\u001b[0m\u001b[0;34m\u001b[0m\u001b[0;34m\u001b[0m\u001b[0m\n\u001b[0m",
      "\u001b[0;32m<__array_function__ internals>\u001b[0m in \u001b[0;36mdiag\u001b[0;34m(*args, **kwargs)\u001b[0m\n",
      "\u001b[0;32m~/opt/anaconda3/lib/python3.7/site-packages/numpy/lib/twodim_base.py\u001b[0m in \u001b[0;36mdiag\u001b[0;34m(v, k)\u001b[0m\n\u001b[1;32m    283\u001b[0m         \u001b[0;32mreturn\u001b[0m \u001b[0mdiagonal\u001b[0m\u001b[0;34m(\u001b[0m\u001b[0mv\u001b[0m\u001b[0;34m,\u001b[0m \u001b[0mk\u001b[0m\u001b[0;34m)\u001b[0m\u001b[0;34m\u001b[0m\u001b[0;34m\u001b[0m\u001b[0m\n\u001b[1;32m    284\u001b[0m     \u001b[0;32melse\u001b[0m\u001b[0;34m:\u001b[0m\u001b[0;34m\u001b[0m\u001b[0;34m\u001b[0m\u001b[0m\n\u001b[0;32m--> 285\u001b[0;31m         \u001b[0;32mraise\u001b[0m \u001b[0mValueError\u001b[0m\u001b[0;34m(\u001b[0m\u001b[0;34m\"Input must be 1- or 2-d.\"\u001b[0m\u001b[0;34m)\u001b[0m\u001b[0;34m\u001b[0m\u001b[0;34m\u001b[0m\u001b[0m\n\u001b[0m\u001b[1;32m    286\u001b[0m \u001b[0;34m\u001b[0m\u001b[0m\n\u001b[1;32m    287\u001b[0m \u001b[0;34m\u001b[0m\u001b[0m\n",
      "\u001b[0;31mValueError\u001b[0m: Input must be 1- or 2-d."
     ]
    }
   ],
   "source": [
    "Q = diag(Q)"
   ]
  },
  {
   "cell_type": "code",
   "execution_count": null,
   "metadata": {},
   "outputs": [],
   "source": []
  }
 ],
 "metadata": {
  "kernelspec": {
   "display_name": "Python 3",
   "language": "python",
   "name": "python3"
  },
  "language_info": {
   "codemirror_mode": {
    "name": "ipython",
    "version": 3
   },
   "file_extension": ".py",
   "mimetype": "text/x-python",
   "name": "python",
   "nbconvert_exporter": "python",
   "pygments_lexer": "ipython3",
   "version": "3.7.4"
  }
 },
 "nbformat": 4,
 "nbformat_minor": 2
}
