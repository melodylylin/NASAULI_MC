{
 "cells": [
  {
   "cell_type": "code",
   "execution_count": 1,
   "id": "polyphonic-picnic",
   "metadata": {},
   "outputs": [],
   "source": [
    "from sympy import *"
   ]
  },
  {
   "cell_type": "code",
   "execution_count": 2,
   "id": "painted-advertiser",
   "metadata": {},
   "outputs": [],
   "source": [
    "theta, x, y = symbols('theta, x, y', real=True)\n",
    "i = I\n",
    "ad_v = Matrix([\n",
    "    [0, -theta, y],\n",
    "    [theta, 0, -x],\n",
    "    [0, 0, 0]\n",
    "])"
   ]
  },
  {
   "cell_type": "code",
   "execution_count": 14,
   "id": "915870f7-bdba-4a88-a913-49b4537d60e3",
   "metadata": {},
   "outputs": [],
   "source": [
    "theta_1, theta_2, theta_3, x, y, z = symbols('phi, theta, psi, x, y, z', real = True)\n",
    "i = I\n",
    "tx = Matrix([\n",
    "    [0, -z, y],\n",
    "    [z, 0, -x],\n",
    "    [-y, x, 0]\n",
    "])\n",
    "R = Matrix([\n",
    "    [cos(theta_1)*cos(theta_3)-cos(theta_2)*sin(theta_1)*sin(theta_3), -cos(theta_1)*sin(theta_3)-cos(theta_2)*sin(theta_1)*sin(theta_3), sin(theta_1)*sin(theta_2)],\n",
    "    [sin(theta_1)*cos(theta_3)+cos(theta_2)*cos(theta_1)*sin(theta_3), -sin(theta_1)*sin(theta_3)+cos(theta_2)*cos(theta_1)*cos(theta_3), -cos(theta_1)*sin(theta_2)],\n",
    "    [sin(theta_3)*sin(theta_2), cos(theta_3)*sin(theta_2), cos(theta_2)]\n",
    "])"
   ]
  },
  {
   "cell_type": "code",
   "execution_count": 12,
   "id": "1efb7933-dd25-49e4-9269-2431cb86dccd",
   "metadata": {},
   "outputs": [
    {
     "data": {
      "text/latex": [
       "$\\displaystyle \\left[\\begin{matrix}- \\sin{\\left(\\phi \\right)} \\sin{\\left(\\psi \\right)} \\cos{\\left(\\theta \\right)} + \\cos{\\left(\\phi \\right)} \\cos{\\left(\\psi \\right)} & - \\sin{\\left(\\phi \\right)} \\sin{\\left(\\psi \\right)} \\cos{\\left(\\theta \\right)} - \\sin{\\left(\\psi \\right)} \\cos{\\left(\\phi \\right)} & \\sin{\\left(\\phi \\right)} \\sin{\\left(\\theta \\right)} & y \\sin{\\left(\\psi \\right)} \\sin{\\left(\\theta \\right)} - z \\left(\\sin{\\left(\\phi \\right)} \\cos{\\left(\\psi \\right)} + \\sin{\\left(\\psi \\right)} \\cos{\\left(\\phi \\right)} \\cos{\\left(\\theta \\right)}\\right) & y \\sin{\\left(\\theta \\right)} \\cos{\\left(\\psi \\right)} - z \\left(- \\sin{\\left(\\phi \\right)} \\sin{\\left(\\psi \\right)} + \\cos{\\left(\\phi \\right)} \\cos{\\left(\\psi \\right)} \\cos{\\left(\\theta \\right)}\\right) & y \\cos{\\left(\\theta \\right)} + z \\sin{\\left(\\theta \\right)} \\cos{\\left(\\phi \\right)}\\\\\\sin{\\left(\\phi \\right)} \\cos{\\left(\\psi \\right)} + \\sin{\\left(\\psi \\right)} \\cos{\\left(\\phi \\right)} \\cos{\\left(\\theta \\right)} & - \\sin{\\left(\\phi \\right)} \\sin{\\left(\\psi \\right)} + \\cos{\\left(\\phi \\right)} \\cos{\\left(\\psi \\right)} \\cos{\\left(\\theta \\right)} & - \\sin{\\left(\\theta \\right)} \\cos{\\left(\\phi \\right)} & - x \\sin{\\left(\\psi \\right)} \\sin{\\left(\\theta \\right)} + z \\left(- \\sin{\\left(\\phi \\right)} \\sin{\\left(\\psi \\right)} \\cos{\\left(\\theta \\right)} + \\cos{\\left(\\phi \\right)} \\cos{\\left(\\psi \\right)}\\right) & - x \\sin{\\left(\\theta \\right)} \\cos{\\left(\\psi \\right)} + z \\left(- \\sin{\\left(\\phi \\right)} \\sin{\\left(\\psi \\right)} \\cos{\\left(\\theta \\right)} - \\sin{\\left(\\psi \\right)} \\cos{\\left(\\phi \\right)}\\right) & - x \\cos{\\left(\\theta \\right)} + z \\sin{\\left(\\phi \\right)} \\sin{\\left(\\theta \\right)}\\\\\\sin{\\left(\\psi \\right)} \\sin{\\left(\\theta \\right)} & \\sin{\\left(\\theta \\right)} \\cos{\\left(\\psi \\right)} & \\cos{\\left(\\theta \\right)} & x \\left(\\sin{\\left(\\phi \\right)} \\cos{\\left(\\psi \\right)} + \\sin{\\left(\\psi \\right)} \\cos{\\left(\\phi \\right)} \\cos{\\left(\\theta \\right)}\\right) - y \\left(- \\sin{\\left(\\phi \\right)} \\sin{\\left(\\psi \\right)} \\cos{\\left(\\theta \\right)} + \\cos{\\left(\\phi \\right)} \\cos{\\left(\\psi \\right)}\\right) & x \\left(- \\sin{\\left(\\phi \\right)} \\sin{\\left(\\psi \\right)} + \\cos{\\left(\\phi \\right)} \\cos{\\left(\\psi \\right)} \\cos{\\left(\\theta \\right)}\\right) - y \\left(- \\sin{\\left(\\phi \\right)} \\sin{\\left(\\psi \\right)} \\cos{\\left(\\theta \\right)} - \\sin{\\left(\\psi \\right)} \\cos{\\left(\\phi \\right)}\\right) & - x \\sin{\\left(\\theta \\right)} \\cos{\\left(\\phi \\right)} - y \\sin{\\left(\\phi \\right)} \\sin{\\left(\\theta \\right)}\\\\0 & 0 & 0 & - \\sin{\\left(\\phi \\right)} \\sin{\\left(\\psi \\right)} \\cos{\\left(\\theta \\right)} + \\cos{\\left(\\phi \\right)} \\cos{\\left(\\psi \\right)} & - \\sin{\\left(\\phi \\right)} \\sin{\\left(\\psi \\right)} \\cos{\\left(\\theta \\right)} - \\sin{\\left(\\psi \\right)} \\cos{\\left(\\phi \\right)} & \\sin{\\left(\\phi \\right)} \\sin{\\left(\\theta \\right)}\\\\0 & 0 & 0 & \\sin{\\left(\\phi \\right)} \\cos{\\left(\\psi \\right)} + \\sin{\\left(\\psi \\right)} \\cos{\\left(\\phi \\right)} \\cos{\\left(\\theta \\right)} & - \\sin{\\left(\\phi \\right)} \\sin{\\left(\\psi \\right)} + \\cos{\\left(\\phi \\right)} \\cos{\\left(\\psi \\right)} \\cos{\\left(\\theta \\right)} & - \\sin{\\left(\\theta \\right)} \\cos{\\left(\\phi \\right)}\\\\0 & 0 & 0 & \\sin{\\left(\\psi \\right)} \\sin{\\left(\\theta \\right)} & \\sin{\\left(\\theta \\right)} \\cos{\\left(\\psi \\right)} & \\cos{\\left(\\theta \\right)}\\end{matrix}\\right]$"
      ],
      "text/plain": [
       "Matrix([\n",
       "[-sin(phi)*sin(psi)*cos(theta) + cos(phi)*cos(psi), -sin(phi)*sin(psi)*cos(theta) - sin(psi)*cos(phi),  sin(phi)*sin(theta),                                 y*sin(psi)*sin(theta) - z*(sin(phi)*cos(psi) + sin(psi)*cos(phi)*cos(theta)),                                 y*sin(theta)*cos(psi) - z*(-sin(phi)*sin(psi) + cos(phi)*cos(psi)*cos(theta)),           y*cos(theta) + z*sin(theta)*cos(phi)],\n",
       "[ sin(phi)*cos(psi) + sin(psi)*cos(phi)*cos(theta), -sin(phi)*sin(psi) + cos(phi)*cos(psi)*cos(theta), -sin(theta)*cos(phi),                               -x*sin(psi)*sin(theta) + z*(-sin(phi)*sin(psi)*cos(theta) + cos(phi)*cos(psi)),                                -x*sin(theta)*cos(psi) + z*(-sin(phi)*sin(psi)*cos(theta) - sin(psi)*cos(phi)),          -x*cos(theta) + z*sin(phi)*sin(theta)],\n",
       "[                              sin(psi)*sin(theta),                               sin(theta)*cos(psi),           cos(theta), x*(sin(phi)*cos(psi) + sin(psi)*cos(phi)*cos(theta)) - y*(-sin(phi)*sin(psi)*cos(theta) + cos(phi)*cos(psi)), x*(-sin(phi)*sin(psi) + cos(phi)*cos(psi)*cos(theta)) - y*(-sin(phi)*sin(psi)*cos(theta) - sin(psi)*cos(phi)), -x*sin(theta)*cos(phi) - y*sin(phi)*sin(theta)],\n",
       "[                                                0,                                                 0,                    0,                                                            -sin(phi)*sin(psi)*cos(theta) + cos(phi)*cos(psi),                                                             -sin(phi)*sin(psi)*cos(theta) - sin(psi)*cos(phi),                            sin(phi)*sin(theta)],\n",
       "[                                                0,                                                 0,                    0,                                                             sin(phi)*cos(psi) + sin(psi)*cos(phi)*cos(theta),                                                             -sin(phi)*sin(psi) + cos(phi)*cos(psi)*cos(theta),                           -sin(theta)*cos(phi)],\n",
       "[                                                0,                                                 0,                    0,                                                                                          sin(psi)*sin(theta),                                                                                           sin(theta)*cos(psi),                                     cos(theta)]])"
      ]
     },
     "execution_count": 12,
     "metadata": {},
     "output_type": "execute_result"
    }
   ],
   "source": [
    "Ad_v = Matrix([\n",
    "    [R, tx*R],\n",
    "    [zeros(3,3), R]\n",
    "])\n",
    "Ad_v"
   ]
  },
  {
   "cell_type": "code",
   "execution_count": 21,
   "id": "9fc6c672-5e3e-4d94-ab79-262597959640",
   "metadata": {},
   "outputs": [],
   "source": [
    "a = Matrix([\n",
    "    [0, -theta_3, theta_2, x],\n",
    "    [theta_3, 0, -theta_1, y],\n",
    "    [-theta_2, theta_1, 0, z],\n",
    "    [0, 0, 0, 0]\n",
    "])"
   ]
  },
  {
   "cell_type": "code",
   "execution_count": 22,
   "id": "17b71a4b-7155-4327-800a-aefcddfa0343",
   "metadata": {},
   "outputs": [
    {
     "data": {
      "text/latex": [
       "$\\displaystyle \\left[\\begin{matrix}0 & - \\psi_{2} & \\theta_{2} & x_{2}\\\\\\psi_{2} & 0 & - \\phi_{2} & y_{2}\\\\- \\theta_{2} & \\phi_{2} & 0 & z_{2}\\\\0 & 0 & 0 & 0\\end{matrix}\\right]$"
      ],
      "text/plain": [
       "Matrix([\n",
       "[       0, -psi_2, theta_2, x_2],\n",
       "[   psi_2,      0,  -phi_2, y_2],\n",
       "[-theta_2,  phi_2,       0, z_2],\n",
       "[       0,      0,       0,   0]])"
      ]
     },
     "execution_count": 22,
     "metadata": {},
     "output_type": "execute_result"
    }
   ],
   "source": [
    "theta_12, theta_22, theta_32, x2, y2, z2 = symbols('phi_2, theta_2, psi_2, x_2, y_2, z_2', real = True)\n",
    "b = Matrix([\n",
    "    [0, -theta_32, theta_22, x2],\n",
    "    [theta_32, 0, -theta_12, y2],\n",
    "    [-theta_22, theta_12, 0, z2],\n",
    "    [0, 0, 0, 0]\n",
    "])\n",
    "b"
   ]
  },
  {
   "cell_type": "code",
   "execution_count": 23,
   "id": "c1b6eea6-ae6c-439f-8c2c-15c596927e70",
   "metadata": {},
   "outputs": [
    {
     "data": {
      "text/latex": [
       "$\\displaystyle \\left[\\begin{matrix}0 & - \\phi \\theta_{2} + \\phi_{2} \\theta & - \\phi \\psi_{2} + \\phi_{2} \\psi & - \\psi y_{2} + \\psi_{2} y + \\theta z_{2} - \\theta_{2} z\\\\\\phi \\theta_{2} - \\phi_{2} \\theta & 0 & \\psi \\theta_{2} - \\psi_{2} \\theta & - \\phi z_{2} + \\phi_{2} z + \\psi x_{2} - \\psi_{2} x\\\\\\phi \\psi_{2} - \\phi_{2} \\psi & - \\psi \\theta_{2} + \\psi_{2} \\theta & 0 & \\phi y_{2} - \\phi_{2} y - \\theta x_{2} + \\theta_{2} x\\\\0 & 0 & 0 & 0\\end{matrix}\\right]$"
      ],
      "text/plain": [
       "Matrix([\n",
       "[                        0, -phi*theta_2 + phi_2*theta,    -phi*psi_2 + phi_2*psi, -psi*y_2 + psi_2*y + theta*z_2 - theta_2*z],\n",
       "[phi*theta_2 - phi_2*theta,                          0, psi*theta_2 - psi_2*theta,     -phi*z_2 + phi_2*z + psi*x_2 - psi_2*x],\n",
       "[    phi*psi_2 - phi_2*psi, -psi*theta_2 + psi_2*theta,                         0,  phi*y_2 - phi_2*y - theta*x_2 + theta_2*x],\n",
       "[                        0,                          0,                         0,                                          0]])"
      ]
     },
     "execution_count": 23,
     "metadata": {},
     "output_type": "execute_result"
    }
   ],
   "source": [
    "a*b-b*a"
   ]
  },
  {
   "cell_type": "code",
   "execution_count": 3,
   "id": "3b87d48f-2f69-4bc6-b5d1-78071019bb30",
   "metadata": {},
   "outputs": [
    {
     "data": {
      "text/latex": [
       "$\\displaystyle \\left[\\begin{matrix}\\cos{\\left(\\theta \\right)} & \\sin{\\left(\\theta \\right)} & - \\frac{x \\cos{\\left(\\theta \\right)}}{\\theta} + \\frac{x}{\\theta} - \\frac{y \\sin{\\left(\\theta \\right)}}{\\theta}\\\\- \\sin{\\left(\\theta \\right)} & \\cos{\\left(\\theta \\right)} & \\frac{x \\sin{\\left(\\theta \\right)}}{\\theta} - \\frac{y \\cos{\\left(\\theta \\right)}}{\\theta} + \\frac{y}{\\theta}\\\\0 & 0 & 1\\end{matrix}\\right]$"
      ],
      "text/plain": [
       "Matrix([\n",
       "[ cos(theta), sin(theta), -x*cos(theta)/theta + x/theta - y*sin(theta)/theta],\n",
       "[-sin(theta), cos(theta),  x*sin(theta)/theta - y*cos(theta)/theta + y/theta],\n",
       "[          0,          0,                                                  1]])"
      ]
     },
     "execution_count": 3,
     "metadata": {},
     "output_type": "execute_result"
    }
   ],
   "source": [
    "exp_ad = (-ad_v).exp()\n",
    "exp_ad\n",
    "#exp_ad.applyfunc(lambda x: x.series(theta, 0, 5))"
   ]
  },
  {
   "cell_type": "code",
   "execution_count": 4,
   "id": "filled-emergency",
   "metadata": {},
   "outputs": [
    {
     "data": {
      "text/latex": [
       "$\\displaystyle \\left[\\begin{matrix}\\frac{\\sin{\\left(\\theta \\right)}}{\\theta} & \\frac{1 - \\cos{\\left(\\theta \\right)}}{\\theta} & \\frac{x \\left(\\theta - \\sin{\\left(\\theta \\right)}\\right) + y \\left(\\cos{\\left(\\theta \\right)} - 1\\right)}{\\theta^{2}}\\\\\\frac{\\cos{\\left(\\theta \\right)} - 1}{\\theta} & \\frac{\\sin{\\left(\\theta \\right)}}{\\theta} & \\frac{- x \\left(\\cos{\\left(\\theta \\right)} - 1\\right) + y \\left(\\theta - \\sin{\\left(\\theta \\right)}\\right)}{\\theta^{2}}\\\\0 & 0 & 1\\end{matrix}\\right]$"
      ],
      "text/plain": [
       "Matrix([\n",
       "[      sin(theta)/theta, (1 - cos(theta))/theta,  (x*(theta - sin(theta)) + y*(cos(theta) - 1))/theta**2],\n",
       "[(cos(theta) - 1)/theta,       sin(theta)/theta, (-x*(cos(theta) - 1) + y*(theta - sin(theta)))/theta**2],\n",
       "[                     0,                      0,                                                       1]])"
      ]
     },
     "execution_count": 4,
     "metadata": {},
     "output_type": "execute_result"
    }
   ],
   "source": [
    "k = symbols('k', real=True, integer=True)\n",
    "A = summation(((-1)**k/factorial(k+1))*ad_v**k, (k, 0, oo))\n",
    "\n",
    "A = A.applyfunc(lambda term: term.expand(complex=True).factor().collect([x, y]).simplify())\n",
    "A"
   ]
  },
  {
   "cell_type": "code",
   "execution_count": 5,
   "id": "realistic-blame",
   "metadata": {},
   "outputs": [
    {
     "data": {
      "text/latex": [
       "$\\displaystyle \\left[\\begin{matrix}- \\frac{\\theta \\sin{\\left(\\theta \\right)}}{2 \\left(\\cos{\\left(\\theta \\right)} - 1\\right)} & - \\frac{\\theta}{2} & \\frac{\\theta y \\left(\\cos{\\left(\\theta \\right)} - 1\\right) + x \\left(\\theta \\sin{\\left(\\theta \\right)} + 2 \\cos{\\left(\\theta \\right)} - 2\\right)}{2 \\theta \\left(\\cos{\\left(\\theta \\right)} - 1\\right)}\\\\\\frac{\\theta}{2} & - \\frac{\\theta \\sin{\\left(\\theta \\right)}}{2 \\left(\\cos{\\left(\\theta \\right)} - 1\\right)} & - \\frac{\\theta x \\left(\\cos{\\left(\\theta \\right)} - 1\\right) + y \\left(- \\theta \\sin{\\left(\\theta \\right)} - 2 \\cos{\\left(\\theta \\right)} + 2\\right)}{2 \\theta \\left(\\cos{\\left(\\theta \\right)} - 1\\right)}\\\\0 & 0 & 1\\end{matrix}\\right]$"
      ],
      "text/plain": [
       "Matrix([\n",
       "[-theta*sin(theta)/(2*(cos(theta) - 1)),                               -theta/2,   (theta*y*(cos(theta) - 1) + x*(theta*sin(theta) + 2*cos(theta) - 2))/(2*theta*(cos(theta) - 1))],\n",
       "[                               theta/2, -theta*sin(theta)/(2*(cos(theta) - 1)), -(theta*x*(cos(theta) - 1) + y*(-theta*sin(theta) - 2*cos(theta) + 2))/(2*theta*(cos(theta) - 1))],\n",
       "[                                     0,                                      0,                                                                                                 1]])"
      ]
     },
     "execution_count": 5,
     "metadata": {},
     "output_type": "execute_result"
    }
   ],
   "source": [
    "A_inv = A.inv().applyfunc(lambda term: term.simplify().factor())@eye(3)  # multiply by identify to make non-immutable\n",
    "A_inv = A_inv.applyfunc(lambda term: term.collect([x, y]).collect(theta))\n",
    "A_inv"
   ]
  },
  {
   "cell_type": "code",
   "execution_count": 6,
   "id": "foster-berkeley",
   "metadata": {},
   "outputs": [
    {
     "data": {
      "text/latex": [
       "$\\displaystyle \\left[\\begin{matrix}- \\frac{\\theta \\sin{\\left(\\theta \\right)}}{2 \\left(\\cos{\\left(\\theta \\right)} - 1\\right)} & \\frac{\\theta}{2} & \\frac{x \\left(\\frac{\\sin{\\left(\\theta \\right)}}{2} + \\frac{\\cos{\\left(\\theta \\right)}}{\\theta} - \\frac{1}{\\theta}\\right) + y \\left(\\frac{1}{2} - \\frac{\\cos{\\left(\\theta \\right)}}{2}\\right)}{\\cos{\\left(\\theta \\right)} - 1}\\\\- \\frac{\\theta}{2} & - \\frac{\\theta \\sin{\\left(\\theta \\right)}}{2 \\left(\\cos{\\left(\\theta \\right)} - 1\\right)} & \\frac{x \\left(\\frac{\\cos{\\left(\\theta \\right)}}{2} - \\frac{1}{2}\\right) + y \\left(\\frac{\\sin{\\left(\\theta \\right)}}{2} + \\frac{\\cos{\\left(\\theta \\right)}}{\\theta} - \\frac{1}{\\theta}\\right)}{\\cos{\\left(\\theta \\right)} - 1}\\\\0 & 0 & 1\\end{matrix}\\right]$"
      ],
      "text/plain": [
       "Matrix([\n",
       "[-theta*sin(theta)/(2*(cos(theta) - 1)),                                theta/2, (x*(sin(theta)/2 + cos(theta)/theta - 1/theta) + y*(1/2 - cos(theta)/2))/(cos(theta) - 1)],\n",
       "[                              -theta/2, -theta*sin(theta)/(2*(cos(theta) - 1)), (x*(cos(theta)/2 - 1/2) + y*(sin(theta)/2 + cos(theta)/theta - 1/theta))/(cos(theta) - 1)],\n",
       "[                                     0,                                      0,                                                                                         1]])"
      ]
     },
     "execution_count": 6,
     "metadata": {},
     "output_type": "execute_result"
    }
   ],
   "source": [
    "U = A_inv@(-ad_v).exp()\n",
    "U = U.applyfunc(lambda term: term.trigsimp().collect([x, y]))\n",
    "U"
   ]
  },
  {
   "cell_type": "markdown",
   "id": "working-animal",
   "metadata": {},
   "source": [
    "This could be used for feedback linearization. If multiplied by u, would make u look like linear u."
   ]
  },
  {
   "cell_type": "code",
   "execution_count": 7,
   "id": "single-kidney",
   "metadata": {},
   "outputs": [
    {
     "data": {
      "text/latex": [
       "$\\displaystyle \\left[\\begin{matrix}1 - \\frac{\\theta^{2}}{12} - \\frac{\\theta^{4}}{720} + O\\left(\\theta^{5}\\right) & \\frac{\\theta}{2} & - \\frac{y}{2} + \\frac{\\theta x}{12} + \\frac{\\theta^{3} x}{720} + O\\left(\\theta^{5}\\right)\\\\- \\frac{\\theta}{2} & 1 - \\frac{\\theta^{2}}{12} - \\frac{\\theta^{4}}{720} + O\\left(\\theta^{5}\\right) & \\frac{x}{2} + \\frac{\\theta y}{12} + \\frac{\\theta^{3} y}{720} + O\\left(\\theta^{5}\\right)\\\\0 & 0 & 1\\end{matrix}\\right]$"
      ],
      "text/plain": [
       "Matrix([\n",
       "[1 - theta**2/12 - theta**4/720 + O(theta**5),                                      theta/2, -y/2 + theta*x/12 + theta**3*x/720 + O(theta**5)],\n",
       "[                                    -theta/2, 1 - theta**2/12 - theta**4/720 + O(theta**5),  x/2 + theta*y/12 + theta**3*y/720 + O(theta**5)],\n",
       "[                                           0,                                            0,                                                1]])"
      ]
     },
     "execution_count": 7,
     "metadata": {},
     "output_type": "execute_result"
    }
   ],
   "source": [
    "U_series = U.applyfunc(lambda x: x.series(theta, 0, 5))\n",
    "U_series"
   ]
  },
  {
   "cell_type": "code",
   "execution_count": 8,
   "id": "latter-phase",
   "metadata": {},
   "outputs": [
    {
     "data": {
      "text/latex": [
       "$\\displaystyle \\left[\\begin{matrix}\\frac{\\sin{\\left(\\theta \\right)}}{\\theta} & - \\frac{1 - \\cos{\\left(\\theta \\right)}}{\\theta} & \\frac{x \\left(- 2 \\theta \\cos{\\left(\\theta \\right)} + 2 \\theta - 2 \\sin{\\left(\\theta \\right)} + \\sin{\\left(2 \\theta \\right)}\\right) + y \\left(- 4 \\cos{\\left(\\theta \\right)} + \\cos{\\left(2 \\theta \\right)} + 3\\right)}{2 \\theta^{2} \\left(1 - \\cos{\\left(\\theta \\right)}\\right)}\\\\\\frac{1 - \\cos{\\left(\\theta \\right)}}{\\theta} & \\frac{\\sin{\\left(\\theta \\right)}}{\\theta} & \\frac{x \\left(- 4 \\cos{\\left(\\theta \\right)} + \\cos{\\left(2 \\theta \\right)} + 3\\right) + y \\left(2 \\theta \\cos{\\left(\\theta \\right)} - 2 \\theta + 2 \\sin{\\left(\\theta \\right)} - \\sin{\\left(2 \\theta \\right)}\\right)}{2 \\theta^{2} \\left(\\cos{\\left(\\theta \\right)} - 1\\right)}\\\\0 & 0 & 1\\end{matrix}\\right]$"
      ],
      "text/plain": [
       "Matrix([\n",
       "[      sin(theta)/theta, -(1 - cos(theta))/theta, (x*(-2*theta*cos(theta) + 2*theta - 2*sin(theta) + sin(2*theta)) + y*(-4*cos(theta) + cos(2*theta) + 3))/(2*theta**2*(1 - cos(theta)))],\n",
       "[(1 - cos(theta))/theta,        sin(theta)/theta,  (x*(-4*cos(theta) + cos(2*theta) + 3) + y*(2*theta*cos(theta) - 2*theta + 2*sin(theta) - sin(2*theta)))/(2*theta**2*(cos(theta) - 1))],\n",
       "[                     0,                       0,                                                                                                                                      1]])"
      ]
     },
     "execution_count": 8,
     "metadata": {},
     "output_type": "execute_result"
    }
   ],
   "source": [
    "U_inv = U.inv()\n",
    "U_inv = U_inv.applyfunc(lambda t: trigsimp(t).collect([x, y]))\n",
    "#U_inv[0, 2] = U_inv[0, 2].collect([theta*y, x, y]).collect(1- cos(theta))\n",
    "#U_inv[1, 2] = U_inv[1, 2].collect([theta*x, x, y]).collect(1- cos(theta))\n",
    "U_inv"
   ]
  },
  {
   "cell_type": "code",
   "execution_count": 9,
   "id": "extreme-property",
   "metadata": {},
   "outputs": [
    {
     "data": {
      "text/latex": [
       "$\\displaystyle \\left[\\begin{matrix}1 - \\frac{\\theta^{2}}{6} + \\frac{\\theta^{4}}{120} + O\\left(\\theta^{5}\\right) & - \\frac{\\theta}{2} + \\frac{\\theta^{3}}{24} + O\\left(\\theta^{5}\\right) & \\frac{y}{2} + \\frac{\\theta x}{6} - \\frac{\\theta^{2} y}{24} - \\frac{\\theta^{3} x}{120} + \\frac{\\theta^{4} y}{720} + O\\left(\\theta^{5}\\right)\\\\\\frac{\\theta}{2} - \\frac{\\theta^{3}}{24} + O\\left(\\theta^{5}\\right) & 1 - \\frac{\\theta^{2}}{6} + \\frac{\\theta^{4}}{120} + O\\left(\\theta^{5}\\right) & - \\frac{x}{2} + \\frac{\\theta y}{6} + \\frac{\\theta^{2} x}{24} - \\frac{\\theta^{3} y}{120} - \\frac{\\theta^{4} x}{720} + O\\left(\\theta^{5}\\right)\\\\0 & 0 & 1\\end{matrix}\\right]$"
      ],
      "text/plain": [
       "Matrix([\n",
       "[1 - theta**2/6 + theta**4/120 + O(theta**5),        -theta/2 + theta**3/24 + O(theta**5),  y/2 + theta*x/6 - theta**2*y/24 - theta**3*x/120 + theta**4*y/720 + O(theta**5)],\n",
       "[        theta/2 - theta**3/24 + O(theta**5), 1 - theta**2/6 + theta**4/120 + O(theta**5), -x/2 + theta*y/6 + theta**2*x/24 - theta**3*y/120 - theta**4*x/720 + O(theta**5)],\n",
       "[                                          0,                                           0,                                                                                1]])"
      ]
     },
     "execution_count": 9,
     "metadata": {},
     "output_type": "execute_result"
    }
   ],
   "source": [
    "U_inv_series = U_inv.applyfunc(lambda x: x.series(theta, 0, 5))\n",
    "U_inv_series"
   ]
  },
  {
   "cell_type": "code",
   "execution_count": 10,
   "id": "equipped-examination",
   "metadata": {},
   "outputs": [
    {
     "data": {
      "text/latex": [
       "$\\displaystyle \\left[\\begin{matrix}\\frac{\\cos{\\left(\\theta \\right)}}{2} - \\frac{1}{2} & \\frac{- \\theta y \\cos{\\left(\\theta \\right)} + \\theta y + x \\sin^{2}{\\left(\\theta \\right)} + 2 x \\cos{\\left(\\theta \\right)} - 2 x - y \\sin{\\left(\\theta \\right)} + \\frac{y \\sin{\\left(2 \\theta \\right)}}{2}}{2 \\theta \\left(\\cos{\\left(\\theta \\right)} - 1\\right)} & \\frac{- \\theta y \\cos{\\left(\\theta \\right)} + \\theta y + x \\sin^{2}{\\left(\\theta \\right)} + 2 x \\cos{\\left(\\theta \\right)} - 2 x - y \\sin{\\left(\\theta \\right)} + \\frac{y \\sin{\\left(2 \\theta \\right)}}{2}}{2 \\theta \\left(\\cos{\\left(\\theta \\right)} - 1\\right)}\\\\- \\frac{\\sin{\\left(\\theta \\right)}}{2} & \\frac{\\left(\\theta y + x \\cos{\\left(\\theta \\right)} - x - y \\sin{\\left(\\theta \\right)}\\right) \\sin{\\left(\\theta \\right)}}{2 \\theta \\left(\\cos{\\left(\\theta \\right)} - 1\\right)} & \\frac{\\left(\\theta y + x \\cos{\\left(\\theta \\right)} - x - y \\sin{\\left(\\theta \\right)}\\right) \\sin{\\left(\\theta \\right)}}{2 \\theta \\left(\\cos{\\left(\\theta \\right)} - 1\\right)}\\\\0 & 0 & 0\\end{matrix}\\right]$"
      ],
      "text/plain": [
       "Matrix([\n",
       "[cos(theta)/2 - 1/2, (-theta*y*cos(theta) + theta*y + x*sin(theta)**2 + 2*x*cos(theta) - 2*x - y*sin(theta) + y*sin(2*theta)/2)/(2*theta*(cos(theta) - 1)), (-theta*y*cos(theta) + theta*y + x*sin(theta)**2 + 2*x*cos(theta) - 2*x - y*sin(theta) + y*sin(2*theta)/2)/(2*theta*(cos(theta) - 1))],\n",
       "[     -sin(theta)/2,                                                     (theta*y + x*cos(theta) - x - y*sin(theta))*sin(theta)/(2*theta*(cos(theta) - 1)),                                                     (theta*y + x*cos(theta) - x - y*sin(theta))*sin(theta)/(2*theta*(cos(theta) - 1))],\n",
       "[                 0,                                                                                                                                     0,                                                                                                                                     0]])"
      ]
     },
     "execution_count": 10,
     "metadata": {},
     "output_type": "execute_result"
    }
   ],
   "source": [
    "B = Matrix([[1, 0], [0, 0], [0, 1]])\n",
    "L = diag(1, 0, 1)\n",
    "K = Matrix([[1, 0, 0], [0, 1, 1]])\n",
    "res = (U@L@U_inv - eye(3))@B@K\n",
    "res = res.applyfunc(lambda x: x.expand(trig=True).simplify())\n",
    "res"
   ]
  },
  {
   "cell_type": "code",
   "execution_count": 11,
   "id": "labeled-removal",
   "metadata": {},
   "outputs": [
    {
     "data": {
      "text/latex": [
       "$\\displaystyle \\left[\\begin{matrix}- \\frac{\\theta^{2}}{4} + \\frac{\\theta^{4}}{48} + O\\left(\\theta^{6}\\right) & \\frac{\\theta x}{4} - \\frac{\\theta^{2} y}{12} - \\frac{\\theta^{3} x}{48} + \\frac{\\theta^{4} y}{240} + \\frac{\\theta^{5} x}{1440} + O\\left(\\theta^{6}\\right) & \\frac{\\theta x}{4} - \\frac{\\theta^{2} y}{12} - \\frac{\\theta^{3} x}{48} + \\frac{\\theta^{4} y}{240} + \\frac{\\theta^{5} x}{1440} + O\\left(\\theta^{6}\\right)\\\\- \\frac{\\theta}{2} + \\frac{\\theta^{3}}{12} - \\frac{\\theta^{5}}{240} + O\\left(\\theta^{6}\\right) & \\frac{x}{2} - \\frac{\\theta y}{6} - \\frac{\\theta^{2} x}{12} + \\frac{\\theta^{3} y}{45} + \\frac{\\theta^{4} x}{240} - \\frac{\\theta^{5} y}{1512} + O\\left(\\theta^{6}\\right) & \\frac{x}{2} - \\frac{\\theta y}{6} - \\frac{\\theta^{2} x}{12} + \\frac{\\theta^{3} y}{45} + \\frac{\\theta^{4} x}{240} - \\frac{\\theta^{5} y}{1512} + O\\left(\\theta^{6}\\right)\\\\0 & 0 & 0\\end{matrix}\\right]$"
      ],
      "text/plain": [
       "Matrix([\n",
       "[            -theta**2/4 + theta**4/48 + O(theta**6),       theta*x/4 - theta**2*y/12 - theta**3*x/48 + theta**4*y/240 + theta**5*x/1440 + O(theta**6),       theta*x/4 - theta**2*y/12 - theta**3*x/48 + theta**4*y/240 + theta**5*x/1440 + O(theta**6)],\n",
       "[-theta/2 + theta**3/12 - theta**5/240 + O(theta**6), x/2 - theta*y/6 - theta**2*x/12 + theta**3*y/45 + theta**4*x/240 - theta**5*y/1512 + O(theta**6), x/2 - theta*y/6 - theta**2*x/12 + theta**3*y/45 + theta**4*x/240 - theta**5*y/1512 + O(theta**6)],\n",
       "[                                                  0,                                                                                                0,                                                                                                0]])"
      ]
     },
     "execution_count": 11,
     "metadata": {},
     "output_type": "execute_result"
    }
   ],
   "source": [
    "res_series = res.applyfunc(lambda x: series(x, theta))\n",
    "res_series"
   ]
  },
  {
   "cell_type": "code",
   "execution_count": 12,
   "id": "linear-illinois",
   "metadata": {},
   "outputs": [
    {
     "data": {
      "text/latex": [
       "$\\displaystyle \\left[\\begin{matrix}1 + O\\left(\\theta^{5}\\right) & O\\left(\\theta^{5}\\right) & O\\left(\\theta^{5}\\right)\\\\O\\left(\\theta^{5}\\right) & 1 + O\\left(\\theta^{5}\\right) & O\\left(\\theta^{5}\\right)\\\\0 & 0 & 1\\end{matrix}\\right]$"
      ],
      "text/plain": [
       "Matrix([\n",
       "[1 + O(theta**5),     O(theta**5), O(theta**5)],\n",
       "[    O(theta**5), 1 + O(theta**5), O(theta**5)],\n",
       "[              0,               0,           1]])"
      ]
     },
     "execution_count": 12,
     "metadata": {},
     "output_type": "execute_result"
    }
   ],
   "source": [
    "test = (U_series*U_inv_series)\n",
    "test.simplify()\n",
    "test"
   ]
  },
  {
   "cell_type": "code",
   "execution_count": 13,
   "id": "subsequent-letter",
   "metadata": {},
   "outputs": [
    {
     "data": {
      "text/latex": [
       "$\\displaystyle \\left[\\begin{matrix}1 & 0 & 0\\\\0 & 1 & 0\\\\0 & 0 & 1\\end{matrix}\\right]$"
      ],
      "text/plain": [
       "Matrix([\n",
       "[1, 0, 0],\n",
       "[0, 1, 0],\n",
       "[0, 0, 1]])"
      ]
     },
     "execution_count": 13,
     "metadata": {},
     "output_type": "execute_result"
    }
   ],
   "source": [
    "test = (U*U_inv)\n",
    "test.simplify()\n",
    "test"
   ]
  },
  {
   "cell_type": "code",
   "execution_count": 14,
   "id": "informed-honor",
   "metadata": {},
   "outputs": [
    {
     "data": {
      "text/latex": [
       "$\\displaystyle \\left[\\begin{matrix}- \\frac{\\theta u \\sin{\\left(\\theta \\right)}}{2 \\left(\\cos{\\left(\\theta \\right)} - 1\\right)} + \\frac{\\theta v}{2} + \\frac{w \\left(x \\left(\\frac{\\sin{\\left(\\theta \\right)}}{2} + \\frac{\\cos{\\left(\\theta \\right)}}{\\theta} - \\frac{1}{\\theta}\\right) + y \\left(\\frac{1}{2} - \\frac{\\cos{\\left(\\theta \\right)}}{2}\\right)\\right)}{\\cos{\\left(\\theta \\right)} - 1}\\\\- \\frac{\\theta u}{2} - \\frac{\\theta v \\sin{\\left(\\theta \\right)}}{2 \\left(\\cos{\\left(\\theta \\right)} - 1\\right)} + \\frac{w \\left(x \\left(\\frac{\\cos{\\left(\\theta \\right)}}{2} - \\frac{1}{2}\\right) + y \\left(\\frac{\\sin{\\left(\\theta \\right)}}{2} + \\frac{\\cos{\\left(\\theta \\right)}}{\\theta} - \\frac{1}{\\theta}\\right)\\right)}{\\cos{\\left(\\theta \\right)} - 1}\\\\w\\end{matrix}\\right]$"
      ],
      "text/plain": [
       "Matrix([\n",
       "[-theta*u*sin(theta)/(2*(cos(theta) - 1)) + theta*v/2 + w*(x*(sin(theta)/2 + cos(theta)/theta - 1/theta) + y*(1/2 - cos(theta)/2))/(cos(theta) - 1)],\n",
       "[-theta*u/2 - theta*v*sin(theta)/(2*(cos(theta) - 1)) + w*(x*(cos(theta)/2 - 1/2) + y*(sin(theta)/2 + cos(theta)/theta - 1/theta))/(cos(theta) - 1)],\n",
       "[                                                                                                                                                 w]])"
      ]
     },
     "execution_count": 14,
     "metadata": {},
     "output_type": "execute_result"
    }
   ],
   "source": [
    "u, v, w = symbols('u, v, w', real=True)\n",
    "out = U@Matrix([u, v, w])\n",
    "out"
   ]
  },
  {
   "cell_type": "code",
   "execution_count": 15,
   "id": "universal-learning",
   "metadata": {},
   "outputs": [
    {
     "data": {
      "text/latex": [
       "$\\displaystyle \\left[\\begin{matrix}- \\frac{\\theta u \\sin{\\left(\\theta \\right)}}{2 \\left(\\cos{\\left(\\theta \\right)} - 1\\right)} + \\frac{\\theta v}{2} + \\frac{w \\left(x \\left(\\frac{\\sin{\\left(\\theta \\right)}}{2} + \\frac{\\cos{\\left(\\theta \\right)}}{\\theta} - \\frac{1}{\\theta}\\right) + y \\left(\\frac{1}{2} - \\frac{\\cos{\\left(\\theta \\right)}}{2}\\right)\\right)}{\\cos{\\left(\\theta \\right)} - 1}\\\\- \\frac{\\theta u}{2} - \\frac{\\theta v \\sin{\\left(\\theta \\right)}}{2 \\left(\\cos{\\left(\\theta \\right)} - 1\\right)} + \\frac{w \\left(x \\left(\\frac{\\cos{\\left(\\theta \\right)}}{2} - \\frac{1}{2}\\right) + y \\left(\\frac{\\sin{\\left(\\theta \\right)}}{2} + \\frac{\\cos{\\left(\\theta \\right)}}{\\theta} - \\frac{1}{\\theta}\\right)\\right)}{\\cos{\\left(\\theta \\right)} - 1}\\\\w\\end{matrix}\\right]$"
      ],
      "text/plain": [
       "Matrix([\n",
       "[-theta*u*sin(theta)/(2*(cos(theta) - 1)) + theta*v/2 + w*(x*(sin(theta)/2 + cos(theta)/theta - 1/theta) + y*(1/2 - cos(theta)/2))/(cos(theta) - 1)],\n",
       "[-theta*u/2 - theta*v*sin(theta)/(2*(cos(theta) - 1)) + w*(x*(cos(theta)/2 - 1/2) + y*(sin(theta)/2 + cos(theta)/theta - 1/theta))/(cos(theta) - 1)],\n",
       "[                                                                                                                                                 w]])"
      ]
     },
     "execution_count": 15,
     "metadata": {},
     "output_type": "execute_result"
    }
   ],
   "source": [
    "out.applyfunc(lambda term: term.collect([x, y]))"
   ]
  },
  {
   "cell_type": "code",
   "execution_count": 16,
   "id": "boring-details",
   "metadata": {},
   "outputs": [
    {
     "data": {
      "text/latex": [
       "$\\displaystyle \\left[\\begin{matrix}\\frac{x \\left(- \\theta^{2} \\cos{\\left(\\theta \\right)} + \\theta^{2} + 4 \\cos{\\left(\\theta \\right)} - \\cos{\\left(2 \\theta \\right)} - 3\\right)}{2 \\theta^{2} \\left(\\cos{\\left(\\theta \\right)} - 1\\right)^{2}} & \\frac{\\frac{\\theta \\sin{\\left(\\theta \\right)}}{2} + \\cos{\\left(\\theta \\right)} - 1}{\\theta \\left(\\cos{\\left(\\theta \\right)} - 1\\right)} & - \\frac{1}{2}\\end{matrix}\\right]$"
      ],
      "text/plain": [
       "Matrix([[x*(-theta**2*cos(theta) + theta**2 + 4*cos(theta) - cos(2*theta) - 3)/(2*theta**2*(cos(theta) - 1)**2), (theta*sin(theta)/2 + cos(theta) - 1)/(theta*(cos(theta) - 1)), -1/2]])"
      ]
     },
     "execution_count": 16,
     "metadata": {},
     "output_type": "execute_result"
    }
   ],
   "source": [
    "res = Matrix([U[0,2]]).jacobian(Matrix([theta, x, y]))\n",
    "res.simplify()\n",
    "res"
   ]
  },
  {
   "cell_type": "code",
   "execution_count": 17,
   "id": "wrapped-selling",
   "metadata": {},
   "outputs": [
    {
     "data": {
      "text/latex": [
       "$\\displaystyle \\left[\\begin{matrix}\\frac{\\theta^{5} w x}{30240} - \\frac{\\theta^{4} u}{720} + \\frac{\\theta^{3} w x}{720} - \\frac{\\theta^{2} u}{12} + \\theta \\left(\\frac{v}{2} + \\frac{w x}{12}\\right) + u - \\frac{w y}{2}\\\\\\frac{\\theta^{5} w y}{30240} - \\frac{\\theta^{4} v}{720} + \\frac{\\theta^{3} w y}{720} - \\frac{\\theta^{2} v}{12} + \\theta \\left(- \\frac{u}{2} + \\frac{w y}{12}\\right) + v + \\frac{w x}{2}\\\\w\\end{matrix}\\right]$"
      ],
      "text/plain": [
       "Matrix([\n",
       "[ theta**5*w*x/30240 - theta**4*u/720 + theta**3*w*x/720 - theta**2*u/12 + theta*(v/2 + w*x/12) + u - w*y/2],\n",
       "[theta**5*w*y/30240 - theta**4*v/720 + theta**3*w*y/720 - theta**2*v/12 + theta*(-u/2 + w*y/12) + v + w*x/2],\n",
       "[                                                                                                         w]])"
      ]
     },
     "execution_count": 17,
     "metadata": {},
     "output_type": "execute_result"
    }
   ],
   "source": [
    "out.applyfunc(lambda x: x.series(theta).removeO())"
   ]
  },
  {
   "cell_type": "markdown",
   "id": "whole-navigator",
   "metadata": {},
   "source": [
    "This looks like it will fit within the BIBO (bounded-input, bounded-output) problem structure."
   ]
  },
  {
   "cell_type": "markdown",
   "id": "greek-subsection",
   "metadata": {},
   "source": [
    "It is worth noting that w is not scaled here."
   ]
  },
  {
   "cell_type": "code",
   "execution_count": 18,
   "id": "2745e2a1",
   "metadata": {},
   "outputs": [
    {
     "data": {
      "text/latex": [
       "$\\displaystyle \\left[\\begin{matrix}\\frac{\\theta \\sin{\\left(\\theta \\right)}}{2 \\left(\\cos{\\left(\\theta \\right)} - 1\\right)} & - \\frac{\\theta}{2} & - \\frac{x \\left(\\frac{\\sin{\\left(\\theta \\right)}}{2} + \\frac{\\cos{\\left(\\theta \\right)}}{\\theta} - \\frac{1}{\\theta}\\right) + y \\left(\\frac{1}{2} - \\frac{\\cos{\\left(\\theta \\right)}}{2}\\right)}{\\cos{\\left(\\theta \\right)} - 1}\\\\\\frac{\\theta}{2} & \\frac{\\theta \\sin{\\left(\\theta \\right)}}{2 \\left(\\cos{\\left(\\theta \\right)} - 1\\right)} & - \\frac{x \\left(\\frac{\\cos{\\left(\\theta \\right)}}{2} - \\frac{1}{2}\\right) + y \\left(\\frac{\\sin{\\left(\\theta \\right)}}{2} + \\frac{\\cos{\\left(\\theta \\right)}}{\\theta} - \\frac{1}{\\theta}\\right)}{\\cos{\\left(\\theta \\right)} - 1}\\\\0 & 0 & -1\\end{matrix}\\right]$"
      ],
      "text/plain": [
       "Matrix([\n",
       "[theta*sin(theta)/(2*(cos(theta) - 1)),                              -theta/2, -(x*(sin(theta)/2 + cos(theta)/theta - 1/theta) + y*(1/2 - cos(theta)/2))/(cos(theta) - 1)],\n",
       "[                              theta/2, theta*sin(theta)/(2*(cos(theta) - 1)), -(x*(cos(theta)/2 - 1/2) + y*(sin(theta)/2 + cos(theta)/theta - 1/theta))/(cos(theta) - 1)],\n",
       "[                                    0,                                     0,                                                                                         -1]])"
      ]
     },
     "execution_count": 18,
     "metadata": {},
     "output_type": "execute_result"
    }
   ],
   "source": [
    "U = -U\n",
    "U"
   ]
  },
  {
   "cell_type": "code",
   "execution_count": 19,
   "id": "opponent-assistant",
   "metadata": {},
   "outputs": [
    {
     "data": {
      "text/latex": [
       "$\\displaystyle 1$"
      ],
      "text/plain": [
       "1"
      ]
     },
     "execution_count": 19,
     "metadata": {},
     "output_type": "execute_result"
    }
   ],
   "source": [
    "w_svals = U[2, :].singular_values()[0]\n",
    "w_svals"
   ]
  },
  {
   "cell_type": "code",
   "execution_count": 38,
   "id": "valuable-lodging",
   "metadata": {},
   "outputs": [
    {
     "data": {
      "text/latex": [
       "$\\displaystyle \\frac{\\sqrt{\\frac{\\left(- 2 \\theta^{4} \\left(\\cos{\\left(\\theta \\right)} - 1\\right) + v \\left(- \\theta^{2} \\left(\\cos{\\left(\\theta \\right)} - 1\\right) - \\theta \\left(2 \\sin{\\left(\\theta \\right)} - \\sin{\\left(2 \\theta \\right)}\\right) - 4 \\cos{\\left(\\theta \\right)} + \\cos{\\left(2 \\theta \\right)} + 3\\right)\\right) \\left(\\cos{\\left(\\theta \\right)} - 1\\right) + \\sqrt{- 4 \\theta^{4} \\left(\\theta^{4} \\left(\\cos{\\left(\\theta \\right)} - 1\\right) - v \\left(- \\theta^{2} \\left(\\cos{\\left(\\theta \\right)} - 1\\right) - \\theta \\left(2 \\sin{\\left(\\theta \\right)} - \\sin{\\left(2 \\theta \\right)}\\right) - 4 \\cos{\\left(\\theta \\right)} + \\cos{\\left(2 \\theta \\right)} + 3\\right)\\right) \\left(\\cos{\\left(\\theta \\right)} - 1\\right)^{3} + \\left(2 \\theta^{4} \\left(\\cos{\\left(\\theta \\right)} - 1\\right)^{2} - v \\left(- \\theta^{2} \\left(\\cos{\\left(\\theta \\right)} - 1\\right)^{2} - 2 \\theta \\left(\\sin^{2}{\\left(\\theta \\right)} + 2 \\cos{\\left(\\theta \\right)} - 2\\right) \\sin{\\left(\\theta \\right)} + 2 \\cos^{3}{\\left(\\theta \\right)} - 6 \\cos^{2}{\\left(\\theta \\right)} + 6 \\cos{\\left(\\theta \\right)} - 2\\right)\\right)^{2}}}{\\theta^{2} \\left(\\cos{\\left(\\theta \\right)} - 1\\right)^{3}}}}{2}$"
      ],
      "text/plain": [
       "sqrt(((-2*theta**4*(cos(theta) - 1) + v*(-theta**2*(cos(theta) - 1) - theta*(2*sin(theta) - sin(2*theta)) - 4*cos(theta) + cos(2*theta) + 3))*(cos(theta) - 1) + sqrt(-4*theta**4*(theta**4*(cos(theta) - 1) - v*(-theta**2*(cos(theta) - 1) - theta*(2*sin(theta) - sin(2*theta)) - 4*cos(theta) + cos(2*theta) + 3))*(cos(theta) - 1)**3 + (2*theta**4*(cos(theta) - 1)**2 - v*(-theta**2*(cos(theta) - 1)**2 - 2*theta*(sin(theta)**2 + 2*cos(theta) - 2)*sin(theta) + 2*cos(theta)**3 - 6*cos(theta)**2 + 6*cos(theta) - 2))**2))/(theta**2*(cos(theta) - 1)**3))/2"
      ]
     },
     "execution_count": 38,
     "metadata": {},
     "output_type": "execute_result"
    }
   ],
   "source": [
    "uv_sval = U[:2, :].singular_values()[0]\n",
    "term1 = -theta**2*cos(theta) + theta**2 -2*theta*sin(theta) + theta*sin(2*theta) - 4*cos(theta) + cos(2*theta) + 3\n",
    "term2 = -theta**2*cos(theta)**2 + 2*theta**2*cos(theta) - theta**2 - 2*theta*sin(theta)**3 - 4*theta*sin(theta)*cos(theta) + 4*theta*sin(theta) + 2*cos(theta)**3 - 6*cos(theta)**2 + 6*cos(theta) - 2\n",
    "v = symbols('v', real=True)\n",
    "uv_sval = uv_sval.collect([x, y]).collect([term1, term2])\n",
    "uv_sval = uv_sval.subs(x**2 + y**2, v)\n",
    "uv_sval = uv_sval.collect(theta).simplify()\n",
    "uv_sval"
   ]
  },
  {
   "cell_type": "code",
   "execution_count": 22,
   "id": "a78bc8d0",
   "metadata": {},
   "outputs": [
    {
     "data": {
      "text/latex": [
       "$\\displaystyle \\sqrt{\\frac{\\theta^{2}}{4} + \\frac{\\theta^{2} \\sin^{2}{\\left(\\theta \\right)}}{4 \\left(\\cos{\\left(\\theta \\right)} - 1\\right)^{2}} + \\frac{\\left(x \\left(\\frac{\\sin{\\left(\\theta \\right)}}{2} + \\frac{\\cos{\\left(\\theta \\right)}}{\\theta} - \\frac{1}{\\theta}\\right) + y \\left(\\frac{1}{2} - \\frac{\\cos{\\left(\\theta \\right)}}{2}\\right)\\right)^{2}}{\\left(\\cos{\\left(\\theta \\right)} - 1\\right)^{2}}}$"
      ],
      "text/plain": [
       "sqrt(theta**2/4 + theta**2*sin(theta)**2/(4*(cos(theta) - 1)**2) + (x*(sin(theta)/2 + cos(theta)/theta - 1/theta) + y*(1/2 - cos(theta)/2))**2/(cos(theta) - 1)**2)"
      ]
     },
     "execution_count": 22,
     "metadata": {},
     "output_type": "execute_result"
    }
   ],
   "source": [
    "U[0, :].singular_values()[0]"
   ]
  },
  {
   "cell_type": "code",
   "execution_count": 23,
   "id": "36adff8b",
   "metadata": {},
   "outputs": [
    {
     "data": {
      "text/latex": [
       "$\\displaystyle \\sqrt{\\frac{\\theta^{2}}{4} + \\frac{\\theta^{2} \\sin^{2}{\\left(\\theta \\right)}}{4 \\left(\\cos{\\left(\\theta \\right)} - 1\\right)^{2}} + \\frac{\\left(x \\left(\\frac{\\cos{\\left(\\theta \\right)}}{2} - \\frac{1}{2}\\right) + y \\left(\\frac{\\sin{\\left(\\theta \\right)}}{2} + \\frac{\\cos{\\left(\\theta \\right)}}{\\theta} - \\frac{1}{\\theta}\\right)\\right)^{2}}{\\left(\\cos{\\left(\\theta \\right)} - 1\\right)^{2}}}$"
      ],
      "text/plain": [
       "sqrt(theta**2/4 + theta**2*sin(theta)**2/(4*(cos(theta) - 1)**2) + (x*(cos(theta)/2 - 1/2) + y*(sin(theta)/2 + cos(theta)/theta - 1/theta))**2/(cos(theta) - 1)**2)"
      ]
     },
     "execution_count": 23,
     "metadata": {},
     "output_type": "execute_result"
    }
   ],
   "source": [
    "U[1, :].singular_values()[0]"
   ]
  },
  {
   "cell_type": "code",
   "execution_count": 35,
   "id": "f1dce400-917d-4150-9ff3-b7c486e3e725",
   "metadata": {},
   "outputs": [
    {
     "data": {
      "image/png": "[encoded data removed]",
      "text/plain": [
       "<Figure size 432x288 with 1 Axes>"
      ]
     },
     "metadata": {
      "needs_background": "light"
     },
     "output_type": "display_data"
    },
    {
     "data": {
      "text/plain": [
       "<sympy.plotting.plot.Plot at 0x7ff0065a8970>"
      ]
     },
     "execution_count": 35,
     "metadata": {},
     "output_type": "execute_result"
    }
   ],
   "source": [
    "from sympy.plotting import plot3d\n",
    "plot3d(uv_sval, (v, 0, 1000), (theta, -pi, pi))"
   ]
  },
  {
   "cell_type": "markdown",
   "id": "consistent-priority",
   "metadata": {},
   "source": [
    "It is clear that the v term must cancel, as the expression is independent of v."
   ]
  },
  {
   "cell_type": "markdown",
   "id": "fatal-radio",
   "metadata": {},
   "source": [
    "Neglecting the terms that depend on v we arrive at."
   ]
  },
  {
   "cell_type": "code",
   "execution_count": 77,
   "id": "becoming-israeli",
   "metadata": {},
   "outputs": [
    {
     "data": {
      "text/latex": [
       "$\\displaystyle \\frac{\\sqrt{2} \\sqrt{- \\frac{1}{\\cos{\\left(\\theta \\right)} - 1}} \\left|{\\theta}\\right|}{2}$"
      ],
      "text/plain": [
       "sqrt(2)*sqrt(-1/(cos(theta) - 1))*Abs(theta)/2"
      ]
     },
     "execution_count": 77,
     "metadata": {},
     "output_type": "execute_result"
    }
   ],
   "source": [
    "uv_sval_simp = uv_sval.subs(v, 0)\n",
    "uv_sval_simp"
   ]
  },
  {
   "cell_type": "code",
   "execution_count": 78,
   "id": "unlikely-course",
   "metadata": {},
   "outputs": [
    {
     "data": {
      "text/latex": [
       "$\\displaystyle \\frac{\\pi}{2}$"
      ],
      "text/plain": [
       "pi/2"
      ]
     },
     "execution_count": 78,
     "metadata": {},
     "output_type": "execute_result"
    }
   ],
   "source": [
    "uv_sval_simp.subs(theta, pi)"
   ]
  },
  {
   "cell_type": "markdown",
   "id": "stunning-statement",
   "metadata": {},
   "source": [
    "Now we can compute the maximum amplificatoin of the uv disturbance, which occurs at +/- $\\pi$."
   ]
  },
  {
   "cell_type": "markdown",
   "id": "lesser-elimination",
   "metadata": {},
   "source": [
    "Therefore, we can treat this as a standard BIBO problem, where we the amplification of u, v input magnitude by $\\pi/2$. There is no amplification of the w disturbance."
   ]
  },
  {
   "cell_type": "code",
   "execution_count": 79,
   "id": "successful-silence",
   "metadata": {},
   "outputs": [
    {
     "data": {
      "text/plain": [
       "<matplotlib.collections.LineCollection at 0x7fd9a26cd910>"
      ]
     },
     "execution_count": 79,
     "metadata": {},
     "output_type": "execute_result"
    },
    {
     "data": {
      "image/png": "[encoded data removed]",
      "text/plain": [
       "<Figure size 432x288 with 1 Axes>"
      ]
     },
     "metadata": {
      "needs_background": "light"
     },
     "output_type": "display_data"
    }
   ],
   "source": [
    "import matplotlib.pyplot as plt\n",
    "import numpy as np\n",
    "data = []\n",
    "n = 4\n",
    "for xi in np.linspace(-1, 1, n):\n",
    "    for yi in np.linspace(-1, 1, n):\n",
    "        for thetai in np.linspace(-np.pi, np.pi, n):\n",
    "            for ui in np.linspace(-1, 1, n):\n",
    "                for vi in np.linspace(-1, 1, n):\n",
    "                    for wi in np.linspace(-1, 1, n):\n",
    "                        v = np.array([ui, vi, wi])\n",
    "                        w2 = np.array(U[2, :].subs({x: xi, y: yi, theta: thetai}), dtype=float)@v\n",
    "                        data.append(np.linalg.norm(w2)/np.linalg.norm(wi))\n",
    "res = np.array(data, dtype=float)\n",
    "plt.plot(res)\n",
    "plt.hlines(1, 0, len(res), color='red')"
   ]
  },
  {
   "cell_type": "code",
   "execution_count": 80,
   "id": "approved-respondent",
   "metadata": {},
   "outputs": [
    {
     "data": {
      "text/plain": [
       "<matplotlib.collections.LineCollection at 0x7fd9a2b3c3d0>"
      ]
     },
     "execution_count": 80,
     "metadata": {},
     "output_type": "execute_result"
    },
    {
     "data": {
      "image/png": "[encoded data removed]",
      "text/plain": [
       "<Figure size 432x288 with 1 Axes>"
      ]
     },
     "metadata": {
      "needs_background": "light"
     },
     "output_type": "display_data"
    }
   ],
   "source": [
    "data = []\n",
    "n = 4\n",
    "for xi in np.linspace(-1, 1, n):\n",
    "    for yi in np.linspace(-1, 1, n):\n",
    "        for thetai in np.linspace(-np.pi, np.pi, n):\n",
    "            for ui in np.linspace(-1, 1, n):\n",
    "                for vi in np.linspace(-1, 1, n):\n",
    "                    for wi in np.linspace(-1, 1, n):\n",
    "                        uv = np.array([ui, vi])\n",
    "                        uv2 = np.array(U[:2, :2].subs({x: xi, y: yi, theta: thetai}), dtype=float)@uv\n",
    "                        data.append(np.linalg.norm(uv2)/np.linalg.norm(uv))\n",
    "res = np.array(data, dtype=float)\n",
    "plt.plot(res)\n",
    "plt.hlines(np.pi/2, 0, len(res), color='r')"
   ]
  },
  {
   "cell_type": "code",
   "execution_count": 81,
   "id": "faced-hungary",
   "metadata": {},
   "outputs": [
    {
     "data": {
      "text/plain": [
       "<matplotlib.collections.LineCollection at 0x7fd9a34064d0>"
      ]
     },
     "execution_count": 81,
     "metadata": {},
     "output_type": "execute_result"
    },
    {
     "data": {
      "image/png": "[encoded data removed]",
      "text/plain": [
       "<Figure size 432x288 with 1 Axes>"
      ]
     },
     "metadata": {
      "needs_background": "light"
     },
     "output_type": "display_data"
    }
   ],
   "source": [
    "data = []\n",
    "n = 4\n",
    "for xi in np.linspace(-10, 10, n):\n",
    "    for yi in np.linspace(-10, 10, n):\n",
    "        for thetai in np.linspace(-np.pi, np.pi, n):\n",
    "            for ui in np.linspace(-10, 10, n):\n",
    "                for vi in np.linspace(-10, 10, n):\n",
    "                    for wi in np.linspace(-10, 10, n):\n",
    "                        v = np.array([ui, vi, wi])\n",
    "                        v2 = np.array(U.subs({x: xi, y: yi, theta: thetai}), dtype=float)@v\n",
    "                        data.append(np.linalg.norm(v2[:2])/np.linalg.norm(v[:2]))\n",
    "res = np.array(data, dtype=float)\n",
    "plt.plot(res)\n",
    "plt.hlines(np.pi/2, 0, len(res), color='r')"
   ]
  },
  {
   "cell_type": "code",
   "execution_count": 82,
   "id": "colored-rebate",
   "metadata": {},
   "outputs": [
    {
     "data": {
      "text/plain": [
       "<matplotlib.collections.LineCollection at 0x7fd9a35565d0>"
      ]
     },
     "execution_count": 82,
     "metadata": {},
     "output_type": "execute_result"
    },
    {
     "data": {
      "image/png": "[encoded data removed]",
      "text/plain": [
       "<Figure size 432x288 with 1 Axes>"
      ]
     },
     "metadata": {
      "needs_background": "light"
     },
     "output_type": "display_data"
    }
   ],
   "source": [
    "data = []\n",
    "n = 4\n",
    "d = 1\n",
    "for xi in np.linspace(-d, d, n):\n",
    "    for yi in np.linspace(-d, d, n):\n",
    "        for thetai in np.linspace(-np.pi, np.pi, n):\n",
    "            for ui in np.linspace(-d, d, n):\n",
    "                for vi in np.linspace(-d, d, n):\n",
    "                    for wi in np.linspace(-d, d, n):\n",
    "                        v = np.array([ui, vi, wi])\n",
    "                        uv = np.array([ui, vi])\n",
    "                        uv2 = np.array(U[:2, :].subs({x: xi, y: yi, theta: thetai}), dtype=float)@v\n",
    "                        data.append(np.linalg.norm(uv2)/np.linalg.norm(uv))\n",
    "res = np.array(data, dtype=float)\n",
    "plt.plot(res)\n",
    "plt.hlines(np.pi/2 + np.sqrt(4 + np.pi**2)*np.sqrt(2*d**2)/(2*np.pi)*d, 0, len(res), color='r')"
   ]
  },
  {
   "cell_type": "code",
   "execution_count": 31,
   "id": "b1deeeb3",
   "metadata": {},
   "outputs": [
    {
     "data": {
      "text/latex": [
       "$\\displaystyle \\left[\\begin{matrix}0 & - \\theta\\\\\\theta & 0\\end{matrix}\\right]$"
      ],
      "text/plain": [
       "Matrix([\n",
       "[    0, -theta],\n",
       "[theta,      0]])"
      ]
     },
     "execution_count": 31,
     "metadata": {},
     "output_type": "execute_result"
    }
   ],
   "source": [
    "ad_so2 = Matrix([[0, -theta],[theta, 0]])\n",
    "ad_so2"
   ]
  },
  {
   "cell_type": "code",
   "execution_count": 35,
   "id": "b132fc28",
   "metadata": {},
   "outputs": [
    {
     "data": {
      "text/latex": [
       "$\\displaystyle \\left[\\begin{matrix}1 - \\cos{\\left(\\theta \\right)} & - \\sin{\\left(\\theta \\right)}\\\\\\sin{\\left(\\theta \\right)} & 1 - \\cos{\\left(\\theta \\right)}\\end{matrix}\\right]$"
      ],
      "text/plain": [
       "Matrix([\n",
       "[1 - cos(theta),    -sin(theta)],\n",
       "[    sin(theta), 1 - cos(theta)]])"
      ]
     },
     "execution_count": 35,
     "metadata": {},
     "output_type": "execute_result"
    }
   ],
   "source": [
    "A1 = Matrix([[1-cos(theta), -sin(theta)],[sin(theta), 1-cos(theta)]])\n",
    "A1"
   ]
  },
  {
   "cell_type": "code",
   "execution_count": 40,
   "id": "5f071ff0",
   "metadata": {},
   "outputs": [
    {
     "data": {
      "text/latex": [
       "$\\displaystyle \\left[\\begin{matrix}\\frac{\\sin{\\left(\\theta \\right)}}{\\theta} & \\frac{1 - \\cos{\\left(\\theta \\right)}}{\\theta}\\\\- \\frac{1 - \\cos{\\left(\\theta \\right)}}{\\theta} & \\frac{\\sin{\\left(\\theta \\right)}}{\\theta}\\end{matrix}\\right]$"
      ],
      "text/plain": [
       "Matrix([\n",
       "[       sin(theta)/theta, (1 - cos(theta))/theta],\n",
       "[-(1 - cos(theta))/theta,       sin(theta)/theta]])"
      ]
     },
     "execution_count": 40,
     "metadata": {},
     "output_type": "execute_result"
    }
   ],
   "source": [
    "A2 = A1@ad_so2.inv()\n",
    "A2"
   ]
  },
  {
   "cell_type": "code",
   "execution_count": 42,
   "id": "ab654b67",
   "metadata": {},
   "outputs": [
    {
     "data": {
      "text/latex": [
       "$\\displaystyle \\left[\\begin{matrix}\\frac{\\theta \\sin{\\left(\\theta \\right)}}{\\sin^{2}{\\left(\\theta \\right)} + \\cos^{2}{\\left(\\theta \\right)} - 2 \\cos{\\left(\\theta \\right)} + 1} & \\frac{\\theta \\cos{\\left(\\theta \\right)} - \\theta}{\\sin^{2}{\\left(\\theta \\right)} + \\cos^{2}{\\left(\\theta \\right)} - 2 \\cos{\\left(\\theta \\right)} + 1}\\\\\\frac{- \\theta \\cos{\\left(\\theta \\right)} + \\theta}{\\sin^{2}{\\left(\\theta \\right)} + \\cos^{2}{\\left(\\theta \\right)} - 2 \\cos{\\left(\\theta \\right)} + 1} & \\frac{\\theta \\sin{\\left(\\theta \\right)}}{\\sin^{2}{\\left(\\theta \\right)} + \\cos^{2}{\\left(\\theta \\right)} - 2 \\cos{\\left(\\theta \\right)} + 1}\\end{matrix}\\right]$"
      ],
      "text/plain": [
       "Matrix([\n",
       "[           theta*sin(theta)/(sin(theta)**2 + cos(theta)**2 - 2*cos(theta) + 1), (theta*cos(theta) - theta)/(sin(theta)**2 + cos(theta)**2 - 2*cos(theta) + 1)],\n",
       "[(-theta*cos(theta) + theta)/(sin(theta)**2 + cos(theta)**2 - 2*cos(theta) + 1),           theta*sin(theta)/(sin(theta)**2 + cos(theta)**2 - 2*cos(theta) + 1)]])"
      ]
     },
     "execution_count": 42,
     "metadata": {},
     "output_type": "execute_result"
    }
   ],
   "source": [
    "A2_inv = A2.inv()\n",
    "A2_inv"
   ]
  },
  {
   "cell_type": "code",
   "execution_count": 37,
   "id": "5891e2ef",
   "metadata": {},
   "outputs": [
    {
     "data": {
      "text/latex": [
       "$\\displaystyle \\left[\\begin{matrix}\\frac{\\sin{\\left(\\theta \\right)}}{\\theta} & \\frac{1 - \\cos{\\left(\\theta \\right)}}{\\theta}\\\\\\frac{\\cos{\\left(\\theta \\right)} - 1}{\\theta} & \\frac{\\sin{\\left(\\theta \\right)}}{\\theta}\\end{matrix}\\right]$"
      ],
      "text/plain": [
       "Matrix([\n",
       "[      sin(theta)/theta, (1 - cos(theta))/theta],\n",
       "[(cos(theta) - 1)/theta,       sin(theta)/theta]])"
      ]
     },
     "execution_count": 37,
     "metadata": {},
     "output_type": "execute_result"
    }
   ],
   "source": [
    "k = symbols('k', real=True, integer=True)\n",
    "A = summation(((-1)**k/factorial(k+1))*ad_so2**k, (k, 0, oo))\n",
    "\n",
    "A = A.applyfunc(lambda term: term.expand(complex=True).factor().collect([x, y]).simplify())\n",
    "A"
   ]
  },
  {
   "cell_type": "code",
   "execution_count": 27,
   "id": "887cea57",
   "metadata": {},
   "outputs": [
    {
     "data": {
      "text/latex": [
       "$\\displaystyle \\left[\\begin{matrix}\\frac{\\theta \\sin{\\left(\\theta \\right)}}{\\sin^{2}{\\left(\\theta \\right)} + \\cos^{2}{\\left(\\theta \\right)} - 2 \\cos{\\left(\\theta \\right)} + 1} & \\frac{\\theta \\cos{\\left(\\theta \\right)} - \\theta}{\\sin^{2}{\\left(\\theta \\right)} + \\cos^{2}{\\left(\\theta \\right)} - 2 \\cos{\\left(\\theta \\right)} + 1}\\\\\\frac{- \\theta \\cos{\\left(\\theta \\right)} + \\theta}{\\sin^{2}{\\left(\\theta \\right)} + \\cos^{2}{\\left(\\theta \\right)} - 2 \\cos{\\left(\\theta \\right)} + 1} & \\frac{\\theta \\sin{\\left(\\theta \\right)}}{\\sin^{2}{\\left(\\theta \\right)} + \\cos^{2}{\\left(\\theta \\right)} - 2 \\cos{\\left(\\theta \\right)} + 1}\\end{matrix}\\right]$"
      ],
      "text/plain": [
       "Matrix([\n",
       "[           theta*sin(theta)/(sin(theta)**2 + cos(theta)**2 - 2*cos(theta) + 1), (theta*cos(theta) - theta)/(sin(theta)**2 + cos(theta)**2 - 2*cos(theta) + 1)],\n",
       "[(-theta*cos(theta) + theta)/(sin(theta)**2 + cos(theta)**2 - 2*cos(theta) + 1),           theta*sin(theta)/(sin(theta)**2 + cos(theta)**2 - 2*cos(theta) + 1)]])"
      ]
     },
     "execution_count": 27,
     "metadata": {},
     "output_type": "execute_result"
    }
   ],
   "source": [
    "A_inv = A.inv()\n",
    "A_inv"
   ]
  },
  {
   "cell_type": "code",
   "execution_count": 29,
   "id": "56d818c1",
   "metadata": {},
   "outputs": [],
   "source": [
    "U = A_inv@(-ad_so2).exp()"
   ]
  },
  {
   "cell_type": "code",
   "execution_count": 30,
   "id": "2324b017",
   "metadata": {},
   "outputs": [
    {
     "data": {
      "text/latex": [
       "$\\displaystyle \\left[\\begin{matrix}- \\frac{\\theta \\sin{\\left(\\theta \\right)}}{2 \\left(\\cos{\\left(\\theta \\right)} - 1\\right)} & \\frac{\\theta}{2}\\\\- \\frac{\\theta}{2} & - \\frac{\\theta \\sin{\\left(\\theta \\right)}}{2 \\left(\\cos{\\left(\\theta \\right)} - 1\\right)}\\end{matrix}\\right]$"
      ],
      "text/plain": [
       "Matrix([\n",
       "[-theta*sin(theta)/(2*(cos(theta) - 1)),                                theta/2],\n",
       "[                              -theta/2, -theta*sin(theta)/(2*(cos(theta) - 1))]])"
      ]
     },
     "execution_count": 30,
     "metadata": {},
     "output_type": "execute_result"
    }
   ],
   "source": [
    "U = U.applyfunc(lambda term: term.trigsimp().collect([]))\n",
    "U"
   ]
  },
  {
   "cell_type": "code",
   "execution_count": 44,
   "id": "35822e2d",
   "metadata": {},
   "outputs": [
    {
     "data": {
      "text/latex": [
       "$\\displaystyle \\left[\\begin{matrix}- \\frac{\\theta \\sin{\\left(\\theta \\right)}}{2 \\left(\\cos{\\left(\\theta \\right)} - 1\\right)} & \\frac{\\theta}{2}\\\\- \\frac{\\theta}{2} & - \\frac{\\theta \\sin{\\left(\\theta \\right)}}{2 \\left(\\cos{\\left(\\theta \\right)} - 1\\right)}\\end{matrix}\\right]$"
      ],
      "text/plain": [
       "Matrix([\n",
       "[-theta*sin(theta)/(2*(cos(theta) - 1)),                                theta/2],\n",
       "[                              -theta/2, -theta*sin(theta)/(2*(cos(theta) - 1))]])"
      ]
     },
     "execution_count": 44,
     "metadata": {},
     "output_type": "execute_result"
    }
   ],
   "source": [
    "U1 = A2_inv@(-ad_so2).exp()\n",
    "U1 = U1.applyfunc(lambda term: term.trigsimp().collect([]))\n",
    "U1\n"
   ]
  },
  {
   "cell_type": "code",
   "execution_count": 47,
   "id": "4a2141ba",
   "metadata": {},
   "outputs": [
    {
     "data": {
      "text/latex": [
       "$\\displaystyle \\left[\\begin{matrix}- \\frac{\\theta \\sin{\\left(\\theta \\right)}}{2 \\left(\\cos{\\left(\\theta \\right)} - 1\\right)} & \\frac{\\theta}{2}\\\\- \\frac{\\theta}{2} & - \\frac{\\theta \\sin{\\left(\\theta \\right)}}{2 \\left(\\cos{\\left(\\theta \\right)} - 1\\right)}\\end{matrix}\\right]$"
      ],
      "text/plain": [
       "Matrix([\n",
       "[-theta*sin(theta)/(2*(cos(theta) - 1)),                                theta/2],\n",
       "[                              -theta/2, -theta*sin(theta)/(2*(cos(theta) - 1))]])"
      ]
     },
     "execution_count": 47,
     "metadata": {},
     "output_type": "execute_result"
    }
   ],
   "source": [
    "U2 = A1.inv()@ad_so2@(-ad_so2).exp()\n",
    "U2 = U2.applyfunc(lambda term: term.trigsimp().collect([]))\n",
    "U2"
   ]
  },
  {
   "cell_type": "code",
   "execution_count": 41,
   "id": "ca8a1347",
   "metadata": {},
   "outputs": [
    {
     "data": {
      "text/latex": [
       "$\\displaystyle \\left[\\begin{matrix}0 & - r & q\\\\r & 0 & - p\\\\- q & p & 0\\end{matrix}\\right]$"
      ],
      "text/plain": [
       "Matrix([\n",
       "[ 0, -r,  q],\n",
       "[ r,  0, -p],\n",
       "[-q,  p,  0]])"
      ]
     },
     "execution_count": 41,
     "metadata": {},
     "output_type": "execute_result"
    }
   ],
   "source": [
    "from sympy import *\n",
    "p, q, r, theta, t = symbols('p, q, r, theta, t', real=True)\n",
    "def skew3(v): \n",
    "    p, q, r = v\n",
    "    return Matrix([ [0, -r, q], [r, 0, -p],\n",
    "[-q, p, 0]])\n",
    "ad_v = skew3([p, q, r])\n",
    "ad_v"
   ]
  },
  {
   "cell_type": "code",
   "execution_count": 43,
   "id": "51da9906-67c0-41ae-b22c-607c988489b2",
   "metadata": {},
   "outputs": [
    {
     "data": {
      "text/latex": [
       "$\\displaystyle \\frac{1 - \\cos{\\left(\\theta \\right)}}{\\theta^{2}}$"
      ],
      "text/plain": [
       "(1 - cos(theta))/theta**2"
      ]
     },
     "execution_count": 43,
     "metadata": {},
     "output_type": "execute_result"
    }
   ],
   "source": [
    "k = symbols('k', integer=True)\n",
    "A = summation(1*(-1)**k*theta**(2*k)/factorial(2*k+2), (k, 0, oo)).simplify() \n",
    "A"
   ]
  },
  {
   "cell_type": "code",
   "execution_count": 44,
   "id": "782b188d-4d1d-48db-89c2-61bc2736ce0c",
   "metadata": {},
   "outputs": [
    {
     "data": {
      "text/latex": [
       "$\\displaystyle \\frac{\\theta - \\sin{\\left(\\theta \\right)}}{\\theta^{3}}$"
      ],
      "text/plain": [
       "(theta - sin(theta))/theta**3"
      ]
     },
     "execution_count": 44,
     "metadata": {},
     "output_type": "execute_result"
    }
   ],
   "source": [
    "B = summation(1*(-1)**k*theta**(2*k)/factorial(2*k+3), (k, 0, oo)).simplify()\n",
    "B"
   ]
  },
  {
   "cell_type": "code",
   "execution_count": 47,
   "id": "32c5337c-9f18-4186-890c-fb9b281c5690",
   "metadata": {},
   "outputs": [
    {
     "data": {
      "text/latex": [
       "$\\displaystyle \\left[\\begin{matrix}b \\left(p^{2} - \\theta^{2}\\right) + 1 & - a r + b p q & a q + b p r\\\\a r + b p q & b \\left(q^{2} - \\theta^{2}\\right) + 1 & - a p + b q r\\\\- a q + b p r & a p + b q r & b \\left(r^{2} - \\theta^{2}\\right) + 1\\end{matrix}\\right]$"
      ],
      "text/plain": [
       "Matrix([\n",
       "[b*(p**2 - theta**2) + 1,            -a*r + b*p*q,             a*q + b*p*r],\n",
       "[            a*r + b*p*q, b*(q**2 - theta**2) + 1,            -a*p + b*q*r],\n",
       "[           -a*q + b*p*r,             a*p + b*q*r, b*(r**2 - theta**2) + 1]])"
      ]
     },
     "execution_count": 47,
     "metadata": {},
     "output_type": "execute_result"
    }
   ],
   "source": [
    "a, b = symbols('a, b', real=True)\n",
    "U_inv = (eye(3) + a*ad_v + b*ad_v**2).applyfunc(lambda x: x.simplify()) \n",
    "sub_dict = {\n",
    "    p**2 + q**2 + r**2: theta**2,\n",
    "    ((p**2 + q**2 + r**2)**2).expand(): theta**4\n",
    "}\n",
    "sub_dict1 = {\n",
    "    q**2 + r**2: theta**2 - p**2,\n",
    "    p**2 + r**2: theta**2 - q**2,\n",
    "    p**2 + q**2: theta**2 - r**2\n",
    "}\n",
    "U_inv = U_inv.applyfunc(lambda x: x.subs(sub_dict1).simplify()) \n",
    "U_inv"
   ]
  },
  {
   "cell_type": "code",
   "execution_count": 49,
   "id": "828cc708-b436-4b1e-b8e8-7b5c26af35e8",
   "metadata": {},
   "outputs": [
    {
     "data": {
      "text/latex": [
       "$\\displaystyle b^{2} \\theta^{4} + \\theta^{2} \\left(a^{2} - 2 b\\right) + 1$"
      ],
      "text/plain": [
       "b**2*theta**4 + theta**2*(a**2 - 2*b) + 1"
      ]
     },
     "execution_count": 49,
     "metadata": {},
     "output_type": "execute_result"
    }
   ],
   "source": [
    "det = U_inv.det().collect([theta, a, b]).collect([b]).factor().subs(sub_dict).collect([a, b]).subs(sub_dict).collect(theta)\n",
    "det"
   ]
  },
  {
   "cell_type": "code",
   "execution_count": 55,
   "id": "b7ddee20-722a-4066-9689-a93e95b23486",
   "metadata": {},
   "outputs": [
    {
     "data": {
      "text/latex": [
       "$\\displaystyle \\left[\\begin{matrix}- b \\theta^{2} + p^{2} \\left(a^{2} + b^{2} \\theta^{2} - b\\right) + 1 & a r + p q \\left(a^{2} + b^{2} \\theta^{2} - b\\right) & - a q + p r \\left(a^{2} + b^{2} \\theta^{2} - b\\right)\\\\- a r + p q \\left(a^{2} + b^{2} \\theta^{2} - b\\right) & - b \\theta^{2} + q^{2} \\left(a^{2} + b^{2} \\theta^{2} - b\\right) + 1 & a p + q r \\left(a^{2} + b^{2} \\theta^{2} - b\\right)\\\\a q + p r \\left(a^{2} + b^{2} \\theta^{2} - b\\right) & - a p + q r \\left(a^{2} + b^{2} \\theta^{2} - b\\right) & - b \\theta^{2} + r^{2} \\left(a^{2} + b^{2} \\theta^{2} - b\\right) + 1\\end{matrix}\\right]$"
      ],
      "text/plain": [
       "Matrix([\n",
       "[-b*theta**2 + p**2*(a**2 + b**2*theta**2 - b) + 1,              a*r + p*q*(a**2 + b**2*theta**2 - b),             -a*q + p*r*(a**2 + b**2*theta**2 - b)],\n",
       "[            -a*r + p*q*(a**2 + b**2*theta**2 - b), -b*theta**2 + q**2*(a**2 + b**2*theta**2 - b) + 1,              a*p + q*r*(a**2 + b**2*theta**2 - b)],\n",
       "[             a*q + p*r*(a**2 + b**2*theta**2 - b),             -a*p + q*r*(a**2 + b**2*theta**2 - b), -b*theta**2 + r**2*(a**2 + b**2*theta**2 - b) + 1]])"
      ]
     },
     "execution_count": 55,
     "metadata": {},
     "output_type": "execute_result"
    }
   ],
   "source": [
    "U_inv_adj = U_inv.adjugate().applyfunc(lambda x: x.collect(a*b*r).subs(sub_dict).collect(a*b*q).subs(sub_dict).collect(a*b*p).subs(sub_dict).collect([p*r, p*q, q*r, b]).collect([theta]).subs(sub_dict1).simplify().expand().collect([p**2, q**2, r**2]).collect([p*r,p*q, q*r]))\n",
    "U_inv_adj"
   ]
  },
  {
   "cell_type": "code",
   "execution_count": 56,
   "id": "615ce116-5385-4545-a1f4-c4fbb9a8c91d",
   "metadata": {},
   "outputs": [
    {
     "data": {
      "text/latex": [
       "$\\displaystyle \\left[\\begin{matrix}\\frac{- b \\theta^{2} + p^{2} \\left(a^{2} + b^{2} \\theta^{2} - b\\right) + 1}{b^{2} \\theta^{4} + \\theta^{2} \\left(a^{2} - 2 b\\right) + 1} & \\frac{a r + p q \\left(a^{2} + b^{2} \\theta^{2} - b\\right)}{b^{2} \\theta^{4} + \\theta^{2} \\left(a^{2} - 2 b\\right) + 1} & \\frac{- a q + p r \\left(a^{2} + b^{2} \\theta^{2} - b\\right)}{b^{2} \\theta^{4} + \\theta^{2} \\left(a^{2} - 2 b\\right) + 1}\\\\\\frac{- a r + p q \\left(a^{2} + b^{2} \\theta^{2} - b\\right)}{b^{2} \\theta^{4} + \\theta^{2} \\left(a^{2} - 2 b\\right) + 1} & \\frac{- b \\theta^{2} + q^{2} \\left(a^{2} + b^{2} \\theta^{2} - b\\right) + 1}{b^{2} \\theta^{4} + \\theta^{2} \\left(a^{2} - 2 b\\right) + 1} & \\frac{a p + q r \\left(a^{2} + b^{2} \\theta^{2} - b\\right)}{b^{2} \\theta^{4} + \\theta^{2} \\left(a^{2} - 2 b\\right) + 1}\\\\\\frac{a q + p r \\left(a^{2} + b^{2} \\theta^{2} - b\\right)}{b^{2} \\theta^{4} + \\theta^{2} \\left(a^{2} - 2 b\\right) + 1} & \\frac{- a p + q r \\left(a^{2} + b^{2} \\theta^{2} - b\\right)}{b^{2} \\theta^{4} + \\theta^{2} \\left(a^{2} - 2 b\\right) + 1} & \\frac{- b \\theta^{2} + r^{2} \\left(a^{2} + b^{2} \\theta^{2} - b\\right) + 1}{b^{2} \\theta^{4} + \\theta^{2} \\left(a^{2} - 2 b\\right) + 1}\\end{matrix}\\right]$"
      ],
      "text/plain": [
       "Matrix([\n",
       "[(-b*theta**2 + p**2*(a**2 + b**2*theta**2 - b) + 1)/(b**2*theta**4 + theta**2*(a**2 - 2*b) + 1),              (a*r + p*q*(a**2 + b**2*theta**2 - b))/(b**2*theta**4 + theta**2*(a**2 - 2*b) + 1),             (-a*q + p*r*(a**2 + b**2*theta**2 - b))/(b**2*theta**4 + theta**2*(a**2 - 2*b) + 1)],\n",
       "[            (-a*r + p*q*(a**2 + b**2*theta**2 - b))/(b**2*theta**4 + theta**2*(a**2 - 2*b) + 1), (-b*theta**2 + q**2*(a**2 + b**2*theta**2 - b) + 1)/(b**2*theta**4 + theta**2*(a**2 - 2*b) + 1),              (a*p + q*r*(a**2 + b**2*theta**2 - b))/(b**2*theta**4 + theta**2*(a**2 - 2*b) + 1)],\n",
       "[             (a*q + p*r*(a**2 + b**2*theta**2 - b))/(b**2*theta**4 + theta**2*(a**2 - 2*b) + 1),             (-a*p + q*r*(a**2 + b**2*theta**2 - b))/(b**2*theta**4 + theta**2*(a**2 - 2*b) + 1), (-b*theta**2 + r**2*(a**2 + b**2*theta**2 - b) + 1)/(b**2*theta**4 + theta**2*(a**2 - 2*b) + 1)]])"
      ]
     },
     "execution_count": 56,
     "metadata": {},
     "output_type": "execute_result"
    }
   ],
   "source": [
    "U = U_inv_adj/det\n",
    "U"
   ]
  },
  {
   "cell_type": "code",
   "execution_count": 57,
   "id": "3f409ee5-0a98-49ed-8526-6b3de1c0b957",
   "metadata": {},
   "outputs": [
    {
     "data": {
      "text/latex": [
       "$\\displaystyle \\left[\\begin{matrix}1.0 & 6.0 \\cdot 10^{-126} & 1.0 \\cdot 10^{-126}\\\\2.0 \\cdot 10^{-125} & 1.0 & 5.0 \\cdot 10^{-125}\\\\6.0 \\cdot 10^{-126} & 1.0 \\cdot 10^{-125} & 1.0\\end{matrix}\\right]$"
      ],
      "text/plain": [
       "Matrix([\n",
       "[    1.0, 0.e-125, 0.e-126],\n",
       "[0.e-125,     1.0, 0.e-125],\n",
       "[0.e-125, 0.e-125,     1.0]])"
      ]
     },
     "execution_count": 57,
     "metadata": {},
     "output_type": "execute_result"
    }
   ],
   "source": [
    "p_val = 1\n",
    "q_val = 2\n",
    "r_val = 3\n",
    "theta_val = sqrt(p_val**2 + q_val**2 + r_val**2)\n",
    "a_val = (1 - cos(theta_val))/theta_val**2\n",
    "b_val = (theta_val - sin(theta_val))/theta_val**3\n",
    "N((U_inv@U).subs({\n",
    "    a: a_val, b:b_val, p: p_val, q: q_val, r: r_val, theta: theta_val}))"
   ]
  },
  {
   "cell_type": "code",
   "execution_count": 58,
   "id": "d9cbf013-7eb1-4533-a202-133bd12fb54f",
   "metadata": {},
   "outputs": [
    {
     "data": {
      "text/latex": [
       "$\\displaystyle \\left[\\begin{matrix}\\frac{- b \\theta^{2} + p^{2} \\left(a^{2} + b^{2} \\theta^{2} - b\\right) + 1}{b^{2} \\theta^{4} + \\theta^{2} \\left(a^{2} - 2 b\\right) + 1} & \\frac{a r + p q \\left(a^{2} + b^{2} \\theta^{2} - b\\right)}{b^{2} \\theta^{4} + \\theta^{2} \\left(a^{2} - 2 b\\right) + 1} & \\frac{- a q + p r \\left(a^{2} + b^{2} \\theta^{2} - b\\right)}{b^{2} \\theta^{4} + \\theta^{2} \\left(a^{2} - 2 b\\right) + 1}\\\\\\frac{- a r + p q \\left(a^{2} + b^{2} \\theta^{2} - b\\right)}{b^{2} \\theta^{4} + \\theta^{2} \\left(a^{2} - 2 b\\right) + 1} & \\frac{- b \\theta^{2} + q^{2} \\left(a^{2} + b^{2} \\theta^{2} - b\\right) + 1}{b^{2} \\theta^{4} + \\theta^{2} \\left(a^{2} - 2 b\\right) + 1} & \\frac{a p + q r \\left(a^{2} + b^{2} \\theta^{2} - b\\right)}{b^{2} \\theta^{4} + \\theta^{2} \\left(a^{2} - 2 b\\right) + 1}\\\\\\frac{a q + p r \\left(a^{2} + b^{2} \\theta^{2} - b\\right)}{b^{2} \\theta^{4} + \\theta^{2} \\left(a^{2} - 2 b\\right) + 1} & \\frac{- a p + q r \\left(a^{2} + b^{2} \\theta^{2} - b\\right)}{b^{2} \\theta^{4} + \\theta^{2} \\left(a^{2} - 2 b\\right) + 1} & \\frac{- b \\theta^{2} + r^{2} \\left(a^{2} + b^{2} \\theta^{2} - b\\right) + 1}{b^{2} \\theta^{4} + \\theta^{2} \\left(a^{2} - 2 b\\right) + 1}\\end{matrix}\\right]$"
      ],
      "text/plain": [
       "Matrix([\n",
       "[(-b*theta**2 + p**2*(a**2 + b**2*theta**2 - b) + 1)/(b**2*theta**4 + theta**2*(a**2 - 2*b) + 1),              (a*r + p*q*(a**2 + b**2*theta**2 - b))/(b**2*theta**4 + theta**2*(a**2 - 2*b) + 1),             (-a*q + p*r*(a**2 + b**2*theta**2 - b))/(b**2*theta**4 + theta**2*(a**2 - 2*b) + 1)],\n",
       "[            (-a*r + p*q*(a**2 + b**2*theta**2 - b))/(b**2*theta**4 + theta**2*(a**2 - 2*b) + 1), (-b*theta**2 + q**2*(a**2 + b**2*theta**2 - b) + 1)/(b**2*theta**4 + theta**2*(a**2 - 2*b) + 1),              (a*p + q*r*(a**2 + b**2*theta**2 - b))/(b**2*theta**4 + theta**2*(a**2 - 2*b) + 1)],\n",
       "[             (a*q + p*r*(a**2 + b**2*theta**2 - b))/(b**2*theta**4 + theta**2*(a**2 - 2*b) + 1),             (-a*p + q*r*(a**2 + b**2*theta**2 - b))/(b**2*theta**4 + theta**2*(a**2 - 2*b) + 1), (-b*theta**2 + r**2*(a**2 + b**2*theta**2 - b) + 1)/(b**2*theta**4 + theta**2*(a**2 - 2*b) + 1)]])"
      ]
     },
     "execution_count": 58,
     "metadata": {},
     "output_type": "execute_result"
    }
   ],
   "source": [
    "U"
   ]
  },
  {
   "cell_type": "code",
   "execution_count": 59,
   "id": "cf1008bb-435d-4c22-b56c-7380464bd994",
   "metadata": {},
   "outputs": [
    {
     "data": {
      "text/latex": [
       "$\\displaystyle \\left[\\begin{matrix}b \\left(p^{2} - \\theta^{2}\\right) + 1 & - a r + b p q & a q + b p r\\\\a r + b p q & b \\left(q^{2} - \\theta^{2}\\right) + 1 & - a p + b q r\\\\- a q + b p r & a p + b q r & b \\left(r^{2} - \\theta^{2}\\right) + 1\\end{matrix}\\right]$"
      ],
      "text/plain": [
       "Matrix([\n",
       "[b*(p**2 - theta**2) + 1,            -a*r + b*p*q,             a*q + b*p*r],\n",
       "[            a*r + b*p*q, b*(q**2 - theta**2) + 1,            -a*p + b*q*r],\n",
       "[           -a*q + b*p*r,             a*p + b*q*r, b*(r**2 - theta**2) + 1]])"
      ]
     },
     "execution_count": 59,
     "metadata": {},
     "output_type": "execute_result"
    }
   ],
   "source": [
    "U_inv"
   ]
  },
  {
   "cell_type": "code",
   "execution_count": 60,
   "id": "a54cb657-61f3-4174-92e8-04a80532e4c9",
   "metadata": {},
   "outputs": [
    {
     "data": {
      "text/latex": [
       "$\\displaystyle a = \\frac{1 - \\cos{\\left(\\theta \\right)}}{\\theta^{2}}$"
      ],
      "text/plain": [
       "Eq(a, (1 - cos(theta))/theta**2)"
      ]
     },
     "execution_count": 60,
     "metadata": {},
     "output_type": "execute_result"
    }
   ],
   "source": [
    "Eq(a, A)"
   ]
  },
  {
   "cell_type": "code",
   "execution_count": 61,
   "id": "8f400fe0-14fe-4e3e-9a39-6a2326d84224",
   "metadata": {},
   "outputs": [
    {
     "data": {
      "text/latex": [
       "$\\displaystyle b = \\frac{\\theta - \\sin{\\left(\\theta \\right)}}{\\theta^{3}}$"
      ],
      "text/plain": [
       "Eq(b, (theta - sin(theta))/theta**3)"
      ]
     },
     "execution_count": 61,
     "metadata": {},
     "output_type": "execute_result"
    }
   ],
   "source": [
    "Eq(b, B)"
   ]
  },
  {
   "cell_type": "code",
   "execution_count": 62,
   "id": "6263015e-689b-4e75-af19-397050b98b79",
   "metadata": {},
   "outputs": [
    {
     "data": {
      "text/latex": [
       "$\\displaystyle \\theta = \\sqrt{p^{2} + q^{2} + r^{2}}$"
      ],
      "text/plain": [
       "Eq(theta, sqrt(p**2 + q**2 + r**2))"
      ]
     },
     "execution_count": 62,
     "metadata": {},
     "output_type": "execute_result"
    }
   ],
   "source": [
    "Eq(theta, sqrt(p**2 + q**2 + r**2))"
   ]
  },
  {
   "cell_type": "code",
   "execution_count": 63,
   "id": "23eb25af-ae05-4405-a367-acf54c58d24f",
   "metadata": {},
   "outputs": [],
   "source": [
    "svals = U_inv.singular_values()"
   ]
  },
  {
   "cell_type": "code",
   "execution_count": 88,
   "id": "6ef2f10b-e813-4c53-b07d-cf6f857eb722",
   "metadata": {},
   "outputs": [
    {
     "data": {
      "text/latex": [
       "$\\displaystyle \\sqrt{b^{2} p^{4} + 2 b^{2} p^{2} q^{2} + 2 b^{2} p^{2} r^{2} - 2 b^{2} p^{2} \\theta^{2} + b^{2} q^{4} + 2 b^{2} q^{2} r^{2} - 2 b^{2} q^{2} \\theta^{2} + b^{2} r^{4} - 2 b^{2} r^{2} \\theta^{2} + b^{2} \\theta^{4} + 2 b p^{2} + 2 b q^{2} + 2 b r^{2} - 2 b \\theta^{2} + 1} = 1$"
      ],
      "text/plain": [
       "Eq(sqrt(b**2*p**4 + 2*b**2*p**2*q**2 + 2*b**2*p**2*r**2 - 2*b**2*p**2*theta**2 + b**2*q**4 + 2*b**2*q**2*r**2 - 2*b**2*q**2*theta**2 + b**2*r**4 - 2*b**2*r**2*theta**2 + b**2*theta**4 + 2*b*p**2 + 2*b*q**2 + 2*b*r**2 - 2*b*theta**2 + 1), 1)"
      ]
     },
     "execution_count": 88,
     "metadata": {},
     "output_type": "execute_result"
    }
   ],
   "source": [
    "Eq(svals[0], svals[0].factor().args[0].collect(b).subs(p**2 + q**2 + r**2, theta**2))"
   ]
  },
  {
   "cell_type": "code",
   "execution_count": 89,
   "id": "7145a990-9784-47eb-beeb-3c523c64ac3c",
   "metadata": {},
   "outputs": [
    {
     "data": {
      "text/latex": [
       "$\\displaystyle \\sqrt{a^{2} p^{2} + a^{2} q^{2} + a^{2} r^{2} + b^{2} \\theta^{4} - 2 b \\theta^{2} + 1} = \\sqrt{b^{2} \\theta^{4} + \\theta^{2} \\left(a^{2} - 2 b\\right) + 1}$"
      ],
      "text/plain": [
       "Eq(sqrt(a**2*p**2 + a**2*q**2 + a**2*r**2 + b**2*theta**4 - 2*b*theta**2 + 1), sqrt(b**2*theta**4 + theta**2*(a**2 - 2*b) + 1))"
      ]
     },
     "execution_count": 89,
     "metadata": {},
     "output_type": "execute_result"
    }
   ],
   "source": [
    "Eq(svals[1], sqrt(svals[1].factor().args[0].collect(a).subs(p**2 + q**2 + r**2, theta**2).collect(theta)))"
   ]
  },
  {
   "cell_type": "code",
   "execution_count": 79,
   "id": "d222e6a2-1194-48d6-8f77-dc859f2d6cf0",
   "metadata": {},
   "outputs": [
    {
     "data": {
      "text/latex": [
       "$\\displaystyle \\sqrt{a^{2} p^{2} + a^{2} q^{2} + a^{2} r^{2} + b^{2} \\theta^{4} - 2 b \\theta^{2} + 1} = \\sqrt{b^{2} \\theta^{4} + \\theta^{2} \\left(a^{2} - 2 b\\right) + 1}$"
      ],
      "text/plain": [
       "Eq(sqrt(a**2*p**2 + a**2*q**2 + a**2*r**2 + b**2*theta**4 - 2*b*theta**2 + 1), sqrt(b**2*theta**4 + theta**2*(a**2 - 2*b) + 1))"
      ]
     },
     "execution_count": 79,
     "metadata": {},
     "output_type": "execute_result"
    }
   ],
   "source": [
    "Eq(svals[2], sqrt(svals[2].factor().args[0].collect(a).subs(p**2 + q**2 + r**2, theta**2).collect(theta)))"
   ]
  },
  {
   "cell_type": "code",
   "execution_count": null,
   "id": "e34ee372-84e3-4f96-b738-c160de7ded47",
   "metadata": {},
   "outputs": [],
   "source": []
  }
 ],
 "metadata": {
  "kernelspec": {
   "display_name": "Python 3 (ipykernel)",
   "language": "python",
   "name": "python3"
  },
  "language_info": {
   "codemirror_mode": {
    "name": "ipython",
    "version": 3
   },
   "file_extension": ".py",
   "mimetype": "text/x-python",
   "name": "python",
   "nbconvert_exporter": "python",
   "pygments_lexer": "ipython3",
   "version": "3.8.12"
  }
 },
 "nbformat": 4,
 "nbformat_minor": 5
}
