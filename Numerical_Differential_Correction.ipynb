{
 "cells": [
  {
   "cell_type": "code",
   "execution_count": 1,
   "id": "polyphonic-picnic",
   "metadata": {},
   "outputs": [],
   "source": [
    "from sympy import *"
   ]
  },
  {
   "cell_type": "code",
   "execution_count": 2,
   "id": "painted-advertiser",
   "metadata": {},
   "outputs": [],
   "source": [
    "theta, x, y = symbols('theta, x, y', real=True)\n",
    "i = I\n",
    "ad_v = Matrix([\n",
    "    [0, -theta, y],\n",
    "    [theta, 0, -x],\n",
    "    [0, 0, 0]\n",
    "])"
   ]
  },
  {
   "cell_type": "code",
   "execution_count": 3,
   "id": "3b87d48f-2f69-4bc6-b5d1-78071019bb30",
   "metadata": {},
   "outputs": [
    {
     "data": {
      "text/latex": [
       "$\\displaystyle \\left[\\begin{matrix}\\cos{\\left(\\theta \\right)} & \\sin{\\left(\\theta \\right)} & - \\frac{x \\cos{\\left(\\theta \\right)}}{\\theta} + \\frac{x}{\\theta} - \\frac{y \\sin{\\left(\\theta \\right)}}{\\theta}\\\\- \\sin{\\left(\\theta \\right)} & \\cos{\\left(\\theta \\right)} & \\frac{x \\sin{\\left(\\theta \\right)}}{\\theta} - \\frac{y \\cos{\\left(\\theta \\right)}}{\\theta} + \\frac{y}{\\theta}\\\\0 & 0 & 1\\end{matrix}\\right]$"
      ],
      "text/plain": [
       "Matrix([\n",
       "[ cos(theta), sin(theta), -x*cos(theta)/theta + x/theta - y*sin(theta)/theta],\n",
       "[-sin(theta), cos(theta),  x*sin(theta)/theta - y*cos(theta)/theta + y/theta],\n",
       "[          0,          0,                                                  1]])"
      ]
     },
     "execution_count": 3,
     "metadata": {},
     "output_type": "execute_result"
    }
   ],
   "source": [
    "exp_ad = (-ad_v).exp()\n",
    "exp_ad\n",
    "#exp_ad.applyfunc(lambda x: x.series(theta, 0, 5))"
   ]
  },
  {
   "cell_type": "code",
   "execution_count": 4,
   "id": "filled-emergency",
   "metadata": {},
   "outputs": [
    {
     "data": {
      "text/latex": [
       "$\\displaystyle \\left[\\begin{matrix}\\frac{\\sin{\\left(\\theta \\right)}}{\\theta} & \\frac{1 - \\cos{\\left(\\theta \\right)}}{\\theta} & \\frac{x \\left(\\theta - \\sin{\\left(\\theta \\right)}\\right) + y \\left(\\cos{\\left(\\theta \\right)} - 1\\right)}{\\theta^{2}}\\\\\\frac{\\cos{\\left(\\theta \\right)} - 1}{\\theta} & \\frac{\\sin{\\left(\\theta \\right)}}{\\theta} & \\frac{- x \\left(\\cos{\\left(\\theta \\right)} - 1\\right) + y \\left(\\theta - \\sin{\\left(\\theta \\right)}\\right)}{\\theta^{2}}\\\\0 & 0 & 1\\end{matrix}\\right]$"
      ],
      "text/plain": [
       "Matrix([\n",
       "[      sin(theta)/theta, (1 - cos(theta))/theta,  (x*(theta - sin(theta)) + y*(cos(theta) - 1))/theta**2],\n",
       "[(cos(theta) - 1)/theta,       sin(theta)/theta, (-x*(cos(theta) - 1) + y*(theta - sin(theta)))/theta**2],\n",
       "[                     0,                      0,                                                       1]])"
      ]
     },
     "execution_count": 4,
     "metadata": {},
     "output_type": "execute_result"
    }
   ],
   "source": [
    "k = symbols('k', real=True, integer=True)\n",
    "A = summation(((-1)**k/factorial(k+1))*ad_v**k, (k, 0, oo))\n",
    "\n",
    "A = A.applyfunc(lambda term: term.expand(complex=True).factor().collect([x, y]).simplify())\n",
    "A"
   ]
  },
  {
   "cell_type": "code",
   "execution_count": 51,
   "id": "realistic-blame",
   "metadata": {},
   "outputs": [
    {
     "data": {
      "text/latex": [
       "$\\displaystyle \\left[\\begin{matrix}- \\frac{\\theta \\sin{\\left(\\theta \\right)}}{2 \\left(\\cos{\\left(\\theta \\right)} - 1\\right)} & - \\frac{\\theta}{2} & \\frac{\\theta y \\left(\\cos{\\left(\\theta \\right)} - 1\\right) + x \\left(\\theta \\sin{\\left(\\theta \\right)} + 2 \\cos{\\left(\\theta \\right)} - 2\\right)}{2 \\theta \\left(\\cos{\\left(\\theta \\right)} - 1\\right)}\\\\\\frac{\\theta}{2} & - \\frac{\\theta \\sin{\\left(\\theta \\right)}}{2 \\left(\\cos{\\left(\\theta \\right)} - 1\\right)} & - \\frac{\\theta x \\left(\\cos{\\left(\\theta \\right)} - 1\\right) + y \\left(- \\theta \\sin{\\left(\\theta \\right)} - 2 \\cos{\\left(\\theta \\right)} + 2\\right)}{2 \\theta \\left(\\cos{\\left(\\theta \\right)} - 1\\right)}\\\\0 & 0 & 1\\end{matrix}\\right]$"
      ],
      "text/plain": [
       "Matrix([\n",
       "[-theta*sin(theta)/(2*(cos(theta) - 1)),                               -theta/2,   (theta*y*(cos(theta) - 1) + x*(theta*sin(theta) + 2*cos(theta) - 2))/(2*theta*(cos(theta) - 1))],\n",
       "[                               theta/2, -theta*sin(theta)/(2*(cos(theta) - 1)), -(theta*x*(cos(theta) - 1) + y*(-theta*sin(theta) - 2*cos(theta) + 2))/(2*theta*(cos(theta) - 1))],\n",
       "[                                     0,                                      0,                                                                                                 1]])"
      ]
     },
     "execution_count": 51,
     "metadata": {},
     "output_type": "execute_result"
    }
   ],
   "source": [
    "A_inv = A.inv().applyfunc(lambda term: term.simplify().factor())@eye(3)  # multiply by identify to make non-immutable\n",
    "A_inv = A_inv.applyfunc(lambda term: term.collect([x, y]).collect(theta))\n",
    "A_inv"
   ]
  },
  {
   "cell_type": "code",
   "execution_count": 52,
   "id": "foster-berkeley",
   "metadata": {},
   "outputs": [
    {
     "data": {
      "text/latex": [
       "$\\displaystyle \\left[\\begin{matrix}- \\frac{\\theta \\sin{\\left(\\theta \\right)}}{2 \\left(\\cos{\\left(\\theta \\right)} - 1\\right)} & \\frac{\\theta}{2} & \\frac{x \\left(\\frac{\\sin{\\left(\\theta \\right)}}{2} + \\frac{\\cos{\\left(\\theta \\right)}}{\\theta} - \\frac{1}{\\theta}\\right) + y \\left(\\frac{1}{2} - \\frac{\\cos{\\left(\\theta \\right)}}{2}\\right)}{\\cos{\\left(\\theta \\right)} - 1}\\\\- \\frac{\\theta}{2} & - \\frac{\\theta \\sin{\\left(\\theta \\right)}}{2 \\left(\\cos{\\left(\\theta \\right)} - 1\\right)} & \\frac{x \\left(\\frac{\\cos{\\left(\\theta \\right)}}{2} - \\frac{1}{2}\\right) + y \\left(\\frac{\\sin{\\left(\\theta \\right)}}{2} + \\frac{\\cos{\\left(\\theta \\right)}}{\\theta} - \\frac{1}{\\theta}\\right)}{\\cos{\\left(\\theta \\right)} - 1}\\\\0 & 0 & 1\\end{matrix}\\right]$"
      ],
      "text/plain": [
       "Matrix([\n",
       "[-theta*sin(theta)/(2*(cos(theta) - 1)),                                theta/2, (x*(sin(theta)/2 + cos(theta)/theta - 1/theta) + y*(1/2 - cos(theta)/2))/(cos(theta) - 1)],\n",
       "[                              -theta/2, -theta*sin(theta)/(2*(cos(theta) - 1)), (x*(cos(theta)/2 - 1/2) + y*(sin(theta)/2 + cos(theta)/theta - 1/theta))/(cos(theta) - 1)],\n",
       "[                                     0,                                      0,                                                                                         1]])"
      ]
     },
     "execution_count": 52,
     "metadata": {},
     "output_type": "execute_result"
    }
   ],
   "source": [
    "U = A_inv@(-ad_v).exp()\n",
    "U = U.applyfunc(lambda term: term.trigsimp().collect([x, y]))\n",
    "U"
   ]
  },
  {
   "cell_type": "markdown",
   "id": "working-animal",
   "metadata": {},
   "source": [
    "This could be used for feedback linearization. If multiplied by u, would make u look like linear u."
   ]
  },
  {
   "cell_type": "code",
   "execution_count": 53,
   "id": "single-kidney",
   "metadata": {},
   "outputs": [
    {
     "data": {
      "text/latex": [
       "$\\displaystyle \\left[\\begin{matrix}1 - \\frac{\\theta^{2}}{12} - \\frac{\\theta^{4}}{720} + O\\left(\\theta^{5}\\right) & \\frac{\\theta}{2} & - \\frac{y}{2} + \\frac{\\theta x}{12} + \\frac{\\theta^{3} x}{720} + O\\left(\\theta^{5}\\right)\\\\- \\frac{\\theta}{2} & 1 - \\frac{\\theta^{2}}{12} - \\frac{\\theta^{4}}{720} + O\\left(\\theta^{5}\\right) & \\frac{x}{2} + \\frac{\\theta y}{12} + \\frac{\\theta^{3} y}{720} + O\\left(\\theta^{5}\\right)\\\\0 & 0 & 1\\end{matrix}\\right]$"
      ],
      "text/plain": [
       "Matrix([\n",
       "[1 - theta**2/12 - theta**4/720 + O(theta**5),                                      theta/2, -y/2 + theta*x/12 + theta**3*x/720 + O(theta**5)],\n",
       "[                                    -theta/2, 1 - theta**2/12 - theta**4/720 + O(theta**5),  x/2 + theta*y/12 + theta**3*y/720 + O(theta**5)],\n",
       "[                                           0,                                            0,                                                1]])"
      ]
     },
     "execution_count": 53,
     "metadata": {},
     "output_type": "execute_result"
    }
   ],
   "source": [
    "U_series = U.applyfunc(lambda x: x.series(theta, 0, 5))\n",
    "U_series"
   ]
  },
  {
   "cell_type": "code",
   "execution_count": 54,
   "id": "latter-phase",
   "metadata": {},
   "outputs": [
    {
     "data": {
      "text/latex": [
       "$\\displaystyle \\left[\\begin{matrix}\\frac{\\sin{\\left(\\theta \\right)}}{\\theta} & - \\frac{1 - \\cos{\\left(\\theta \\right)}}{\\theta} & \\frac{x \\left(- 2 \\theta \\cos{\\left(\\theta \\right)} + 2 \\theta - 2 \\sin{\\left(\\theta \\right)} + \\sin{\\left(2 \\theta \\right)}\\right) + y \\left(- 4 \\cos{\\left(\\theta \\right)} + \\cos{\\left(2 \\theta \\right)} + 3\\right)}{2 \\theta^{2} \\cdot \\left(1 - \\cos{\\left(\\theta \\right)}\\right)}\\\\\\frac{1 - \\cos{\\left(\\theta \\right)}}{\\theta} & \\frac{\\sin{\\left(\\theta \\right)}}{\\theta} & \\frac{x \\left(- 4 \\cos{\\left(\\theta \\right)} + \\cos{\\left(2 \\theta \\right)} + 3\\right) + y \\left(2 \\theta \\cos{\\left(\\theta \\right)} - 2 \\theta + 2 \\sin{\\left(\\theta \\right)} - \\sin{\\left(2 \\theta \\right)}\\right)}{2 \\theta^{2} \\left(\\cos{\\left(\\theta \\right)} - 1\\right)}\\\\0 & 0 & 1\\end{matrix}\\right]$"
      ],
      "text/plain": [
       "Matrix([\n",
       "[      sin(theta)/theta, -(1 - cos(theta))/theta, (x*(-2*theta*cos(theta) + 2*theta - 2*sin(theta) + sin(2*theta)) + y*(-4*cos(theta) + cos(2*theta) + 3))/(2*theta**2*(1 - cos(theta)))],\n",
       "[(1 - cos(theta))/theta,        sin(theta)/theta,  (x*(-4*cos(theta) + cos(2*theta) + 3) + y*(2*theta*cos(theta) - 2*theta + 2*sin(theta) - sin(2*theta)))/(2*theta**2*(cos(theta) - 1))],\n",
       "[                     0,                       0,                                                                                                                                      1]])"
      ]
     },
     "execution_count": 54,
     "metadata": {},
     "output_type": "execute_result"
    }
   ],
   "source": [
    "U_inv = U.inv()\n",
    "U_inv = U_inv.applyfunc(lambda t: trigsimp(t).collect([x, y]))\n",
    "#U_inv[0, 2] = U_inv[0, 2].collect([theta*y, x, y]).collect(1- cos(theta))\n",
    "#U_inv[1, 2] = U_inv[1, 2].collect([theta*x, x, y]).collect(1- cos(theta))\n",
    "U_inv"
   ]
  },
  {
   "cell_type": "code",
   "execution_count": 55,
   "id": "extreme-property",
   "metadata": {},
   "outputs": [
    {
     "data": {
      "text/latex": [
       "$\\displaystyle \\left[\\begin{matrix}1 - \\frac{\\theta^{2}}{6} + \\frac{\\theta^{4}}{120} + O\\left(\\theta^{5}\\right) & - \\frac{\\theta}{2} + \\frac{\\theta^{3}}{24} + O\\left(\\theta^{5}\\right) & \\frac{y}{2} + \\frac{\\theta x}{6} - \\frac{\\theta^{2} y}{24} - \\frac{\\theta^{3} x}{120} + \\frac{\\theta^{4} y}{720} + O\\left(\\theta^{5}\\right)\\\\\\frac{\\theta}{2} - \\frac{\\theta^{3}}{24} + O\\left(\\theta^{5}\\right) & 1 - \\frac{\\theta^{2}}{6} + \\frac{\\theta^{4}}{120} + O\\left(\\theta^{5}\\right) & - \\frac{x}{2} + \\frac{\\theta y}{6} + \\frac{\\theta^{2} x}{24} - \\frac{\\theta^{3} y}{120} - \\frac{\\theta^{4} x}{720} + O\\left(\\theta^{5}\\right)\\\\0 & 0 & 1\\end{matrix}\\right]$"
      ],
      "text/plain": [
       "Matrix([\n",
       "[1 - theta**2/6 + theta**4/120 + O(theta**5),        -theta/2 + theta**3/24 + O(theta**5),  y/2 + theta*x/6 - theta**2*y/24 - theta**3*x/120 + theta**4*y/720 + O(theta**5)],\n",
       "[        theta/2 - theta**3/24 + O(theta**5), 1 - theta**2/6 + theta**4/120 + O(theta**5), -x/2 + theta*y/6 + theta**2*x/24 - theta**3*y/120 - theta**4*x/720 + O(theta**5)],\n",
       "[                                          0,                                           0,                                                                                1]])"
      ]
     },
     "execution_count": 55,
     "metadata": {},
     "output_type": "execute_result"
    }
   ],
   "source": [
    "U_inv_series = U_inv.applyfunc(lambda x: x.series(theta, 0, 5))\n",
    "U_inv_series"
   ]
  },
  {
   "cell_type": "code",
   "execution_count": 56,
   "id": "equipped-examination",
   "metadata": {},
   "outputs": [
    {
     "data": {
      "text/latex": [
       "$\\displaystyle \\left[\\begin{matrix}\\frac{\\cos{\\left(\\theta \\right)}}{2} - \\frac{1}{2} & \\frac{- \\theta y \\cos{\\left(\\theta \\right)} + \\theta y + x \\sin^{2}{\\left(\\theta \\right)} + 2 x \\cos{\\left(\\theta \\right)} - 2 x - y \\sin{\\left(\\theta \\right)} + \\frac{y \\sin{\\left(2 \\theta \\right)}}{2}}{2 \\theta \\left(\\cos{\\left(\\theta \\right)} - 1\\right)} & \\frac{- \\theta y \\cos{\\left(\\theta \\right)} + \\theta y + x \\sin^{2}{\\left(\\theta \\right)} + 2 x \\cos{\\left(\\theta \\right)} - 2 x - y \\sin{\\left(\\theta \\right)} + \\frac{y \\sin{\\left(2 \\theta \\right)}}{2}}{2 \\theta \\left(\\cos{\\left(\\theta \\right)} - 1\\right)}\\\\- \\frac{\\sin{\\left(\\theta \\right)}}{2} & \\frac{\\left(\\theta y + x \\cos{\\left(\\theta \\right)} - x - y \\sin{\\left(\\theta \\right)}\\right) \\sin{\\left(\\theta \\right)}}{2 \\theta \\left(\\cos{\\left(\\theta \\right)} - 1\\right)} & \\frac{\\left(\\theta y + x \\cos{\\left(\\theta \\right)} - x - y \\sin{\\left(\\theta \\right)}\\right) \\sin{\\left(\\theta \\right)}}{2 \\theta \\left(\\cos{\\left(\\theta \\right)} - 1\\right)}\\\\0 & 0 & 0\\end{matrix}\\right]$"
      ],
      "text/plain": [
       "Matrix([\n",
       "[cos(theta)/2 - 1/2, (-theta*y*cos(theta) + theta*y + x*sin(theta)**2 + 2*x*cos(theta) - 2*x - y*sin(theta) + y*sin(2*theta)/2)/(2*theta*(cos(theta) - 1)), (-theta*y*cos(theta) + theta*y + x*sin(theta)**2 + 2*x*cos(theta) - 2*x - y*sin(theta) + y*sin(2*theta)/2)/(2*theta*(cos(theta) - 1))],\n",
       "[     -sin(theta)/2,                                                     (theta*y + x*cos(theta) - x - y*sin(theta))*sin(theta)/(2*theta*(cos(theta) - 1)),                                                     (theta*y + x*cos(theta) - x - y*sin(theta))*sin(theta)/(2*theta*(cos(theta) - 1))],\n",
       "[                 0,                                                                                                                                     0,                                                                                                                                     0]])"
      ]
     },
     "execution_count": 56,
     "metadata": {},
     "output_type": "execute_result"
    }
   ],
   "source": [
    "B = Matrix([[1, 0], [0, 0], [0, 1]])\n",
    "L = diag(1, 0, 1)\n",
    "K = Matrix([[1, 0, 0], [0, 1, 1]])\n",
    "res = (U@L@U_inv - eye(3))@B@K\n",
    "res = res.applyfunc(lambda x: x.expand(trig=True).simplify())\n",
    "res"
   ]
  },
  {
   "cell_type": "code",
   "execution_count": 57,
   "id": "labeled-removal",
   "metadata": {},
   "outputs": [
    {
     "data": {
      "text/latex": [
       "$\\displaystyle \\left[\\begin{matrix}- \\frac{\\theta^{2}}{4} + \\frac{\\theta^{4}}{48} + O\\left(\\theta^{6}\\right) & \\frac{\\theta x}{4} - \\frac{\\theta^{2} y}{12} - \\frac{\\theta^{3} x}{48} + \\frac{\\theta^{4} y}{240} + \\frac{\\theta^{5} x}{1440} + O\\left(\\theta^{6}\\right) & \\frac{\\theta x}{4} - \\frac{\\theta^{2} y}{12} - \\frac{\\theta^{3} x}{48} + \\frac{\\theta^{4} y}{240} + \\frac{\\theta^{5} x}{1440} + O\\left(\\theta^{6}\\right)\\\\- \\frac{\\theta}{2} + \\frac{\\theta^{3}}{12} - \\frac{\\theta^{5}}{240} + O\\left(\\theta^{6}\\right) & \\frac{x}{2} - \\frac{\\theta y}{6} - \\frac{\\theta^{2} x}{12} + \\frac{\\theta^{3} y}{45} + \\frac{\\theta^{4} x}{240} - \\frac{\\theta^{5} y}{1512} + O\\left(\\theta^{6}\\right) & \\frac{x}{2} - \\frac{\\theta y}{6} - \\frac{\\theta^{2} x}{12} + \\frac{\\theta^{3} y}{45} + \\frac{\\theta^{4} x}{240} - \\frac{\\theta^{5} y}{1512} + O\\left(\\theta^{6}\\right)\\\\0 & 0 & 0\\end{matrix}\\right]$"
      ],
      "text/plain": [
       "Matrix([\n",
       "[            -theta**2/4 + theta**4/48 + O(theta**6),       theta*x/4 - theta**2*y/12 - theta**3*x/48 + theta**4*y/240 + theta**5*x/1440 + O(theta**6),       theta*x/4 - theta**2*y/12 - theta**3*x/48 + theta**4*y/240 + theta**5*x/1440 + O(theta**6)],\n",
       "[-theta/2 + theta**3/12 - theta**5/240 + O(theta**6), x/2 - theta*y/6 - theta**2*x/12 + theta**3*y/45 + theta**4*x/240 - theta**5*y/1512 + O(theta**6), x/2 - theta*y/6 - theta**2*x/12 + theta**3*y/45 + theta**4*x/240 - theta**5*y/1512 + O(theta**6)],\n",
       "[                                                  0,                                                                                                0,                                                                                                0]])"
      ]
     },
     "execution_count": 57,
     "metadata": {},
     "output_type": "execute_result"
    }
   ],
   "source": [
    "res_series = res.applyfunc(lambda x: series(x, theta))\n",
    "res_series"
   ]
  },
  {
   "cell_type": "code",
   "execution_count": 58,
   "id": "linear-illinois",
   "metadata": {},
   "outputs": [
    {
     "data": {
      "text/latex": [
       "$\\displaystyle \\left[\\begin{matrix}1 + O\\left(\\theta^{5}\\right) & O\\left(\\theta^{5}\\right) & O\\left(\\theta^{5}\\right)\\\\O\\left(\\theta^{5}\\right) & 1 + O\\left(\\theta^{5}\\right) & O\\left(\\theta^{5}\\right)\\\\0 & 0 & 1\\end{matrix}\\right]$"
      ],
      "text/plain": [
       "Matrix([\n",
       "[1 + O(theta**5),     O(theta**5), O(theta**5)],\n",
       "[    O(theta**5), 1 + O(theta**5), O(theta**5)],\n",
       "[              0,               0,           1]])"
      ]
     },
     "execution_count": 58,
     "metadata": {},
     "output_type": "execute_result"
    }
   ],
   "source": [
    "test = (U_series*U_inv_series)\n",
    "test.simplify()\n",
    "test"
   ]
  },
  {
   "cell_type": "code",
   "execution_count": 59,
   "id": "subsequent-letter",
   "metadata": {},
   "outputs": [
    {
     "data": {
      "text/latex": [
       "$\\displaystyle \\left[\\begin{matrix}1 & 0 & 0\\\\0 & 1 & 0\\\\0 & 0 & 1\\end{matrix}\\right]$"
      ],
      "text/plain": [
       "Matrix([\n",
       "[1, 0, 0],\n",
       "[0, 1, 0],\n",
       "[0, 0, 1]])"
      ]
     },
     "execution_count": 59,
     "metadata": {},
     "output_type": "execute_result"
    }
   ],
   "source": [
    "test = (U*U_inv)\n",
    "test.simplify()\n",
    "test"
   ]
  },
  {
   "cell_type": "code",
   "execution_count": 60,
   "id": "informed-honor",
   "metadata": {},
   "outputs": [
    {
     "data": {
      "text/latex": [
       "$\\displaystyle \\left[\\begin{matrix}- \\frac{\\theta u \\sin{\\left(\\theta \\right)}}{2 \\left(\\cos{\\left(\\theta \\right)} - 1\\right)} + \\frac{\\theta v}{2} + \\frac{w \\left(x \\left(\\frac{\\sin{\\left(\\theta \\right)}}{2} + \\frac{\\cos{\\left(\\theta \\right)}}{\\theta} - \\frac{1}{\\theta}\\right) + y \\left(\\frac{1}{2} - \\frac{\\cos{\\left(\\theta \\right)}}{2}\\right)\\right)}{\\cos{\\left(\\theta \\right)} - 1}\\\\- \\frac{\\theta u}{2} - \\frac{\\theta v \\sin{\\left(\\theta \\right)}}{2 \\left(\\cos{\\left(\\theta \\right)} - 1\\right)} + \\frac{w \\left(x \\left(\\frac{\\cos{\\left(\\theta \\right)}}{2} - \\frac{1}{2}\\right) + y \\left(\\frac{\\sin{\\left(\\theta \\right)}}{2} + \\frac{\\cos{\\left(\\theta \\right)}}{\\theta} - \\frac{1}{\\theta}\\right)\\right)}{\\cos{\\left(\\theta \\right)} - 1}\\\\w\\end{matrix}\\right]$"
      ],
      "text/plain": [
       "Matrix([\n",
       "[-theta*u*sin(theta)/(2*(cos(theta) - 1)) + theta*v/2 + w*(x*(sin(theta)/2 + cos(theta)/theta - 1/theta) + y*(1/2 - cos(theta)/2))/(cos(theta) - 1)],\n",
       "[-theta*u/2 - theta*v*sin(theta)/(2*(cos(theta) - 1)) + w*(x*(cos(theta)/2 - 1/2) + y*(sin(theta)/2 + cos(theta)/theta - 1/theta))/(cos(theta) - 1)],\n",
       "[                                                                                                                                                 w]])"
      ]
     },
     "execution_count": 60,
     "metadata": {},
     "output_type": "execute_result"
    }
   ],
   "source": [
    "u, v, w = symbols('u, v, w', real=True)\n",
    "out = U@Matrix([u, v, w])\n",
    "out"
   ]
  },
  {
   "cell_type": "code",
   "execution_count": 61,
   "id": "universal-learning",
   "metadata": {},
   "outputs": [
    {
     "data": {
      "text/latex": [
       "$\\displaystyle \\left[\\begin{matrix}- \\frac{\\theta u \\sin{\\left(\\theta \\right)}}{2 \\left(\\cos{\\left(\\theta \\right)} - 1\\right)} + \\frac{\\theta v}{2} + \\frac{w \\left(x \\left(\\frac{\\sin{\\left(\\theta \\right)}}{2} + \\frac{\\cos{\\left(\\theta \\right)}}{\\theta} - \\frac{1}{\\theta}\\right) + y \\left(\\frac{1}{2} - \\frac{\\cos{\\left(\\theta \\right)}}{2}\\right)\\right)}{\\cos{\\left(\\theta \\right)} - 1}\\\\- \\frac{\\theta u}{2} - \\frac{\\theta v \\sin{\\left(\\theta \\right)}}{2 \\left(\\cos{\\left(\\theta \\right)} - 1\\right)} + \\frac{w \\left(x \\left(\\frac{\\cos{\\left(\\theta \\right)}}{2} - \\frac{1}{2}\\right) + y \\left(\\frac{\\sin{\\left(\\theta \\right)}}{2} + \\frac{\\cos{\\left(\\theta \\right)}}{\\theta} - \\frac{1}{\\theta}\\right)\\right)}{\\cos{\\left(\\theta \\right)} - 1}\\\\w\\end{matrix}\\right]$"
      ],
      "text/plain": [
       "Matrix([\n",
       "[-theta*u*sin(theta)/(2*(cos(theta) - 1)) + theta*v/2 + w*(x*(sin(theta)/2 + cos(theta)/theta - 1/theta) + y*(1/2 - cos(theta)/2))/(cos(theta) - 1)],\n",
       "[-theta*u/2 - theta*v*sin(theta)/(2*(cos(theta) - 1)) + w*(x*(cos(theta)/2 - 1/2) + y*(sin(theta)/2 + cos(theta)/theta - 1/theta))/(cos(theta) - 1)],\n",
       "[                                                                                                                                                 w]])"
      ]
     },
     "execution_count": 61,
     "metadata": {},
     "output_type": "execute_result"
    }
   ],
   "source": [
    "out.applyfunc(lambda term: term.collect([x, y]))"
   ]
  },
  {
   "cell_type": "code",
   "execution_count": 62,
   "id": "boring-details",
   "metadata": {},
   "outputs": [
    {
     "data": {
      "text/latex": [
       "$\\displaystyle \\left[\\begin{matrix}\\frac{x \\left(- \\theta^{2} \\cos{\\left(\\theta \\right)} + \\theta^{2} + 4 \\cos{\\left(\\theta \\right)} - \\cos{\\left(2 \\theta \\right)} - 3\\right)}{2 \\theta^{2} \\left(\\cos{\\left(\\theta \\right)} - 1\\right)^{2}} & \\frac{\\frac{\\theta \\sin{\\left(\\theta \\right)}}{2} + \\cos{\\left(\\theta \\right)} - 1}{\\theta \\left(\\cos{\\left(\\theta \\right)} - 1\\right)} & - \\frac{1}{2}\\end{matrix}\\right]$"
      ],
      "text/plain": [
       "Matrix([[x*(-theta**2*cos(theta) + theta**2 + 4*cos(theta) - cos(2*theta) - 3)/(2*theta**2*(cos(theta) - 1)**2), (theta*sin(theta)/2 + cos(theta) - 1)/(theta*(cos(theta) - 1)), -1/2]])"
      ]
     },
     "execution_count": 62,
     "metadata": {},
     "output_type": "execute_result"
    }
   ],
   "source": [
    "res = Matrix([U[0,2]]).jacobian(Matrix([theta, x, y]))\n",
    "res.simplify()\n",
    "res"
   ]
  },
  {
   "cell_type": "code",
   "execution_count": 63,
   "id": "wrapped-selling",
   "metadata": {},
   "outputs": [
    {
     "data": {
      "text/latex": [
       "$\\displaystyle \\left[\\begin{matrix}\\frac{\\theta^{5} w x}{30240} - \\frac{\\theta^{4} u}{720} + \\frac{\\theta^{3} w x}{720} - \\frac{\\theta^{2} u}{12} + \\theta \\left(\\frac{v}{2} + \\frac{w x}{12}\\right) + u - \\frac{w y}{2}\\\\\\frac{\\theta^{5} w y}{30240} - \\frac{\\theta^{4} v}{720} + \\frac{\\theta^{3} w y}{720} - \\frac{\\theta^{2} v}{12} + \\theta \\left(- \\frac{u}{2} + \\frac{w y}{12}\\right) + v + \\frac{w x}{2}\\\\w\\end{matrix}\\right]$"
      ],
      "text/plain": [
       "Matrix([\n",
       "[ theta**5*w*x/30240 - theta**4*u/720 + theta**3*w*x/720 - theta**2*u/12 + theta*(v/2 + w*x/12) + u - w*y/2],\n",
       "[theta**5*w*y/30240 - theta**4*v/720 + theta**3*w*y/720 - theta**2*v/12 + theta*(-u/2 + w*y/12) + v + w*x/2],\n",
       "[                                                                                                         w]])"
      ]
     },
     "execution_count": 63,
     "metadata": {},
     "output_type": "execute_result"
    }
   ],
   "source": [
    "out.applyfunc(lambda x: x.series(theta).removeO())"
   ]
  },
  {
   "cell_type": "markdown",
   "id": "whole-navigator",
   "metadata": {},
   "source": [
    "This looks like it will fit within the BIBO (bounded-input, bounded-output) problem structure."
   ]
  },
  {
   "cell_type": "markdown",
   "id": "greek-subsection",
   "metadata": {},
   "source": [
    "It is worth noting that w is not scaled here."
   ]
  },
  {
   "cell_type": "code",
   "execution_count": 71,
   "id": "2745e2a1",
   "metadata": {},
   "outputs": [
    {
     "data": {
      "text/latex": [
       "$\\displaystyle \\left[\\begin{matrix}\\frac{\\theta \\sin{\\left(\\theta \\right)}}{2 \\left(\\cos{\\left(\\theta \\right)} - 1\\right)} & - \\frac{\\theta}{2} & - \\frac{x \\left(\\frac{\\sin{\\left(\\theta \\right)}}{2} + \\frac{\\cos{\\left(\\theta \\right)}}{\\theta} - \\frac{1}{\\theta}\\right) + y \\left(\\frac{1}{2} - \\frac{\\cos{\\left(\\theta \\right)}}{2}\\right)}{\\cos{\\left(\\theta \\right)} - 1}\\\\\\frac{\\theta}{2} & \\frac{\\theta \\sin{\\left(\\theta \\right)}}{2 \\left(\\cos{\\left(\\theta \\right)} - 1\\right)} & - \\frac{x \\left(\\frac{\\cos{\\left(\\theta \\right)}}{2} - \\frac{1}{2}\\right) + y \\left(\\frac{\\sin{\\left(\\theta \\right)}}{2} + \\frac{\\cos{\\left(\\theta \\right)}}{\\theta} - \\frac{1}{\\theta}\\right)}{\\cos{\\left(\\theta \\right)} - 1}\\\\0 & 0 & -1\\end{matrix}\\right]$"
      ],
      "text/plain": [
       "Matrix([\n",
       "[theta*sin(theta)/(2*(cos(theta) - 1)),                              -theta/2, -(x*(sin(theta)/2 + cos(theta)/theta - 1/theta) + y*(1/2 - cos(theta)/2))/(cos(theta) - 1)],\n",
       "[                              theta/2, theta*sin(theta)/(2*(cos(theta) - 1)), -(x*(cos(theta)/2 - 1/2) + y*(sin(theta)/2 + cos(theta)/theta - 1/theta))/(cos(theta) - 1)],\n",
       "[                                    0,                                     0,                                                                                         -1]])"
      ]
     },
     "execution_count": 71,
     "metadata": {},
     "output_type": "execute_result"
    }
   ],
   "source": [
    "U = -U\n",
    "U"
   ]
  },
  {
   "cell_type": "code",
   "execution_count": 72,
   "id": "opponent-assistant",
   "metadata": {},
   "outputs": [
    {
     "data": {
      "text/latex": [
       "$\\displaystyle 1$"
      ],
      "text/plain": [
       "1"
      ]
     },
     "execution_count": 72,
     "metadata": {},
     "output_type": "execute_result"
    }
   ],
   "source": [
    "w_svals = U[2, :].singular_values()[0]\n",
    "w_svals"
   ]
  },
  {
   "cell_type": "code",
   "execution_count": 73,
   "id": "valuable-lodging",
   "metadata": {},
   "outputs": [
    {
     "data": {
      "text/latex": [
       "$\\displaystyle \\frac{\\sqrt{\\frac{v \\sqrt{\\left(\\cos{\\left(\\theta \\right)} - 1\\right)^{3} \\left(\\theta^{4} \\left(\\cos{\\left(\\theta \\right)} - 1\\right) + 2 \\theta^{3} \\cdot \\left(2 \\sin{\\left(\\theta \\right)} - \\sin{\\left(2 \\theta \\right)}\\right) - \\theta^{2} \\left(- 9 \\cos{\\left(\\theta \\right)} + \\cos{\\left(3 \\theta \\right)} + 8\\right) + 2 \\theta \\left(5 \\sin{\\left(\\theta \\right)} - 4 \\sin{\\left(2 \\theta \\right)} + \\sin{\\left(3 \\theta \\right)}\\right) + 15 \\cos{\\left(\\theta \\right)} - 6 \\cos{\\left(2 \\theta \\right)} + \\cos{\\left(3 \\theta \\right)} - 10\\right)} + \\left(- 2 \\theta^{4} \\left(\\cos{\\left(\\theta \\right)} - 1\\right) + v \\left(- \\theta^{2} \\left(\\cos{\\left(\\theta \\right)} - 1\\right) - \\theta \\left(2 \\sin{\\left(\\theta \\right)} - \\sin{\\left(2 \\theta \\right)}\\right) - 4 \\cos{\\left(\\theta \\right)} + \\cos{\\left(2 \\theta \\right)} + 3\\right)\\right) \\left(\\cos{\\left(\\theta \\right)} - 1\\right)}{\\theta^{2} \\left(\\cos{\\left(\\theta \\right)} - 1\\right)^{3}}}}{2}$"
      ],
      "text/plain": [
       "sqrt((v*sqrt((cos(theta) - 1)**3*(theta**4*(cos(theta) - 1) + 2*theta**3*(2*sin(theta) - sin(2*theta)) - theta**2*(-9*cos(theta) + cos(3*theta) + 8) + 2*theta*(5*sin(theta) - 4*sin(2*theta) + sin(3*theta)) + 15*cos(theta) - 6*cos(2*theta) + cos(3*theta) - 10)) + (-2*theta**4*(cos(theta) - 1) + v*(-theta**2*(cos(theta) - 1) - theta*(2*sin(theta) - sin(2*theta)) - 4*cos(theta) + cos(2*theta) + 3))*(cos(theta) - 1))/(theta**2*(cos(theta) - 1)**3))/2"
      ]
     },
     "execution_count": 73,
     "metadata": {},
     "output_type": "execute_result"
    }
   ],
   "source": [
    "uv_sval = U[:2, :].singular_values()[0]\n",
    "term1 = -theta**2*cos(theta) + theta**2 -2*theta*sin(theta) + theta*sin(2*theta) - 4*cos(theta) + cos(2*theta) + 3\n",
    "term2 = -theta**2*cos(theta)**2 + 2*theta**2*cos(theta) - theta**2 - 2*theta*sin(theta)**3 - 4*theta*sin(theta)*cos(theta) + 4*theta*sin(theta) + 2*cos(theta)**3 - 6*cos(theta)**2 + 6*cos(theta) - 2\n",
    "v = symbols('v', real=True)\n",
    "uv_sval = uv_sval.collect([x, y]).collect([term1, term2])\n",
    "uv_sval = uv_sval.subs(x**2 + y**2, v)\n",
    "uv_sval = uv_sval.collect(theta).simplify()\n",
    "uv_sval"
   ]
  },
  {
   "cell_type": "code",
   "execution_count": 74,
   "id": "a78bc8d0",
   "metadata": {},
   "outputs": [
    {
     "data": {
      "text/latex": [
       "$\\displaystyle \\frac{\\sqrt{\\frac{- 2 \\theta^{4} \\cos{\\left(\\theta \\right)} + 2 \\theta^{4} - \\frac{\\theta^{2} x^{2} \\cos{\\left(2 \\theta \\right)}}{2} + \\frac{\\theta^{2} x^{2}}{2} + 2 \\theta^{2} x y \\sin{\\left(\\theta \\right)} - \\theta^{2} x y \\sin{\\left(2 \\theta \\right)} - 2 \\theta^{2} y^{2} \\cos{\\left(\\theta \\right)} + \\frac{\\theta^{2} y^{2} \\cos{\\left(2 \\theta \\right)}}{2} + \\frac{3 \\theta^{2} y^{2}}{2} - 4 \\theta x^{2} \\sin{\\left(\\theta \\right)} + 2 \\theta x^{2} \\sin{\\left(2 \\theta \\right)} + 8 \\theta x y \\cos{\\left(\\theta \\right)} - 2 \\theta x y \\cos{\\left(2 \\theta \\right)} - 6 \\theta x y - 8 x^{2} \\cos{\\left(\\theta \\right)} + 2 x^{2} \\cos{\\left(2 \\theta \\right)} + 6 x^{2}}{\\theta^{2} \\left(\\cos{\\left(\\theta \\right)} - 1\\right)^{2}}}}{2}$"
      ],
      "text/plain": [
       "sqrt((-2*theta**4*cos(theta) + 2*theta**4 - theta**2*x**2*cos(2*theta)/2 + theta**2*x**2/2 + 2*theta**2*x*y*sin(theta) - theta**2*x*y*sin(2*theta) - 2*theta**2*y**2*cos(theta) + theta**2*y**2*cos(2*theta)/2 + 3*theta**2*y**2/2 - 4*theta*x**2*sin(theta) + 2*theta*x**2*sin(2*theta) + 8*theta*x*y*cos(theta) - 2*theta*x*y*cos(2*theta) - 6*theta*x*y - 8*x**2*cos(theta) + 2*x**2*cos(2*theta) + 6*x**2)/(theta**2*(cos(theta) - 1)**2))/2"
      ]
     },
     "execution_count": 74,
     "metadata": {},
     "output_type": "execute_result"
    }
   ],
   "source": [
    "U[0, :].singular_values()[0]"
   ]
  },
  {
   "cell_type": "code",
   "execution_count": 75,
   "id": "36adff8b",
   "metadata": {},
   "outputs": [
    {
     "data": {
      "text/latex": [
       "$\\displaystyle \\frac{\\sqrt{\\frac{- 2 \\theta^{4} \\cos{\\left(\\theta \\right)} + 2 \\theta^{4} - 2 \\theta^{2} x^{2} \\cos{\\left(\\theta \\right)} + \\frac{\\theta^{2} x^{2} \\cos{\\left(2 \\theta \\right)}}{2} + \\frac{3 \\theta^{2} x^{2}}{2} - 2 \\theta^{2} x y \\sin{\\left(\\theta \\right)} + \\theta^{2} x y \\sin{\\left(2 \\theta \\right)} - \\frac{\\theta^{2} y^{2} \\cos{\\left(2 \\theta \\right)}}{2} + \\frac{\\theta^{2} y^{2}}{2} - 8 \\theta x y \\cos{\\left(\\theta \\right)} + 2 \\theta x y \\cos{\\left(2 \\theta \\right)} + 6 \\theta x y - 4 \\theta y^{2} \\sin{\\left(\\theta \\right)} + 2 \\theta y^{2} \\sin{\\left(2 \\theta \\right)} - 8 y^{2} \\cos{\\left(\\theta \\right)} + 2 y^{2} \\cos{\\left(2 \\theta \\right)} + 6 y^{2}}{\\theta^{2} \\left(\\cos{\\left(\\theta \\right)} - 1\\right)^{2}}}}{2}$"
      ],
      "text/plain": [
       "sqrt((-2*theta**4*cos(theta) + 2*theta**4 - 2*theta**2*x**2*cos(theta) + theta**2*x**2*cos(2*theta)/2 + 3*theta**2*x**2/2 - 2*theta**2*x*y*sin(theta) + theta**2*x*y*sin(2*theta) - theta**2*y**2*cos(2*theta)/2 + theta**2*y**2/2 - 8*theta*x*y*cos(theta) + 2*theta*x*y*cos(2*theta) + 6*theta*x*y - 4*theta*y**2*sin(theta) + 2*theta*y**2*sin(2*theta) - 8*y**2*cos(theta) + 2*y**2*cos(2*theta) + 6*y**2)/(theta**2*(cos(theta) - 1)**2))/2"
      ]
     },
     "execution_count": 75,
     "metadata": {},
     "output_type": "execute_result"
    }
   ],
   "source": [
    "U[1, :].singular_values()[0]"
   ]
  },
  {
   "cell_type": "code",
   "execution_count": 76,
   "id": "appropriate-spiritual",
   "metadata": {},
   "outputs": [
    {
     "data": {
      "image/png": "[encoded data removed]",
      "text/plain": [
       "<Figure size 432x288 with 1 Axes>"
      ]
     },
     "metadata": {
      "needs_background": "light"
     },
     "output_type": "display_data"
    },
    {
     "data": {
      "text/plain": [
       "<sympy.plotting.plot.Plot at 0x7fd9c1583c90>"
      ]
     },
     "execution_count": 76,
     "metadata": {},
     "output_type": "execute_result"
    }
   ],
   "source": [
    "from sympy.plotting import plot3d\n",
    "plot3d(uv_sval, (v, 0, 1000), (theta, -pi, pi))"
   ]
  },
  {
   "cell_type": "markdown",
   "id": "consistent-priority",
   "metadata": {},
   "source": [
    "It is clear that the v term must cancel, as the expression is independent of v."
   ]
  },
  {
   "cell_type": "markdown",
   "id": "fatal-radio",
   "metadata": {},
   "source": [
    "Neglecting the terms that depend on v we arrive at."
   ]
  },
  {
   "cell_type": "code",
   "execution_count": 77,
   "id": "becoming-israeli",
   "metadata": {},
   "outputs": [
    {
     "data": {
      "text/latex": [
       "$\\displaystyle \\frac{\\sqrt{2} \\sqrt{- \\frac{1}{\\cos{\\left(\\theta \\right)} - 1}} \\left|{\\theta}\\right|}{2}$"
      ],
      "text/plain": [
       "sqrt(2)*sqrt(-1/(cos(theta) - 1))*Abs(theta)/2"
      ]
     },
     "execution_count": 77,
     "metadata": {},
     "output_type": "execute_result"
    }
   ],
   "source": [
    "uv_sval_simp = uv_sval.subs(v, 0)\n",
    "uv_sval_simp"
   ]
  },
  {
   "cell_type": "code",
   "execution_count": 78,
   "id": "unlikely-course",
   "metadata": {},
   "outputs": [
    {
     "data": {
      "text/latex": [
       "$\\displaystyle \\frac{\\pi}{2}$"
      ],
      "text/plain": [
       "pi/2"
      ]
     },
     "execution_count": 78,
     "metadata": {},
     "output_type": "execute_result"
    }
   ],
   "source": [
    "uv_sval_simp.subs(theta, pi)"
   ]
  },
  {
   "cell_type": "markdown",
   "id": "stunning-statement",
   "metadata": {},
   "source": [
    "Now we can compute the maximum amplificatoin of the uv disturbance, which occurs at +/- $\\pi$."
   ]
  },
  {
   "cell_type": "markdown",
   "id": "lesser-elimination",
   "metadata": {},
   "source": [
    "Therefore, we can treat this as a standard BIBO problem, where we the amplification of u, v input magnitude by $\\pi/2$. There is no amplification of the w disturbance."
   ]
  },
  {
   "cell_type": "code",
   "execution_count": 79,
   "id": "successful-silence",
   "metadata": {},
   "outputs": [
    {
     "data": {
      "text/plain": [
       "<matplotlib.collections.LineCollection at 0x7fd9a26cd910>"
      ]
     },
     "execution_count": 79,
     "metadata": {},
     "output_type": "execute_result"
    },
    {
     "data": {
      "image/png": "[encoded data removed]",
      "text/plain": [
       "<Figure size 432x288 with 1 Axes>"
      ]
     },
     "metadata": {
      "needs_background": "light"
     },
     "output_type": "display_data"
    }
   ],
   "source": [
    "import matplotlib.pyplot as plt\n",
    "import numpy as np\n",
    "data = []\n",
    "n = 4\n",
    "for xi in np.linspace(-1, 1, n):\n",
    "    for yi in np.linspace(-1, 1, n):\n",
    "        for thetai in np.linspace(-np.pi, np.pi, n):\n",
    "            for ui in np.linspace(-1, 1, n):\n",
    "                for vi in np.linspace(-1, 1, n):\n",
    "                    for wi in np.linspace(-1, 1, n):\n",
    "                        v = np.array([ui, vi, wi])\n",
    "                        w2 = np.array(U[2, :].subs({x: xi, y: yi, theta: thetai}), dtype=float)@v\n",
    "                        data.append(np.linalg.norm(w2)/np.linalg.norm(wi))\n",
    "res = np.array(data, dtype=float)\n",
    "plt.plot(res)\n",
    "plt.hlines(1, 0, len(res), color='red')"
   ]
  },
  {
   "cell_type": "code",
   "execution_count": 80,
   "id": "approved-respondent",
   "metadata": {},
   "outputs": [
    {
     "data": {
      "text/plain": [
       "<matplotlib.collections.LineCollection at 0x7fd9a2b3c3d0>"
      ]
     },
     "execution_count": 80,
     "metadata": {},
     "output_type": "execute_result"
    },
    {
     "data": {
      "image/png": "[encoded data removed]",
      "text/plain": [
       "<Figure size 432x288 with 1 Axes>"
      ]
     },
     "metadata": {
      "needs_background": "light"
     },
     "output_type": "display_data"
    }
   ],
   "source": [
    "data = []\n",
    "n = 4\n",
    "for xi in np.linspace(-1, 1, n):\n",
    "    for yi in np.linspace(-1, 1, n):\n",
    "        for thetai in np.linspace(-np.pi, np.pi, n):\n",
    "            for ui in np.linspace(-1, 1, n):\n",
    "                for vi in np.linspace(-1, 1, n):\n",
    "                    for wi in np.linspace(-1, 1, n):\n",
    "                        uv = np.array([ui, vi])\n",
    "                        uv2 = np.array(U[:2, :2].subs({x: xi, y: yi, theta: thetai}), dtype=float)@uv\n",
    "                        data.append(np.linalg.norm(uv2)/np.linalg.norm(uv))\n",
    "res = np.array(data, dtype=float)\n",
    "plt.plot(res)\n",
    "plt.hlines(np.pi/2, 0, len(res), color='r')"
   ]
  },
  {
   "cell_type": "code",
   "execution_count": 81,
   "id": "faced-hungary",
   "metadata": {},
   "outputs": [
    {
     "data": {
      "text/plain": [
       "<matplotlib.collections.LineCollection at 0x7fd9a34064d0>"
      ]
     },
     "execution_count": 81,
     "metadata": {},
     "output_type": "execute_result"
    },
    {
     "data": {
      "image/png": "[encoded data removed]",
      "text/plain": [
       "<Figure size 432x288 with 1 Axes>"
      ]
     },
     "metadata": {
      "needs_background": "light"
     },
     "output_type": "display_data"
    }
   ],
   "source": [
    "data = []\n",
    "n = 4\n",
    "for xi in np.linspace(-10, 10, n):\n",
    "    for yi in np.linspace(-10, 10, n):\n",
    "        for thetai in np.linspace(-np.pi, np.pi, n):\n",
    "            for ui in np.linspace(-10, 10, n):\n",
    "                for vi in np.linspace(-10, 10, n):\n",
    "                    for wi in np.linspace(-10, 10, n):\n",
    "                        v = np.array([ui, vi, wi])\n",
    "                        v2 = np.array(U.subs({x: xi, y: yi, theta: thetai}), dtype=float)@v\n",
    "                        data.append(np.linalg.norm(v2[:2])/np.linalg.norm(v[:2]))\n",
    "res = np.array(data, dtype=float)\n",
    "plt.plot(res)\n",
    "plt.hlines(np.pi/2, 0, len(res), color='r')"
   ]
  },
  {
   "cell_type": "code",
   "execution_count": 82,
   "id": "colored-rebate",
   "metadata": {},
   "outputs": [
    {
     "data": {
      "text/plain": [
       "<matplotlib.collections.LineCollection at 0x7fd9a35565d0>"
      ]
     },
     "execution_count": 82,
     "metadata": {},
     "output_type": "execute_result"
    },
    {
     "data": {
      "image/png": "[encoded data removed]",
      "text/plain": [
       "<Figure size 432x288 with 1 Axes>"
      ]
     },
     "metadata": {
      "needs_background": "light"
     },
     "output_type": "display_data"
    }
   ],
   "source": [
    "data = []\n",
    "n = 4\n",
    "d = 1\n",
    "for xi in np.linspace(-d, d, n):\n",
    "    for yi in np.linspace(-d, d, n):\n",
    "        for thetai in np.linspace(-np.pi, np.pi, n):\n",
    "            for ui in np.linspace(-d, d, n):\n",
    "                for vi in np.linspace(-d, d, n):\n",
    "                    for wi in np.linspace(-d, d, n):\n",
    "                        v = np.array([ui, vi, wi])\n",
    "                        uv = np.array([ui, vi])\n",
    "                        uv2 = np.array(U[:2, :].subs({x: xi, y: yi, theta: thetai}), dtype=float)@v\n",
    "                        data.append(np.linalg.norm(uv2)/np.linalg.norm(uv))\n",
    "res = np.array(data, dtype=float)\n",
    "plt.plot(res)\n",
    "plt.hlines(np.pi/2 + np.sqrt(4 + np.pi**2)*np.sqrt(2*d**2)/(2*np.pi)*d, 0, len(res), color='r')"
   ]
  },
  {
   "cell_type": "code",
   "execution_count": 31,
   "id": "b1deeeb3",
   "metadata": {},
   "outputs": [
    {
     "data": {
      "text/latex": [
       "$\\displaystyle \\left[\\begin{matrix}0 & - \\theta\\\\\\theta & 0\\end{matrix}\\right]$"
      ],
      "text/plain": [
       "Matrix([\n",
       "[    0, -theta],\n",
       "[theta,      0]])"
      ]
     },
     "execution_count": 31,
     "metadata": {},
     "output_type": "execute_result"
    }
   ],
   "source": [
    "ad_so2 = Matrix([[0, -theta],[theta, 0]])\n",
    "ad_so2"
   ]
  },
  {
   "cell_type": "code",
   "execution_count": 35,
   "id": "b132fc28",
   "metadata": {},
   "outputs": [
    {
     "data": {
      "text/latex": [
       "$\\displaystyle \\left[\\begin{matrix}1 - \\cos{\\left(\\theta \\right)} & - \\sin{\\left(\\theta \\right)}\\\\\\sin{\\left(\\theta \\right)} & 1 - \\cos{\\left(\\theta \\right)}\\end{matrix}\\right]$"
      ],
      "text/plain": [
       "Matrix([\n",
       "[1 - cos(theta),    -sin(theta)],\n",
       "[    sin(theta), 1 - cos(theta)]])"
      ]
     },
     "execution_count": 35,
     "metadata": {},
     "output_type": "execute_result"
    }
   ],
   "source": [
    "A1 = Matrix([[1-cos(theta), -sin(theta)],[sin(theta), 1-cos(theta)]])\n",
    "A1"
   ]
  },
  {
   "cell_type": "code",
   "execution_count": 40,
   "id": "5f071ff0",
   "metadata": {},
   "outputs": [
    {
     "data": {
      "text/latex": [
       "$\\displaystyle \\left[\\begin{matrix}\\frac{\\sin{\\left(\\theta \\right)}}{\\theta} & \\frac{1 - \\cos{\\left(\\theta \\right)}}{\\theta}\\\\- \\frac{1 - \\cos{\\left(\\theta \\right)}}{\\theta} & \\frac{\\sin{\\left(\\theta \\right)}}{\\theta}\\end{matrix}\\right]$"
      ],
      "text/plain": [
       "Matrix([\n",
       "[       sin(theta)/theta, (1 - cos(theta))/theta],\n",
       "[-(1 - cos(theta))/theta,       sin(theta)/theta]])"
      ]
     },
     "execution_count": 40,
     "metadata": {},
     "output_type": "execute_result"
    }
   ],
   "source": [
    "A2 = A1@ad_so2.inv()\n",
    "A2"
   ]
  },
  {
   "cell_type": "code",
   "execution_count": 42,
   "id": "ab654b67",
   "metadata": {},
   "outputs": [
    {
     "data": {
      "text/latex": [
       "$\\displaystyle \\left[\\begin{matrix}\\frac{\\theta \\sin{\\left(\\theta \\right)}}{\\sin^{2}{\\left(\\theta \\right)} + \\cos^{2}{\\left(\\theta \\right)} - 2 \\cos{\\left(\\theta \\right)} + 1} & \\frac{\\theta \\cos{\\left(\\theta \\right)} - \\theta}{\\sin^{2}{\\left(\\theta \\right)} + \\cos^{2}{\\left(\\theta \\right)} - 2 \\cos{\\left(\\theta \\right)} + 1}\\\\\\frac{- \\theta \\cos{\\left(\\theta \\right)} + \\theta}{\\sin^{2}{\\left(\\theta \\right)} + \\cos^{2}{\\left(\\theta \\right)} - 2 \\cos{\\left(\\theta \\right)} + 1} & \\frac{\\theta \\sin{\\left(\\theta \\right)}}{\\sin^{2}{\\left(\\theta \\right)} + \\cos^{2}{\\left(\\theta \\right)} - 2 \\cos{\\left(\\theta \\right)} + 1}\\end{matrix}\\right]$"
      ],
      "text/plain": [
       "Matrix([\n",
       "[           theta*sin(theta)/(sin(theta)**2 + cos(theta)**2 - 2*cos(theta) + 1), (theta*cos(theta) - theta)/(sin(theta)**2 + cos(theta)**2 - 2*cos(theta) + 1)],\n",
       "[(-theta*cos(theta) + theta)/(sin(theta)**2 + cos(theta)**2 - 2*cos(theta) + 1),           theta*sin(theta)/(sin(theta)**2 + cos(theta)**2 - 2*cos(theta) + 1)]])"
      ]
     },
     "execution_count": 42,
     "metadata": {},
     "output_type": "execute_result"
    }
   ],
   "source": [
    "A2_inv = A2.inv()\n",
    "A2_inv"
   ]
  },
  {
   "cell_type": "code",
   "execution_count": 37,
   "id": "5891e2ef",
   "metadata": {},
   "outputs": [
    {
     "data": {
      "text/latex": [
       "$\\displaystyle \\left[\\begin{matrix}\\frac{\\sin{\\left(\\theta \\right)}}{\\theta} & \\frac{1 - \\cos{\\left(\\theta \\right)}}{\\theta}\\\\\\frac{\\cos{\\left(\\theta \\right)} - 1}{\\theta} & \\frac{\\sin{\\left(\\theta \\right)}}{\\theta}\\end{matrix}\\right]$"
      ],
      "text/plain": [
       "Matrix([\n",
       "[      sin(theta)/theta, (1 - cos(theta))/theta],\n",
       "[(cos(theta) - 1)/theta,       sin(theta)/theta]])"
      ]
     },
     "execution_count": 37,
     "metadata": {},
     "output_type": "execute_result"
    }
   ],
   "source": [
    "k = symbols('k', real=True, integer=True)\n",
    "A = summation(((-1)**k/factorial(k+1))*ad_so2**k, (k, 0, oo))\n",
    "\n",
    "A = A.applyfunc(lambda term: term.expand(complex=True).factor().collect([x, y]).simplify())\n",
    "A"
   ]
  },
  {
   "cell_type": "code",
   "execution_count": 27,
   "id": "887cea57",
   "metadata": {},
   "outputs": [
    {
     "data": {
      "text/latex": [
       "$\\displaystyle \\left[\\begin{matrix}\\frac{\\theta \\sin{\\left(\\theta \\right)}}{\\sin^{2}{\\left(\\theta \\right)} + \\cos^{2}{\\left(\\theta \\right)} - 2 \\cos{\\left(\\theta \\right)} + 1} & \\frac{\\theta \\cos{\\left(\\theta \\right)} - \\theta}{\\sin^{2}{\\left(\\theta \\right)} + \\cos^{2}{\\left(\\theta \\right)} - 2 \\cos{\\left(\\theta \\right)} + 1}\\\\\\frac{- \\theta \\cos{\\left(\\theta \\right)} + \\theta}{\\sin^{2}{\\left(\\theta \\right)} + \\cos^{2}{\\left(\\theta \\right)} - 2 \\cos{\\left(\\theta \\right)} + 1} & \\frac{\\theta \\sin{\\left(\\theta \\right)}}{\\sin^{2}{\\left(\\theta \\right)} + \\cos^{2}{\\left(\\theta \\right)} - 2 \\cos{\\left(\\theta \\right)} + 1}\\end{matrix}\\right]$"
      ],
      "text/plain": [
       "Matrix([\n",
       "[           theta*sin(theta)/(sin(theta)**2 + cos(theta)**2 - 2*cos(theta) + 1), (theta*cos(theta) - theta)/(sin(theta)**2 + cos(theta)**2 - 2*cos(theta) + 1)],\n",
       "[(-theta*cos(theta) + theta)/(sin(theta)**2 + cos(theta)**2 - 2*cos(theta) + 1),           theta*sin(theta)/(sin(theta)**2 + cos(theta)**2 - 2*cos(theta) + 1)]])"
      ]
     },
     "execution_count": 27,
     "metadata": {},
     "output_type": "execute_result"
    }
   ],
   "source": [
    "A_inv = A.inv()\n",
    "A_inv"
   ]
  },
  {
   "cell_type": "code",
   "execution_count": 29,
   "id": "56d818c1",
   "metadata": {},
   "outputs": [],
   "source": [
    "U = A_inv@(-ad_so2).exp()"
   ]
  },
  {
   "cell_type": "code",
   "execution_count": 30,
   "id": "2324b017",
   "metadata": {},
   "outputs": [
    {
     "data": {
      "text/latex": [
       "$\\displaystyle \\left[\\begin{matrix}- \\frac{\\theta \\sin{\\left(\\theta \\right)}}{2 \\left(\\cos{\\left(\\theta \\right)} - 1\\right)} & \\frac{\\theta}{2}\\\\- \\frac{\\theta}{2} & - \\frac{\\theta \\sin{\\left(\\theta \\right)}}{2 \\left(\\cos{\\left(\\theta \\right)} - 1\\right)}\\end{matrix}\\right]$"
      ],
      "text/plain": [
       "Matrix([\n",
       "[-theta*sin(theta)/(2*(cos(theta) - 1)),                                theta/2],\n",
       "[                              -theta/2, -theta*sin(theta)/(2*(cos(theta) - 1))]])"
      ]
     },
     "execution_count": 30,
     "metadata": {},
     "output_type": "execute_result"
    }
   ],
   "source": [
    "U = U.applyfunc(lambda term: term.trigsimp().collect([]))\n",
    "U"
   ]
  },
  {
   "cell_type": "code",
   "execution_count": 44,
   "id": "35822e2d",
   "metadata": {},
   "outputs": [
    {
     "data": {
      "text/latex": [
       "$\\displaystyle \\left[\\begin{matrix}- \\frac{\\theta \\sin{\\left(\\theta \\right)}}{2 \\left(\\cos{\\left(\\theta \\right)} - 1\\right)} & \\frac{\\theta}{2}\\\\- \\frac{\\theta}{2} & - \\frac{\\theta \\sin{\\left(\\theta \\right)}}{2 \\left(\\cos{\\left(\\theta \\right)} - 1\\right)}\\end{matrix}\\right]$"
      ],
      "text/plain": [
       "Matrix([\n",
       "[-theta*sin(theta)/(2*(cos(theta) - 1)),                                theta/2],\n",
       "[                              -theta/2, -theta*sin(theta)/(2*(cos(theta) - 1))]])"
      ]
     },
     "execution_count": 44,
     "metadata": {},
     "output_type": "execute_result"
    }
   ],
   "source": [
    "U1 = A2_inv@(-ad_so2).exp()\n",
    "U1 = U1.applyfunc(lambda term: term.trigsimp().collect([]))\n",
    "U1\n"
   ]
  },
  {
   "cell_type": "code",
   "execution_count": 47,
   "id": "4a2141ba",
   "metadata": {},
   "outputs": [
    {
     "data": {
      "text/latex": [
       "$\\displaystyle \\left[\\begin{matrix}- \\frac{\\theta \\sin{\\left(\\theta \\right)}}{2 \\left(\\cos{\\left(\\theta \\right)} - 1\\right)} & \\frac{\\theta}{2}\\\\- \\frac{\\theta}{2} & - \\frac{\\theta \\sin{\\left(\\theta \\right)}}{2 \\left(\\cos{\\left(\\theta \\right)} - 1\\right)}\\end{matrix}\\right]$"
      ],
      "text/plain": [
       "Matrix([\n",
       "[-theta*sin(theta)/(2*(cos(theta) - 1)),                                theta/2],\n",
       "[                              -theta/2, -theta*sin(theta)/(2*(cos(theta) - 1))]])"
      ]
     },
     "execution_count": 47,
     "metadata": {},
     "output_type": "execute_result"
    }
   ],
   "source": [
    "U2 = A1.inv()@ad_so2@(-ad_so2).exp()\n",
    "U2 = U2.applyfunc(lambda term: term.trigsimp().collect([]))\n",
    "U2"
   ]
  },
  {
   "cell_type": "code",
   "execution_count": null,
   "id": "ca8a1347",
   "metadata": {},
   "outputs": [],
   "source": []
  }
 ],
 "metadata": {
  "kernelspec": {
   "display_name": "Python 3 (ipykernel)",
   "language": "python",
   "name": "python3"
  },
  "language_info": {
   "codemirror_mode": {
    "name": "ipython",
    "version": 3
   },
   "file_extension": ".py",
   "mimetype": "text/x-python",
   "name": "python",
   "nbconvert_exporter": "python",
   "pygments_lexer": "ipython3",
   "version": "3.7.12"
  }
 },
 "nbformat": 4,
 "nbformat_minor": 5
}
