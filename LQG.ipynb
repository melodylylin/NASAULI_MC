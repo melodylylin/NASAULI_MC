{
 "cells": [
  {
   "cell_type": "code",
   "execution_count": 4,
   "metadata": {},
   "outputs": [
    {
     "name": "stdout",
     "output_type": "stream",
     "text": [
      "Populating the interactive namespace from numpy and matplotlib\n"
     ]
    }
   ],
   "source": [
    "%pylab inline\n",
    "import control\n",
    "import pyhull\n",
    "import string\n",
    "import picos as pic\n",
    "import cvxopt as cvx\n",
    "import numpy as np\n",
    "import scipy.linalg\n",
    "import scipy.optimize\n",
    "import scipy.integrate\n",
    "import itertools\n",
    "import sympy\n",
    "import sympy.physics.mechanics as me\n",
    "from matplotlib.patches import Ellipse"
   ]
  },
  {
   "cell_type": "code",
   "execution_count": 158,
   "metadata": {},
   "outputs": [],
   "source": [
    "def gam(theta):\n",
    "    gam = np.array([[cos(theta), -sin(theta), 0],\n",
    "                    [sin(theta), cos(theta), 0],\n",
    "                    [0, 0, 1]])\n",
    "    return gam"
   ]
  },
  {
   "cell_type": "code",
   "execution_count": 666,
   "metadata": {},
   "outputs": [],
   "source": [
    "def lqg(x0, ut, P0):\n",
    "    \n",
    "    u = ut[0,0]\n",
    "    w = ut[1,0]\n",
    "    \n",
    "    H = np.array([[1, 0, 0],\n",
    "                  [0, 1, 0]])  # measurment matrix 2*3\n",
    "    # noise variance\n",
    "    M = np.array([[0.00001, 0.00002],\n",
    "                  [0.00002, 0.00002]]) # 2*2 \n",
    "    N = 1*np.eye(2) \n",
    "    \n",
    "    #lq\n",
    "    A_s = np.array([\n",
    "    [1, w, 0],\n",
    "    [-w, 1, u],\n",
    "    [0, 0, 1]])\n",
    "    B = np.array([\n",
    "        [1, 0],\n",
    "        [0, 0],\n",
    "        [0, 1]])\n",
    "    C = H.T @ H\n",
    "    D = np.eye(2)\n",
    "\n",
    "    St = scipy.linalg.solve_discrete_are(A_s, B, C, D) # riccati solution\n",
    "    L = -inv(B.T@St@B+D)@B.T@St@A_s # riccati gain\n",
    "    \n",
    "    # initial condition\n",
    "    P = P0 # covariance\n",
    "    ut_b = ut\n",
    "    u_b = u \n",
    "    w_b = w\n",
    "    xs = x0\n",
    "    xh = xs\n",
    "    xe = []\n",
    "    xr = []\n",
    "    utb = []\n",
    "    xer = []\n",
    "    xe_ = []\n",
    "    \n",
    "    for i in range(5): # 0<=t<=n\n",
    "        \n",
    "        theta = xs[2,0]\n",
    "        # noise\n",
    "        m = np.random.normal(0, sqrt(M), (2,1))\n",
    "        n = np.random.normal(0, sqrt(N), (2,1))\n",
    "        \n",
    "        A = np.array([\n",
    "        [1, w_b, 0],\n",
    "        [-w_b, 1, u_b],\n",
    "        [0, 0, 1]])\n",
    "        \n",
    "        # Kalman filter\n",
    "        # process update\n",
    "        Pp = A@P@A.T+B@M@B.T\n",
    "        xh_ = A@gam(-xh[2,0])@xh + B@ut_b +B@m\n",
    "        # acquire z\n",
    "        z = H@gam(-theta)@xs + n # measurement?\n",
    "\n",
    "        theta_ = xh_[2,0]\n",
    "        # measurement update\n",
    "        Ploc = gam(-theta_)@Pp\n",
    "        K = Ploc@H.T@inv(H@Ploc@H.T+N)\n",
    "        Ploc = (np.eye(3)-K@H)@Ploc\n",
    "        P = inv(gam(-theta_))@Ploc\n",
    "        R = np.array([[cos(-theta_), -sin(-theta_)],\n",
    "                    [sin(-theta_), cos(-theta_)]])\n",
    "        xh = xh_+gam(theta_)@K@R@(z-H@xh_) # x_hat\n",
    "        xe_.append(xh_)\n",
    "        xe.append(xh) # estimation \n",
    "        \n",
    "        # input update\n",
    "        xs = A_s@gam(-theta)@xs + B@ut +B@m\n",
    "        xr.append(xs)\n",
    "        theta = xs[2,0]\n",
    "        ut_b = ut+L@gam(-theta)@(xh-xs)\n",
    "        xer.append(xh-xs)\n",
    "        utb.append(ut_b)\n",
    "        u_b = ut_b[0,0]\n",
    "        w_b = ut_b[1,0]\n",
    "    \n",
    "    return xe, xr, utb, xer, xe_"
   ]
  },
  {
   "cell_type": "code",
   "execution_count": 685,
   "metadata": {},
   "outputs": [],
   "source": [
    "x0 = array([[1],[1],[0]])\n",
    "ut = array([[1],[0]])\n",
    "P0 = array([[1, 0, 0],[0, 1, 0],[0, 0, 1]]) # initial covariance?\n",
    "\n",
    "xe, xr, utb, xer, xe_= lqg(x0, ut, P0)"
   ]
  },
  {
   "cell_type": "code",
   "execution_count": 686,
   "metadata": {},
   "outputs": [
    {
     "data": {
      "text/plain": [
       "[array([[ 1.3314154 ],\n",
       "        [ 0.99866215],\n",
       "        [-0.00366613]]), array([[2.27869939],\n",
       "        [1.00295187],\n",
       "        [0.00262126]]), array([[ 3.63848747e+00],\n",
       "        [ 1.01045806e+00],\n",
       "        [-3.17164032e-03]]), array([[ 4.45945931],\n",
       "        [ 1.01376509],\n",
       "        [-0.00506142]]), array([[ 5.65432430e+00],\n",
       "        [ 1.02283566e+00],\n",
       "        [-2.03528632e-04]])]"
      ]
     },
     "execution_count": 686,
     "metadata": {},
     "output_type": "execute_result"
    }
   ],
   "source": [
    "xe #estimation"
   ]
  },
  {
   "cell_type": "code",
   "execution_count": 687,
   "metadata": {
    "scrolled": true
   },
   "outputs": [
    {
     "data": {
      "text/plain": [
       "[array([[ 2.00399074],\n",
       "        [ 1.        ],\n",
       "        [-0.00298376]]), array([[ 3.00270186e+00],\n",
       "        [ 1.00299120e+00],\n",
       "        [-2.19114183e-03]]), array([[ 4.00028607e+00],\n",
       "        [ 1.00737699e+00],\n",
       "        [-2.07062604e-03]]), array([[ 4.99714935e+00],\n",
       "        [ 1.01358730e+00],\n",
       "        [-3.29807445e-03]]), array([[ 5.99368267e+00],\n",
       "        [ 1.02676465e+00],\n",
       "        [-2.64326087e-03]])]"
      ]
     },
     "execution_count": 687,
     "metadata": {},
     "output_type": "execute_result"
    }
   ],
   "source": [
    "xr # reference trajectory"
   ]
  },
  {
   "cell_type": "code",
   "execution_count": 688,
   "metadata": {},
   "outputs": [
    {
     "data": {
      "text/plain": [
       "[array([[ 2.00399074],\n",
       "        [ 1.        ],\n",
       "        [-0.00298376]]), array([[ 2.74758775e+00],\n",
       "        [ 9.95080375e-01],\n",
       "        [-4.13590372e-04]]), array([[ 3.72335004e+00],\n",
       "        [ 1.01270645e+00],\n",
       "        [-2.49068659e-03]]), array([[ 4.85809032e+00],\n",
       "        [ 1.01718404e+00],\n",
       "        [-4.14379840e-03]]), array([[ 5.78956189e+00],\n",
       "        [ 1.01634961e+00],\n",
       "        [-1.43637608e-03]])]"
      ]
     },
     "execution_count": 688,
     "metadata": {},
     "output_type": "execute_result"
    }
   ],
   "source": [
    "xe_ # estimation (propagate)"
   ]
  },
  {
   "cell_type": "code",
   "execution_count": 689,
   "metadata": {},
   "outputs": [
    {
     "data": {
      "text/plain": [
       "[array([[1.4156701 ],\n",
       "        [0.00245993]]), array([[ 1.44745701],\n",
       "        [-0.00523246]]), array([[1.22360730e+00],\n",
       "        [2.55290323e-04]]), array([[1.33230928],\n",
       "        [0.00297023]]), array([[ 1.20972786e+00],\n",
       "        [-7.29687476e-04]])]"
      ]
     },
     "execution_count": 689,
     "metadata": {},
     "output_type": "execute_result"
    }
   ],
   "source": [
    "utb # new input for estimation"
   ]
  },
  {
   "cell_type": "code",
   "execution_count": 690,
   "metadata": {},
   "outputs": [
    {
     "data": {
      "text/plain": [
       "[array([[-0.67257534],\n",
       "        [-0.00133785],\n",
       "        [-0.00068238]]), array([[-7.24002470e-01],\n",
       "        [-3.93331935e-05],\n",
       "        [ 4.81239778e-03]]), array([[-0.3617986 ],\n",
       "        [ 0.00308106],\n",
       "        [-0.00110101]]), array([[-5.37690043e-01],\n",
       "        [ 1.77787886e-04],\n",
       "        [-1.76334581e-03]]), array([[-0.33935837],\n",
       "        [-0.003929  ],\n",
       "        [ 0.00243973]])]"
      ]
     },
     "execution_count": 690,
     "metadata": {},
     "output_type": "execute_result"
    }
   ],
   "source": [
    "xer #error"
   ]
  },
  {
   "cell_type": "code",
   "execution_count": 691,
   "metadata": {},
   "outputs": [
    {
     "data": {
      "text/plain": [
       "[<matplotlib.lines.Line2D at 0x7ff8f67cdb90>]"
      ]
     },
     "execution_count": 691,
     "metadata": {},
     "output_type": "execute_result"
    },
    {
     "data": {
      "image/png": "[encoded data removed]",
      "text/plain": [
       "<Figure size 432x288 with 1 Axes>"
      ]
     },
     "metadata": {
      "needs_background": "light"
     },
     "output_type": "display_data"
    }
   ],
   "source": [
    "x_est = []\n",
    "y_est = []\n",
    "x_ref = []\n",
    "y_ref = []\n",
    "for i in range(5):\n",
    "    x_est.append(xe[i][0][0])\n",
    "    y_est.append(xe[i][1][0])\n",
    "    x_ref.append(xr[i][0][0])\n",
    "    y_ref.append(xr[i][1][0])\n",
    "    \n",
    "plt.plot(x_est,y_est)\n",
    "plt.plot(x_ref,y_ref)"
   ]
  },
  {
   "cell_type": "code",
   "execution_count": 692,
   "metadata": {},
   "outputs": [],
   "source": [
    "def lqg_turn(x0, ut, P0):\n",
    "    \n",
    "    H = np.array([[1, 0, 0],\n",
    "                  [0, 1, 0]])  # measurment matrix 2*3\n",
    "    # noise variance\n",
    "    M = np.array([[1e-5, 2e-5],\n",
    "                  [2e-5, 2e-5]]) # 2*2 \n",
    "    N = 1*np.eye(2) \n",
    "    \n",
    "    # initial condition\n",
    "    P = P0 # covariance   \n",
    "    u_b = ut[0,0] \n",
    "    w_b = ut[1,0]\n",
    "    ut_b = array([[u_b],[w_b]])\n",
    "    xs = x0\n",
    "    theta = xs[2,0]\n",
    "    xh = xs\n",
    "    xe = []\n",
    "    xr = []\n",
    "    utb = []\n",
    "    xer = []\n",
    "    xe_ = []\n",
    "    Ln = []\n",
    "    \n",
    "    for j in range(4):\n",
    "        u = ut[0,j+1]\n",
    "        w = ut[1,j+1]\n",
    "        #lq\n",
    "        A_s = np.array([\n",
    "        [1, w, 0],\n",
    "        [-w, 1, u],\n",
    "        [0, 0, 1]])\n",
    "        B = np.array([\n",
    "            [1, 0],\n",
    "            [0, 0],\n",
    "            [0, 1]])\n",
    "        C = H.T @ H\n",
    "        D = np.eye(2)\n",
    "\n",
    "        St = scipy.linalg.solve_discrete_are(A_s, B, C, D) # riccati solution\n",
    "        L = -inv(B.T@St@B+D)@B.T@St@A_s # riccati gain\n",
    "        Ln.append(L)\n",
    "    \n",
    "    for i in range(5): # 0<=t<=n\n",
    "\n",
    "        u = ut[0,i]\n",
    "        w = ut[1,i]\n",
    "        theta = xs[2,0]\n",
    "        \n",
    "        A_s = np.array([\n",
    "        [1, w, 0],\n",
    "        [-w, 1, u],\n",
    "        [0, 0, 1]])\n",
    "        \n",
    "        # noise\n",
    "        m = np.random.normal(0, sqrt(M), (2,1))\n",
    "        n = np.random.normal(0, sqrt(N), (2,1))\n",
    "        \n",
    "        A = np.array([\n",
    "        [1, w_b, 0],\n",
    "        [-w_b, 1, u_b],\n",
    "        [0, 0, 1]])\n",
    "        \n",
    "        \n",
    "        # Kalman filter\n",
    "        # process update\n",
    "        Pp = A@P@A.T+B@M@B.T\n",
    "        xh_ = A@gam(-xh[2,0])@xh + B@ut_b +B@m\n",
    "        # acquire z\n",
    "        z = H@gam(-theta)@xs + n # measurement?\n",
    "\n",
    "        theta_ = xh_[2,0]\n",
    "        # measurement update\n",
    "        Ploc = gam(-theta_)@Pp\n",
    "        K = Ploc@H.T@inv(H@Ploc@H.T+N)\n",
    "        Ploc = (np.eye(3)-K@H)@Ploc\n",
    "        P = inv(gam(-theta_))@Ploc\n",
    "        R = np.array([[cos(-theta_), -sin(-theta_)],\n",
    "                    [sin(-theta_), cos(-theta_)]])\n",
    "        xh = xh_+gam(theta_)@K@R@(z-H@xh_) # x_hat\n",
    "        xe_.append(xh_)\n",
    "        xe.append(xh) # estimation \n",
    "        \n",
    "        # input update\n",
    "        theta = xs[2,0]\n",
    "        xs = A_s@gam(-theta)@xs + B@ut[:,i].reshape(2,1) +B@m\n",
    "        xr.append(xs)\n",
    "        if i < 4:\n",
    "            ut_b = Ln[i]@gam(-theta)@(xh-xs) +ut[:,i].reshape(2,1)\n",
    "        xer.append(A)\n",
    "        utb.append(A_s)\n",
    "        u_b = ut_b[0,0]\n",
    "        w_b = ut_b[1,0]\n",
    "    \n",
    "    return xe, xr, utb, xer, xe_"
   ]
  },
  {
   "cell_type": "code",
   "execution_count": 719,
   "metadata": {},
   "outputs": [],
   "source": [
    "x0 = array([[1],[1],[0]])\n",
    "ut = array([[1,1,1,1,1],[0,0,pi/2,0,0]])\n",
    "P0 = array([[1, 0, 0],[0, 1, 0],[0, 0, 1]]) # initial covariance?\n",
    "\n",
    "xe, xr, utb, xer, xe_= lqg_turn(x0, ut, P0)"
   ]
  },
  {
   "cell_type": "code",
   "execution_count": 720,
   "metadata": {},
   "outputs": [
    {
     "data": {
      "text/plain": [
       "[<matplotlib.lines.Line2D at 0x7ff8f7cad050>]"
      ]
     },
     "execution_count": 720,
     "metadata": {},
     "output_type": "execute_result"
    },
    {
     "data": {
      "image/png": "[encoded data removed]",
      "text/plain": [
       "<Figure size 432x288 with 1 Axes>"
      ]
     },
     "metadata": {
      "needs_background": "light"
     },
     "output_type": "display_data"
    }
   ],
   "source": [
    "x_est = []\n",
    "y_est = []\n",
    "x_ref = []\n",
    "y_ref = []\n",
    "for i in range(5):\n",
    "    x_est.append(xe[i][0][0])\n",
    "    y_est.append(xe[i][1][0])\n",
    "    x_ref.append(xr[i][0][0])\n",
    "    y_ref.append(xr[i][1][0])\n",
    "    \n",
    "plt.plot(x_est,y_est)\n",
    "plt.plot(x_ref,y_ref)"
   ]
  },
  {
   "cell_type": "code",
   "execution_count": 683,
   "metadata": {},
   "outputs": [
    {
     "data": {
      "text/plain": [
       "[array([[1.92309918e+00],\n",
       "        [1.00001825e+00],\n",
       "        [3.63594459e-04]]), array([[ 2.65857363],\n",
       "        [ 0.99839538],\n",
       "        [-0.00535685]]), array([[3.3594528 ],\n",
       "        [0.9957202 ],\n",
       "        [0.00502505]]), array([[4.58477942e+00],\n",
       "        [1.00144612e+00],\n",
       "        [3.41424792e-03]]), array([[ 5.76595736e+00],\n",
       "        [ 1.00585788e+00],\n",
       "        [-4.36149570e-03]])]"
      ]
     },
     "execution_count": 683,
     "metadata": {},
     "output_type": "execute_result"
    }
   ],
   "source": [
    "xe # estimation"
   ]
  },
  {
   "cell_type": "code",
   "execution_count": 684,
   "metadata": {},
   "outputs": [
    {
     "data": {
      "text/plain": [
       "[array([[2.],\n",
       "        [1.],\n",
       "        [0.]]), array([[3.],\n",
       "        [1.],\n",
       "        [0.]]), array([[4.],\n",
       "        [1.],\n",
       "        [0.]]), array([[5.],\n",
       "        [1.],\n",
       "        [0.]]), array([[6.],\n",
       "        [1.],\n",
       "        [0.]])]"
      ]
     },
     "execution_count": 684,
     "metadata": {},
     "output_type": "execute_result"
    }
   ],
   "source": [
    "xr #reference"
   ]
  },
  {
   "cell_type": "code",
   "execution_count": 546,
   "metadata": {},
   "outputs": [
    {
     "data": {
      "text/plain": [
       "[array([[1.99836462e+00],\n",
       "        [1.00000000e+00],\n",
       "        [1.11019959e-03]]), array([[2.97225512],\n",
       "        [1.00181777],\n",
       "        [0.00350496]]), array([[4.25204821],\n",
       "        [0.9971319 ],\n",
       "        [0.00858678]]), array([[-14.55782531],\n",
       "        [-18.60915434],\n",
       "        [  5.35111988]]), array([[-47.58402772],\n",
       "        [ 61.25874811],\n",
       "        [ -8.83105138]])]"
      ]
     },
     "execution_count": 546,
     "metadata": {},
     "output_type": "execute_result"
    }
   ],
   "source": [
    "xe_ # estimation (propagate)"
   ]
  },
  {
   "cell_type": "code",
   "execution_count": 586,
   "metadata": {},
   "outputs": [
    {
     "data": {
      "text/plain": [
       "[array([[ 1.,  0.,  0.],\n",
       "        [-0.,  1.,  1.],\n",
       "        [ 0.,  0.,  1.]]), array([[ 1.,  0.,  0.],\n",
       "        [-0.,  1.,  1.],\n",
       "        [ 0.,  0.,  1.]]), array([[ 1.        ,  3.14159265,  0.        ],\n",
       "        [-3.14159265,  1.        ,  1.        ],\n",
       "        [ 0.        ,  0.        ,  1.        ]]), array([[ 1.,  0.,  0.],\n",
       "        [-0.,  1.,  1.],\n",
       "        [ 0.,  0.,  1.]]), array([[ 1.,  0.,  0.],\n",
       "        [-0.,  1.,  1.],\n",
       "        [ 0.,  0.,  1.]])]"
      ]
     },
     "execution_count": 586,
     "metadata": {},
     "output_type": "execute_result"
    }
   ],
   "source": [
    "utb"
   ]
  },
  {
   "cell_type": "code",
   "execution_count": 587,
   "metadata": {},
   "outputs": [
    {
     "data": {
      "text/plain": [
       "[array([[ 1.,  0.,  0.],\n",
       "        [-0.,  1.,  1.],\n",
       "        [ 0.,  0.,  1.]]), array([[ 1.        , -0.0068224 ,  0.        ],\n",
       "        [ 0.0068224 ,  1.        ,  1.51941425],\n",
       "        [ 0.        ,  0.        ,  1.        ]]), array([[ 1.        , -0.59111718,  0.        ],\n",
       "        [ 0.59111718,  1.        ,  1.68907701],\n",
       "        [ 0.        ,  0.        ,  1.        ]]), array([[ 1.        ,  3.42835558,  0.        ],\n",
       "        [-3.42835558,  1.        ,  3.34472582],\n",
       "        [ 0.        ,  0.        ,  1.        ]]), array([[ 1.        , -3.87004134,  0.        ],\n",
       "        [ 3.87004134,  1.        ,  1.30312677],\n",
       "        [ 0.        ,  0.        ,  1.        ]])]"
      ]
     },
     "execution_count": 587,
     "metadata": {},
     "output_type": "execute_result"
    }
   ],
   "source": [
    "xer"
   ]
  },
  {
   "cell_type": "code",
   "execution_count": null,
   "metadata": {},
   "outputs": [],
   "source": []
  },
  {
   "cell_type": "code",
   "execution_count": null,
   "metadata": {},
   "outputs": [],
   "source": []
  },
  {
   "cell_type": "code",
   "execution_count": null,
   "metadata": {},
   "outputs": [],
   "source": []
  },
  {
   "cell_type": "code",
   "execution_count": null,
   "metadata": {},
   "outputs": [],
   "source": []
  },
  {
   "cell_type": "code",
   "execution_count": null,
   "metadata": {},
   "outputs": [],
   "source": []
  },
  {
   "cell_type": "code",
   "execution_count": null,
   "metadata": {},
   "outputs": [],
   "source": []
  },
  {
   "cell_type": "code",
   "execution_count": null,
   "metadata": {},
   "outputs": [],
   "source": []
  },
  {
   "cell_type": "code",
   "execution_count": null,
   "metadata": {},
   "outputs": [],
   "source": []
  },
  {
   "cell_type": "code",
   "execution_count": null,
   "metadata": {},
   "outputs": [],
   "source": []
  },
  {
   "cell_type": "code",
   "execution_count": null,
   "metadata": {},
   "outputs": [],
   "source": []
  },
  {
   "cell_type": "code",
   "execution_count": null,
   "metadata": {},
   "outputs": [],
   "source": []
  },
  {
   "cell_type": "code",
   "execution_count": null,
   "metadata": {},
   "outputs": [],
   "source": []
  },
  {
   "cell_type": "code",
   "execution_count": null,
   "metadata": {},
   "outputs": [],
   "source": []
  },
  {
   "cell_type": "code",
   "execution_count": null,
   "metadata": {},
   "outputs": [],
   "source": []
  }
 ],
 "metadata": {
  "kernelspec": {
   "display_name": "Python 3",
   "language": "python",
   "name": "python3"
  },
  "language_info": {
   "codemirror_mode": {
    "name": "ipython",
    "version": 3
   },
   "file_extension": ".py",
   "mimetype": "text/x-python",
   "name": "python",
   "nbconvert_exporter": "python",
   "pygments_lexer": "ipython3",
   "version": "3.7.4"
  }
 },
 "nbformat": 4,
 "nbformat_minor": 2
}
